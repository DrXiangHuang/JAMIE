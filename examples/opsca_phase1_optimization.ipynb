{
 "cells": [
  {
   "cell_type": "code",
   "execution_count": 1,
   "id": "1a0c3db3-6486-4710-ac69-3904cc94cc9a",
   "metadata": {},
   "outputs": [
    {
     "name": "stderr",
     "output_type": "stream",
     "text": [
      "2021-10-20 12:17:07.274555: W tensorflow/stream_executor/platform/default/dso_loader.cc:64] Could not load dynamic library 'libcudart.so.11.0'; dlerror: libcudart.so.11.0: cannot open shared object file: No such file or directory\n",
      "2021-10-20 12:17:07.274581: I tensorflow/stream_executor/cuda/cudart_stub.cc:29] Ignore above cudart dlerror if you do not have a GPU set up on your machine.\n"
     ]
    },
    {
     "name": "stdout",
     "output_type": "stream",
     "text": [
      "WARNING:tensorflow:From /home/thema/miniconda3/lib/python3.9/site-packages/tensorflow/python/compat/v2_compat.py:101: disable_resource_variables (from tensorflow.python.ops.variable_scope) is deprecated and will be removed in a future version.\n",
      "Instructions for updating:\n",
      "non-resource variables are not supported in the long term\n"
     ]
    }
   ],
   "source": [
    "%load_ext autoreload\n",
    "%autoreload 2\n",
    "\n",
    "import anndata as ad\n",
    "import matplotlib.pyplot as plt\n",
    "from mmd_wrapper import mmd_combine\n",
    "from mmd_wrapper.utilities import alignment_visualize, pairwise_error\n",
    "import numpy as np\n",
    "import pandas as pd\n",
    "\n",
    "from commando import ComManDo"
   ]
  },
  {
   "cell_type": "markdown",
   "id": "16461149-2a27-4f32-bb30-32c7c92fb350",
   "metadata": {},
   "source": [
    "# Read Data"
   ]
  },
  {
   "cell_type": "code",
   "execution_count": 2,
   "id": "a0f1d2b8-6558-48be-8005-b3f4da25a2d4",
   "metadata": {},
   "outputs": [],
   "source": [
    "data_mod1 = ad.read_h5ad('OPSCA/openproblems_bmmc_multiome_phase1/openproblems_bmmc_multiome_phase1.censor_dataset.output_mod1.h5ad')\n",
    "data_mod2 = ad.read_h5ad('OPSCA/openproblems_bmmc_multiome_phase1/openproblems_bmmc_multiome_phase1.censor_dataset.output_mod2.h5ad')"
   ]
  },
  {
   "cell_type": "code",
   "execution_count": 3,
   "id": "85c0eefc-00cb-4fb3-9744-1143857a4af7",
   "metadata": {},
   "outputs": [],
   "source": [
    "samples = 500\n",
    "# from commando.utilities import reduce_sample_data\n",
    "# X1 = reduce_sample_data(data_mod1.X)[:samples]\n",
    "# X2 = reduce_sample_data(data_mod2.X)[:samples]\n",
    "X1 = data_mod1.X[:samples]\n",
    "X2 = data_mod2.X[:samples]"
   ]
  },
  {
   "cell_type": "markdown",
   "id": "fa14ebc2-292c-49d8-81b8-0192c23d855a",
   "metadata": {},
   "source": [
    "# Run Mapping"
   ]
  },
  {
   "cell_type": "code",
   "execution_count": 4,
   "id": "fc65d6f6-b93c-4bba-bd86-e116c658a30e",
   "metadata": {
    "scrolled": true,
    "tags": []
   },
   "outputs": [
    {
     "name": "stdout",
     "output_type": "stream",
     "text": [
      "use random seed: 666\n",
      "Shape of Raw data\n",
      "Dataset 0: (500, 13431)\n",
      "Dataset 1: (500, 116490)\n",
      "use device: cpu\n",
      "---------------------------------\n",
      "Find correspondence between Dataset 1 and Dataset 1\n",
      "Calculating small F #1\n",
      "epoch:[1000/2000] err:0.7841 alpha:0.9656\n",
      "epoch:[2000/2000] err:0.7538 alpha:0.9753\n",
      "Calculating small F #2\n",
      "epoch:[1000/2000] err:0.8153 alpha:0.9672\n",
      "epoch:[2000/2000] err:0.7796 alpha:0.9765\n",
      "Calculating small F #3\n",
      "epoch:[1000/2000] err:0.7913 alpha:0.9659\n",
      "epoch:[2000/2000] err:0.7550 alpha:0.9757\n",
      "Calculating small F #4\n",
      "epoch:[1000/2000] err:0.7721 alpha:0.9655\n",
      "epoch:[2000/2000] err:0.7481 alpha:0.9749\n",
      "Calculating small F #5\n",
      "epoch:[1000/2000] err:0.7889 alpha:0.9654\n",
      "epoch:[2000/2000] err:0.7419 alpha:0.9759\n",
      "Calculating small F #6\n",
      "epoch:[1000/2000] err:0.7849 alpha:0.9658\n",
      "epoch:[2000/2000] err:0.7441 alpha:0.9759\n",
      "Calculating small F #7\n",
      "epoch:[1000/2000] err:0.7837 alpha:0.9656\n",
      "epoch:[2000/2000] err:0.7382 alpha:0.9761\n",
      "Calculating small F #8\n",
      "epoch:[1000/2000] err:0.8255 alpha:0.9667\n",
      "epoch:[2000/2000] err:0.7864 alpha:0.9764\n",
      "Calculating small F #9\n",
      "epoch:[1000/2000] err:0.7657 alpha:0.9657\n",
      "epoch:[2000/2000] err:0.7245 alpha:0.9758\n",
      "Calculating small F #10\n",
      "epoch:[1000/2000] err:0.7956 alpha:0.9649\n",
      "epoch:[2000/2000] err:0.7361 alpha:0.9761\n",
      "Calculating large F\n",
      "epoch:[1000/2000] err:12.5032 alpha:0.1447\n",
      "epoch:[2000/2000] err:5.1713 alpha:0.0599\n",
      "---------------------------------\n",
      "Find correspondence between Dataset 1 and Dataset 2\n",
      "Calculating small F #1\n",
      "epoch:[1000/2000] err:5.1456 alpha:8.5923\n",
      "epoch:[2000/2000] err:3.6156 alpha:12.7304\n",
      "Calculating small F #2\n",
      "epoch:[1000/2000] err:4.7860 alpha:9.0296\n",
      "epoch:[2000/2000] err:3.7671 alpha:13.0488\n",
      "Calculating small F #3\n",
      "epoch:[1000/2000] err:4.8707 alpha:8.3425\n",
      "epoch:[2000/2000] err:3.7718 alpha:12.5301\n",
      "Calculating small F #4\n",
      "epoch:[1000/2000] err:4.9702 alpha:8.7693\n",
      "epoch:[2000/2000] err:3.5951 alpha:12.8022\n",
      "Calculating small F #5\n",
      "epoch:[1000/2000] err:5.2676 alpha:9.1031\n",
      "epoch:[2000/2000] err:3.6897 alpha:13.8333\n",
      "Calculating small F #6\n",
      "epoch:[1000/2000] err:5.4789 alpha:8.6353\n",
      "epoch:[2000/2000] err:3.4858 alpha:14.2981\n",
      "Calculating small F #7\n",
      "epoch:[1000/2000] err:4.7058 alpha:9.9458\n",
      "epoch:[2000/2000] err:3.6020 alpha:12.8389\n",
      "Calculating small F #8\n",
      "epoch:[1000/2000] err:4.8355 alpha:9.4235\n",
      "epoch:[2000/2000] err:3.4484 alpha:13.2473\n",
      "Calculating small F #9\n",
      "epoch:[1000/2000] err:4.4462 alpha:9.8435\n",
      "epoch:[2000/2000] err:3.6330 alpha:12.9582\n",
      "Calculating small F #10\n",
      "epoch:[1000/2000] err:4.8079 alpha:9.6573\n",
      "epoch:[2000/2000] err:3.2862 alpha:13.7121\n",
      "Calculating large F\n",
      "epoch:[1000/2000] err:16.9008 alpha:0.1951\n",
      "epoch:[2000/2000] err:5.9561 alpha:0.0687\n",
      "---------------------------------\n",
      "Find correspondence between Dataset 2 and Dataset 2\n",
      "Calculating small F #1\n",
      "epoch:[1000/2000] err:5.1946 alpha:0.7853\n",
      "epoch:[2000/2000] err:3.1655 alpha:1.0771\n",
      "Calculating small F #2\n",
      "epoch:[1000/2000] err:4.2954 alpha:0.8232\n",
      "epoch:[2000/2000] err:3.7828 alpha:1.0325\n",
      "Calculating small F #3\n",
      "epoch:[1000/2000] err:4.8043 alpha:0.7271\n",
      "epoch:[2000/2000] err:2.7487 alpha:1.0212\n",
      "Calculating small F #4\n",
      "epoch:[1000/2000] err:4.3018 alpha:0.8374\n",
      "epoch:[2000/2000] err:2.8888 alpha:1.0030\n",
      "Calculating small F #5\n",
      "epoch:[1000/2000] err:5.0571 alpha:0.6788\n",
      "epoch:[2000/2000] err:3.0719 alpha:1.0333\n",
      "Calculating small F #6\n",
      "epoch:[1000/2000] err:4.4769 alpha:0.7882\n",
      "epoch:[2000/2000] err:2.8468 alpha:1.0348\n",
      "Calculating small F #7\n",
      "epoch:[1000/2000] err:5.0860 alpha:0.7592\n",
      "epoch:[2000/2000] err:1.7975 alpha:1.0969\n",
      "Calculating small F #8\n",
      "epoch:[1000/2000] err:5.0374 alpha:0.6955\n",
      "epoch:[2000/2000] err:2.7776 alpha:1.0545\n",
      "Calculating small F #9\n",
      "epoch:[1000/2000] err:4.8131 alpha:0.7064\n",
      "epoch:[2000/2000] err:3.2581 alpha:0.9708\n",
      "Calculating small F #10\n",
      "epoch:[1000/2000] err:4.9765 alpha:0.7523\n",
      "epoch:[2000/2000] err:2.3086 alpha:1.0681\n",
      "Calculating large F\n",
      "epoch:[1000/2000] err:16.4563 alpha:0.0147\n",
      "epoch:[2000/2000] err:5.8515 alpha:0.0052\n",
      "Finished Matching!\n",
      "---------------------------------\n",
      "NMAcom Done!\n",
      "time: 15.969409465789795 seconds\n"
     ]
    }
   ],
   "source": [
    "commando_out = (\n",
    "    ComManDo(\n",
    "        distance_mode='euclidean',\n",
    "        epoch_pd=2000,\n",
    "        log_pd=1000,\n",
    "        two_step_num=10,\n",
    "    )\n",
    "    .fit_transform([X1, X2])\n",
    ")"
   ]
  },
  {
   "cell_type": "code",
   "execution_count": 5,
   "id": "ae3afaf6-6578-4be9-8243-d65fa40234e0",
   "metadata": {
    "scrolled": true,
    "tags": []
   },
   "outputs": [
    {
     "name": "stdout",
     "output_type": "stream",
     "text": [
      "use random seed: 666\n",
      "Shape of Raw data\n",
      "Dataset 0: (500, 13431)\n",
      "Dataset 1: (500, 116490)\n",
      "use device: cpu\n",
      "---------------------------------\n",
      "Find correspondence between Dataset 1 and Dataset 1\n",
      "epoch:[100/2000] err:2.4365 alpha:3.4330\n",
      "epoch:[200/2000] err:0.3248 alpha:0.4663\n",
      "epoch:[300/2000] err:0.4166 alpha:0.5995\n",
      "epoch:[400/2000] err:0.4384 alpha:0.6395\n",
      "epoch:[500/2000] err:0.4529 alpha:0.6720\n",
      "epoch:[600/2000] err:0.4628 alpha:0.7004\n",
      "epoch:[700/2000] err:0.4691 alpha:0.7260\n",
      "epoch:[800/2000] err:0.4726 alpha:0.7494\n",
      "epoch:[900/2000] err:0.4742 alpha:0.7709\n",
      "epoch:[1000/2000] err:0.4742 alpha:0.7906\n",
      "epoch:[1100/2000] err:0.4729 alpha:0.8086\n",
      "epoch:[1200/2000] err:0.4704 alpha:0.8251\n",
      "epoch:[1300/2000] err:0.4670 alpha:0.8403\n",
      "epoch:[1400/2000] err:0.4627 alpha:0.8541\n",
      "epoch:[1500/2000] err:0.4577 alpha:0.8667\n",
      "epoch:[1600/2000] err:0.4523 alpha:0.8783\n",
      "epoch:[1700/2000] err:0.4464 alpha:0.8888\n",
      "epoch:[1800/2000] err:0.4404 alpha:0.8984\n",
      "epoch:[1900/2000] err:0.4344 alpha:0.9072\n",
      "epoch:[2000/2000] err:0.4283 alpha:0.9152\n",
      "---------------------------------\n",
      "Find correspondence between Dataset 1 and Dataset 2\n",
      "epoch:[100/2000] err:97.3379 alpha:275.8035\n",
      "epoch:[200/2000] err:13.0413 alpha:36.9521\n",
      "epoch:[300/2000] err:1.7473 alpha:4.9508\n",
      "epoch:[400/2000] err:1.1517 alpha:0.7818\n",
      "epoch:[500/2000] err:2.4144 alpha:1.1009\n",
      "epoch:[600/2000] err:2.4507 alpha:1.6495\n",
      "epoch:[700/2000] err:2.4197 alpha:2.2693\n",
      "epoch:[800/2000] err:2.3662 alpha:2.9210\n",
      "epoch:[900/2000] err:2.3221 alpha:3.5829\n",
      "epoch:[1000/2000] err:2.3031 alpha:4.2402\n",
      "epoch:[1100/2000] err:2.3129 alpha:4.8825\n",
      "epoch:[1200/2000] err:2.3494 alpha:5.5018\n",
      "epoch:[1300/2000] err:2.4077 alpha:6.0925\n",
      "epoch:[1400/2000] err:2.4818 alpha:6.6512\n",
      "epoch:[1500/2000] err:2.5662 alpha:7.1760\n",
      "epoch:[1600/2000] err:2.6563 alpha:7.6664\n",
      "epoch:[1700/2000] err:2.7485 alpha:8.1223\n",
      "epoch:[1800/2000] err:2.8401 alpha:8.5453\n",
      "epoch:[1900/2000] err:2.9293 alpha:8.9370\n",
      "epoch:[2000/2000] err:3.0152 alpha:9.2987\n",
      "---------------------------------\n",
      "Find correspondence between Dataset 2 and Dataset 2\n",
      "epoch:[100/2000] err:85.4106 alpha:16.1056\n",
      "epoch:[200/2000] err:11.4433 alpha:2.1578\n",
      "epoch:[300/2000] err:1.5332 alpha:0.2891\n",
      "epoch:[400/2000] err:3.5691 alpha:0.1143\n",
      "epoch:[500/2000] err:3.9493 alpha:0.1455\n",
      "epoch:[600/2000] err:3.8012 alpha:0.1942\n",
      "epoch:[700/2000] err:3.6423 alpha:0.2463\n",
      "epoch:[800/2000] err:3.5049 alpha:0.2986\n",
      "epoch:[900/2000] err:3.3955 alpha:0.3498\n",
      "epoch:[1000/2000] err:3.3180 alpha:0.3988\n",
      "epoch:[1100/2000] err:3.2679 alpha:0.4454\n",
      "epoch:[1200/2000] err:3.2396 alpha:0.4892\n",
      "epoch:[1300/2000] err:3.2269 alpha:0.5304\n",
      "epoch:[1400/2000] err:3.2270 alpha:0.5689\n",
      "epoch:[1500/2000] err:3.2369 alpha:0.6048\n",
      "epoch:[1600/2000] err:3.2526 alpha:0.6381\n",
      "epoch:[1700/2000] err:3.2720 alpha:0.6690\n",
      "epoch:[1800/2000] err:3.2942 alpha:0.6975\n",
      "epoch:[1900/2000] err:3.3177 alpha:0.7238\n",
      "epoch:[2000/2000] err:3.3418 alpha:0.7479\n",
      "Finished Matching!\n",
      "---------------------------------\n",
      "NMAcom Done!\n",
      "time: 33.66514277458191 seconds\n"
     ]
    }
   ],
   "source": [
    "commando_out_no_optimization = (\n",
    "    ComManDo(\n",
    "        distance_mode='euclidean',\n",
    "        epoch_pd=2000,\n",
    "        log_pd=100,\n",
    "    )\n",
    "    .fit_transform([X1, X2])\n",
    ")"
   ]
  },
  {
   "cell_type": "markdown",
   "id": "ca576e9d-b1d9-4725-afd2-c1ea096bb6da",
   "metadata": {},
   "source": [
    "# Evaluate"
   ]
  },
  {
   "cell_type": "code",
   "execution_count": 6,
   "id": "b54add35-7eea-43a4-82fe-961e35c69f3e",
   "metadata": {},
   "outputs": [
    {
     "name": "stdout",
     "output_type": "stream",
     "text": [
      "ComManDo Optimized Pairwise Error: 0.3695436623653394\n",
      "ComManDo Pairwise Error: 1.1949092639376717\n"
     ]
    },
    {
     "data": {
      "image/png": "[encoded data removed]",
      "text/plain": [
       "<Figure size 864x432 with 2 Axes>"
      ]
     },
     "metadata": {
      "needs_background": "light"
     },
     "output_type": "display_data"
    }
   ],
   "source": [
    "print('ComManDo Optimized Pairwise Error: ' + str(pairwise_error(*commando_out, normalize_by_feature=True)))\n",
    "print('ComManDo Pairwise Error: ' + str(pairwise_error(*commando_out_no_optimization, normalize_by_feature=True)))\n",
    "\n",
    "plt.subplots(figsize=(12, 6))\n",
    "plt.subplot(1, 2, 1)\n",
    "alignment_visualize(*commando_out, alg_name='ComManDo Optimized')\n",
    "\n",
    "plt.subplot(1, 2, 2)\n",
    "alignment_visualize(*commando_out_no_optimization, alg_name='ComManDo')\n",
    "\n",
    "# plt.subplot(1, 2, 2)\n",
    "# plt.axis([-.1, .1, -.1, .1])\n",
    "# alignment_visualize(*commando_out, alg_name='ComManDo (Zoomed)')"
   ]
  }
 ],
 "metadata": {
  "kernelspec": {
   "display_name": "Python 3 (ipykernel)",
   "language": "python",
   "name": "python3"
  },
  "language_info": {
   "codemirror_mode": {
    "name": "ipython",
    "version": 3
   },
   "file_extension": ".py",
   "mimetype": "text/x-python",
   "name": "python",
   "nbconvert_exporter": "python",
   "pygments_lexer": "ipython3",
   "version": "3.9.5"
  }
 },
 "nbformat": 4,
 "nbformat_minor": 5
}
