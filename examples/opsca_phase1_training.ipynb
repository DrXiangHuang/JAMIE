{
 "cells": [
  {
   "cell_type": "code",
   "execution_count": 1,
   "id": "1a0c3db3-6486-4710-ac69-3904cc94cc9a",
   "metadata": {},
   "outputs": [
    {
     "name": "stdout",
     "output_type": "stream",
     "text": [
      "WARNING:tensorflow:From /home/nkalafut/repos/comManDo/env/lib/python3.9/site-packages/tensorflow/python/compat/v2_compat.py:101: disable_resource_variables (from tensorflow.python.ops.variable_scope) is deprecated and will be removed in a future version.\n",
      "Instructions for updating:\n",
      "non-resource variables are not supported in the long term\n"
     ]
    }
   ],
   "source": [
    "%load_ext autoreload\n",
    "%autoreload 2\n",
    "\n",
    "import anndata as ad\n",
    "import matplotlib.pyplot as plt\n",
    "from mmd_wrapper import mmd_combine\n",
    "from mmd_wrapper.utilities import alignment_visualize, pairwise_error\n",
    "import numpy as np\n",
    "import pandas as pd\n",
    "\n",
    "from commando import ComManDo"
   ]
  },
  {
   "cell_type": "markdown",
   "id": "16461149-2a27-4f32-bb30-32c7c92fb350",
   "metadata": {},
   "source": [
    "# Read Data"
   ]
  },
  {
   "cell_type": "code",
   "execution_count": 2,
   "id": "a0f1d2b8-6558-48be-8005-b3f4da25a2d4",
   "metadata": {},
   "outputs": [],
   "source": [
    "# data_mod1 = ad.read_h5ad('OPSCA/openproblems_bmmc_multiome_phase1/openproblems_bmmc_multiome_phase1.censor_dataset.output_mod1.h5ad')\n",
    "# data_mod2 = ad.read_h5ad('OPSCA/openproblems_bmmc_multiome_phase1/openproblems_bmmc_multiome_phase1.censor_dataset.output_mod2.h5ad')\n",
    "\n",
    "data_mod1 = ad.read_h5ad('OPSCA/openproblems_bmmc_cite_phase1/openproblems_bmmc_cite_phase1.censor_dataset.output_mod1.h5ad')\n",
    "data_mod2 = ad.read_h5ad('OPSCA/openproblems_bmmc_cite_phase1/openproblems_bmmc_cite_phase1.censor_dataset.output_mod2.h5ad')"
   ]
  },
  {
   "cell_type": "code",
   "execution_count": 3,
   "id": "85c0eefc-00cb-4fb3-9744-1143857a4af7",
   "metadata": {},
   "outputs": [],
   "source": [
    "X1 = data_mod1.X\n",
    "X2 = data_mod2.X"
   ]
  },
  {
   "cell_type": "markdown",
   "id": "fa14ebc2-292c-49d8-81b8-0192c23d855a",
   "metadata": {},
   "source": [
    "# Run Mapping"
   ]
  },
  {
   "cell_type": "markdown",
   "id": "67c189c8-42c2-4bf5-9953-6dca9698a4f4",
   "metadata": {},
   "source": [
    "To large matrix construction: 5m46s\n",
    "\n",
    "Constructed: 6m30s\n",
    "\n",
    "Uses 110Gb (148Gb virtual) for 141 partitions using 1000 epochs for each F\n",
    "\n",
    "Time excludes eigenvector step\n",
    "\n",
    "Uses ~5.4Gb (22.4Gb virtual) during calculation with Jupyter Lab\n",
    "\n",
    "Note that GPU should have fewer partitions due to better parallelization"
   ]
  },
  {
   "cell_type": "code",
   "execution_count": null,
   "id": "fc65d6f6-b93c-4bba-bd86-e116c658a30e",
   "metadata": {
    "scrolled": true,
    "tags": []
   },
   "outputs": [
    {
     "name": "stdout",
     "output_type": "stream",
     "text": [
      "use random seed: 666\n",
      "Two-Step group sizes:\n",
      "312, 312, 312, 312, 312, 312, 312, 312, 312, 312, 312, 312, 312, 312, 312, 312, 312, 312, 312, 312, 312, 312, 312, 312, 312, 312, 312, 312, 312, 312, 312, 312, 312, 312, 312, 312, 312, 312, 312, 311, 311, 311, 311, 311, 311, 311, 311, 311, 311, 311, 311, 311, 311, 311, 311, 311, 311, 311, 311, 311, 311, 311, 311, 311, 311, 311, 311, 311, 311, 311, 311, 311, 311, 311, 311, 311, 311, 311, 311, 311, 311, 311, 311, 311, 311, 311, 311, 311, 311, 311, 311, 311, 311, 311, 311, 311, 311, 311, 311, 311, 311, 311, 311, 311, 311, 311, 311, 311, 311, 311, 311, 311, 311, 311, 311, 311, 311, 311, 311, 311, 311, 311, 311, 311, 311, 311, 311, 311, 311, 311, 311, 311, 311, 311, 311, 311, 311, 311, 311, 311, 311\n",
      "Shape of Raw data\n",
      "Dataset 0: (43890, 13953)\n",
      "Dataset 1: (43890, 134)\n",
      "Device: cuda:0\n",
      "---------------------------------\n",
      "Find correspondence between Dataset 1 and Dataset 1\n",
      "Calculating intra-group F #14\n",
      "epoch:[1000/1000] err:0.4049 alpha:0.8946\n",
      "Calculating intra-group F #28\n",
      "epoch:[1000/1000] err:0.4019 alpha:0.8952\n",
      "Calculating intra-group F #42\n",
      "epoch:[1000/1000] err:0.4005 alpha:0.8952\n",
      "Calculating intra-group F #56\n",
      "epoch:[1000/1000] err:0.3914 alpha:0.8951\n",
      "Calculating intra-group F #70\n",
      "epoch:[1000/1000] err:0.3932 alpha:0.8953\n",
      "Calculating intra-group F #84\n",
      "epoch:[1000/1000] err:0.4082 alpha:0.8963\n",
      "Calculating intra-group F #98\n",
      "epoch:[1000/1000] err:0.4037 alpha:0.8953\n",
      "Calculating intra-group F #112\n",
      "epoch:[1000/1000] err:0.4039 alpha:0.8962\n",
      "Calculating intra-group F #126\n",
      "epoch:[1000/1000] err:0.4036 alpha:0.8957\n",
      "Calculating intra-group F #140\n",
      "epoch:[1000/1000] err:0.4027 alpha:0.8951\n",
      "Calculating inter-group F\n",
      "epoch:[1000/1000] err:4.6972 alpha:0.8869\n",
      "---------------------------------\n",
      "Find correspondence between Dataset 1 and Dataset 2\n",
      "Calculating intra-group F #14\n",
      "epoch:[1000/1000] err:0.2302 alpha:0.3146\n",
      "Calculating intra-group F #28\n",
      "epoch:[1000/1000] err:0.2329 alpha:0.3109\n",
      "Calculating intra-group F #42\n",
      "epoch:[1000/1000] err:0.2289 alpha:0.3036\n",
      "Calculating intra-group F #56\n",
      "epoch:[1000/1000] err:0.2391 alpha:0.3129\n",
      "Calculating intra-group F #70\n",
      "epoch:[1000/1000] err:0.2375 alpha:0.2941\n",
      "Calculating intra-group F #84\n",
      "epoch:[1000/1000] err:0.2147 alpha:0.3093\n",
      "Calculating intra-group F #98\n",
      "epoch:[1000/1000] err:0.2318 alpha:0.3147\n",
      "Calculating intra-group F #112\n",
      "epoch:[1000/1000] err:0.2119 alpha:0.3256\n",
      "Calculating intra-group F #126\n",
      "epoch:[1000/1000] err:0.2263 alpha:0.3085\n",
      "Calculating intra-group F #140\n",
      "epoch:[1000/1000] err:0.2504 alpha:0.3014\n",
      "Calculating inter-group F\n",
      "epoch:[1000/1000] err:1.7015 alpha:0.3432\n",
      "---------------------------------\n",
      "Find correspondence between Dataset 2 and Dataset 2\n",
      "Calculating intra-group F #14\n",
      "epoch:[1000/1000] err:0.2963 alpha:0.8524\n",
      "Calculating intra-group F #28\n",
      "epoch:[1000/1000] err:0.2968 alpha:0.8529\n",
      "Calculating intra-group F #42\n",
      "epoch:[1000/1000] err:0.2861 alpha:0.8535\n",
      "Calculating intra-group F #56\n",
      "epoch:[1000/1000] err:0.2982 alpha:0.8509\n",
      "Calculating intra-group F #70\n",
      "epoch:[1000/1000] err:0.2792 alpha:0.8552\n",
      "Calculating intra-group F #84\n",
      "epoch:[1000/1000] err:0.2896 alpha:0.8536\n",
      "Calculating intra-group F #98\n",
      "epoch:[1000/1000] err:0.2921 alpha:0.8552\n",
      "Calculating intra-group F #112\n",
      "epoch:[1000/1000] err:0.2935 alpha:0.8541\n",
      "Calculating intra-group F #126\n",
      "epoch:[1000/1000] err:0.2871 alpha:0.8554\n",
      "Calculating intra-group F #140\n",
      "epoch:[1000/1000] err:0.2920 alpha:0.8555\n",
      "Calculating inter-group F\n",
      "epoch:[1000/1000] err:2.0478 alpha:0.9656\n",
      "Finished Matching!\n",
      "---------------------------------\n",
      "Performing NLMA\n",
      "Applying Coefficients\n",
      "Computing Laplacian\n",
      "Constructing L\n",
      "Calculating eigenvectors\n"
     ]
    }
   ],
   "source": [
    "commando_out = (\n",
    "    ComManDo(\n",
    "        distance_mode='euclidean',\n",
    "        epoch_pd=1000,\n",
    "        two_step_pd_large=1000,\n",
    "        log_pd=1000,\n",
    "        two_step_num_partitions=141,\n",
    "    )\n",
    "    .fit_transform([X1, X2])\n",
    ")"
   ]
  },
  {
   "cell_type": "markdown",
   "id": "ca576e9d-b1d9-4725-afd2-c1ea096bb6da",
   "metadata": {},
   "source": [
    "# Evaluate"
   ]
  },
  {
   "cell_type": "code",
   "execution_count": null,
   "id": "b54add35-7eea-43a4-82fe-961e35c69f3e",
   "metadata": {},
   "outputs": [],
   "source": [
    "print('ComManDo Pairwise Error: ' + str(pairwise_error(*commando_out, normalize_by_feature=True)))\n",
    "\n",
    "plt.subplots(figsize=(12, 6))\n",
    "plt.subplot(1, 2, 1)\n",
    "alignment_visualize(*commando_out, alg_name='ComManDo')\n",
    "\n",
    "plt.subplot(1, 2, 2)\n",
    "plt.axis([-.1, .1, -.1, .1])\n",
    "alignment_visualize(*commando_out, alg_name='ComManDo (Zoomed)')"
   ]
  }
 ],
 "metadata": {
  "kernelspec": {
   "display_name": "Python 3 (ipykernel)",
   "language": "python",
   "name": "python3"
  },
  "language_info": {
   "codemirror_mode": {
    "name": "ipython",
    "version": 3
   },
   "file_extension": ".py",
   "mimetype": "text/x-python",
   "name": "python",
   "nbconvert_exporter": "python",
   "pygments_lexer": "ipython3",
   "version": "3.9.5"
  }
 },
 "nbformat": 4,
 "nbformat_minor": 5
}
