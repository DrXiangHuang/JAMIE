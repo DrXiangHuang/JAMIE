{
 "cells": [
  {
   "cell_type": "code",
   "execution_count": 1,
   "id": "1a0c3db3-6486-4710-ac69-3904cc94cc9a",
   "metadata": {},
   "outputs": [
    {
     "name": "stderr",
     "output_type": "stream",
     "text": [
      "2021-11-03 12:51:47.756070: W tensorflow/stream_executor/platform/default/dso_loader.cc:64] Could not load dynamic library 'libcudart.so.11.0'; dlerror: libcudart.so.11.0: cannot open shared object file: No such file or directory\n",
      "2021-11-03 12:51:47.756106: I tensorflow/stream_executor/cuda/cudart_stub.cc:29] Ignore above cudart dlerror if you do not have a GPU set up on your machine.\n"
     ]
    },
    {
     "name": "stdout",
     "output_type": "stream",
     "text": [
      "WARNING:tensorflow:From /home/thema/miniconda3/lib/python3.9/site-packages/tensorflow/python/compat/v2_compat.py:101: disable_resource_variables (from tensorflow.python.ops.variable_scope) is deprecated and will be removed in a future version.\n",
      "Instructions for updating:\n",
      "non-resource variables are not supported in the long term\n"
     ]
    }
   ],
   "source": [
    "%load_ext autoreload\n",
    "%autoreload 2\n",
    "\n",
    "import anndata as ad\n",
    "import matplotlib.pyplot as plt\n",
    "from mmd_wrapper import mmd_combine\n",
    "from mmd_wrapper.utilities import alignment_visualize, pairwise_error\n",
    "import numpy as np\n",
    "import pandas as pd\n",
    "\n",
    "from commando import ComManDo"
   ]
  },
  {
   "cell_type": "markdown",
   "id": "16461149-2a27-4f32-bb30-32c7c92fb350",
   "metadata": {},
   "source": [
    "# Read Data"
   ]
  },
  {
   "cell_type": "code",
   "execution_count": 2,
   "id": "a0f1d2b8-6558-48be-8005-b3f4da25a2d4",
   "metadata": {},
   "outputs": [],
   "source": [
    "data_mod1 = ad.read_h5ad('OPSCA/openproblems_bmmc_multiome_phase1/openproblems_bmmc_multiome_phase1.censor_dataset.output_mod1.h5ad')\n",
    "data_mod2 = ad.read_h5ad('OPSCA/openproblems_bmmc_multiome_phase1/openproblems_bmmc_multiome_phase1.censor_dataset.output_mod2.h5ad')"
   ]
  },
  {
   "cell_type": "code",
   "execution_count": 3,
   "id": "85c0eefc-00cb-4fb3-9744-1143857a4af7",
   "metadata": {},
   "outputs": [],
   "source": [
    "X1 = data_mod1.X\n",
    "X2 = data_mod2.X"
   ]
  },
  {
   "cell_type": "markdown",
   "id": "fa14ebc2-292c-49d8-81b8-0192c23d855a",
   "metadata": {},
   "source": [
    "# Run Mapping"
   ]
  },
  {
   "cell_type": "code",
   "execution_count": null,
   "id": "fc65d6f6-b93c-4bba-bd86-e116c658a30e",
   "metadata": {
    "scrolled": true,
    "tags": []
   },
   "outputs": [
    {
     "name": "stdout",
     "output_type": "stream",
     "text": [
      "use random seed: 666\n",
      "Two-Step group sizes:\n",
      "160, 160, 160, 160, 160, 160, 160, 160, 160, 160, 160, 160, 160, 160, 160, 160, 160, 160, 160, 160, 160, 160, 160, 160, 160, 160, 160, 160, 160, 160, 160, 160, 160, 160, 160, 160, 160, 160, 160, 160, 160, 160, 160, 160, 159, 159, 159, 159, 159, 159, 159, 159, 159, 159, 159, 159, 159, 159, 159, 159, 159, 159, 159, 159, 159, 159, 159, 159, 159, 159, 159, 159, 159, 159, 159, 159, 159, 159, 159, 159, 159, 159, 159, 159, 159, 159, 159, 159, 159, 159, 159, 159, 159, 159, 159, 159, 159, 159, 159, 159, 159, 159, 159, 159, 159, 159, 159, 159, 159, 159, 159, 159, 159, 159, 159, 159, 159, 159, 159, 159, 159, 159, 159, 159, 159, 159, 159, 159, 159, 159, 159, 159, 159, 159, 159, 159, 159, 159, 159, 159, 159\n",
      "Shape of Raw data\n",
      "Dataset 0: (22463, 13431)\n",
      "Dataset 1: (22463, 116490)\n",
      "Device: cpu\n",
      "---------------------------------\n",
      "Find correspondence between Dataset 1 and Dataset 1\n",
      "Calculating intra-group F #14\n",
      "epoch:[1000/1000] err:0.4749 alpha:0.9669\n",
      "Calculating intra-group F #28\n",
      "epoch:[1000/1000] err:0.4849 alpha:0.9674\n",
      "Calculating intra-group F #42\n",
      "epoch:[1000/1000] err:0.4924 alpha:0.9667\n",
      "Calculating intra-group F #56\n",
      "epoch:[1000/1000] err:0.4907 alpha:0.9669\n",
      "Calculating intra-group F #70\n",
      "epoch:[1000/1000] err:0.4773 alpha:0.9669\n",
      "Calculating intra-group F #84\n",
      "epoch:[1000/1000] err:0.4894 alpha:0.9672\n",
      "Calculating intra-group F #98\n",
      "epoch:[1000/1000] err:0.5025 alpha:0.9665\n",
      "Calculating intra-group F #112\n",
      "epoch:[1000/1000] err:0.4810 alpha:0.9674\n",
      "Calculating intra-group F #126\n",
      "epoch:[1000/1000] err:0.4765 alpha:0.9666\n",
      "Calculating intra-group F #140\n",
      "epoch:[1000/1000] err:0.4744 alpha:0.9675\n",
      "Calculating inter-group F\n",
      "epoch:[1000/1000] err:4.8346 alpha:0.8800\n",
      "---------------------------------\n",
      "Find correspondence between Dataset 1 and Dataset 2\n",
      "Calculating intra-group F #14\n",
      "epoch:[1000/1000] err:4.9411 alpha:11.6419\n",
      "Calculating intra-group F #28\n",
      "epoch:[1000/1000] err:4.8140 alpha:11.1006\n",
      "Calculating intra-group F #42\n",
      "epoch:[1000/1000] err:4.7448 alpha:10.7341\n",
      "Calculating intra-group F #56\n",
      "epoch:[1000/1000] err:4.8688 alpha:11.1208\n",
      "Calculating intra-group F #70\n",
      "epoch:[1000/1000] err:4.8743 alpha:11.4984\n",
      "Calculating intra-group F #84\n",
      "epoch:[1000/1000] err:4.9227 alpha:11.3223\n",
      "Calculating intra-group F #98\n",
      "epoch:[1000/1000] err:4.9538 alpha:11.1905\n",
      "Calculating intra-group F #112\n",
      "epoch:[1000/1000] err:4.6693 alpha:10.9510\n",
      "Calculating intra-group F #126\n",
      "epoch:[1000/1000] err:5.0555 alpha:12.0655\n",
      "Calculating intra-group F #140\n",
      "epoch:[1000/1000] err:4.8582 alpha:11.4143\n",
      "Calculating inter-group F\n",
      "epoch:[1000/1000] err:11.2906 alpha:1.9562\n",
      "---------------------------------\n",
      "Find correspondence between Dataset 2 and Dataset 2\n",
      "Calculating intra-group F #14\n",
      "epoch:[1000/1000] err:4.8761 alpha:0.8412\n",
      "Calculating intra-group F #28\n",
      "epoch:[1000/1000] err:4.8114 alpha:0.8432\n",
      "Calculating intra-group F #42\n",
      "epoch:[1000/1000] err:4.7632 alpha:0.8527\n",
      "Calculating intra-group F #56\n",
      "epoch:[1000/1000] err:4.8076 alpha:0.8468\n",
      "Calculating intra-group F #70\n",
      "epoch:[1000/1000] err:4.8980 alpha:0.8402\n",
      "Calculating intra-group F #84\n",
      "epoch:[1000/1000] err:4.9073 alpha:0.8452\n",
      "Calculating intra-group F #98\n",
      "epoch:[1000/1000] err:4.8649 alpha:0.8448\n",
      "Calculating intra-group F #112\n",
      "epoch:[1000/1000] err:4.7398 alpha:0.8492\n",
      "Calculating intra-group F #126\n",
      "epoch:[1000/1000] err:5.0464 alpha:0.8355\n",
      "Calculating intra-group F #140\n",
      "epoch:[1000/1000] err:4.8537 alpha:0.8426\n",
      "Calculating inter-group F\n",
      "epoch:[1000/1000] err:11.4600 alpha:0.1413\n",
      "Finished Matching!\n",
      "---------------------------------\n",
      "Performing NLMA\n",
      "Applying Coefficients\n",
      "Computing Laplacian\n",
      "Constructing L\n",
      "Calculating eigenvectors\n"
     ]
    }
   ],
   "source": [
    "commando_out = (\n",
    "    ComManDo(\n",
    "        distance_mode='euclidean',\n",
    "        epoch_pd=1000,\n",
    "        two_step_pd_large=1000,\n",
    "        log_pd=1000,\n",
    "        two_step_num_partitions=141,\n",
    "    )\n",
    "    .fit_transform([X1, X2])\n",
    ")"
   ]
  },
  {
   "cell_type": "markdown",
   "id": "ca576e9d-b1d9-4725-afd2-c1ea096bb6da",
   "metadata": {},
   "source": [
    "# Evaluate"
   ]
  },
  {
   "cell_type": "code",
   "execution_count": null,
   "id": "b54add35-7eea-43a4-82fe-961e35c69f3e",
   "metadata": {},
   "outputs": [],
   "source": [
    "print('ComManDo Pairwise Error: ' + str(pairwise_error(*commando_out, normalize_by_feature=True)))\n",
    "\n",
    "plt.subplots(figsize=(12, 6))\n",
    "plt.subplot(1, 2, 1)\n",
    "alignment_visualize(*commando_out, alg_name='ComManDo')\n",
    "\n",
    "plt.subplot(1, 2, 2)\n",
    "plt.axis([-.1, .1, -.1, .1])\n",
    "alignment_visualize(*commando_out, alg_name='ComManDo (Zoomed)')"
   ]
  }
 ],
 "metadata": {
  "kernelspec": {
   "display_name": "Python 3 (ipykernel)",
   "language": "python",
   "name": "python3"
  },
  "language_info": {
   "codemirror_mode": {
    "name": "ipython",
    "version": 3
   },
   "file_extension": ".py",
   "mimetype": "text/x-python",
   "name": "python",
   "nbconvert_exporter": "python",
   "pygments_lexer": "ipython3",
   "version": "3.9.5"
  }
 },
 "nbformat": 4,
 "nbformat_minor": 5
}
