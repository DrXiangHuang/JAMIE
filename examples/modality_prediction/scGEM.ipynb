{
 "cells": [
  {
   "cell_type": "code",
   "execution_count": 1,
   "id": "a54a4980-d3b7-4664-9035-4abcb92b1ab5",
   "metadata": {
    "execution": {
     "iopub.execute_input": "2022-02-23T06:34:09.452655Z",
     "iopub.status.busy": "2022-02-23T06:34:09.452145Z",
     "iopub.status.idle": "2022-02-23T06:34:09.462210Z",
     "shell.execute_reply": "2022-02-23T06:34:09.461223Z"
    },
    "tags": []
   },
   "outputs": [],
   "source": [
    "%load_ext autoreload\n",
    "%autoreload 2"
   ]
  },
  {
   "cell_type": "code",
   "execution_count": 2,
   "id": "342bee2d-d6d8-49aa-98ba-79a38ade4175",
   "metadata": {
    "execution": {
     "iopub.execute_input": "2022-02-23T06:34:09.469354Z",
     "iopub.status.busy": "2022-02-23T06:34:09.468658Z",
     "iopub.status.idle": "2022-02-23T06:34:13.127204Z",
     "shell.execute_reply": "2022-02-23T06:34:13.126738Z"
    },
    "tags": []
   },
   "outputs": [
    {
     "name": "stderr",
     "output_type": "stream",
     "text": [
      "2022-02-23 00:34:11.733131: W tensorflow/stream_executor/platform/default/dso_loader.cc:64] Could not load dynamic library 'libcudart.so.11.0'; dlerror: libcudart.so.11.0: cannot open shared object file: No such file or directory\n",
      "2022-02-23 00:34:11.733184: I tensorflow/stream_executor/cuda/cudart_stub.cc:29] Ignore above cudart dlerror if you do not have a GPU set up on your machine.\n"
     ]
    }
   ],
   "source": [
    "from commando import ComManDo\n",
    "from commando.evaluation import test_partial\n",
    "import matplotlib.pyplot as plt\n",
    "import numpy as np\n",
    "from sklearn.metrics import confusion_matrix\n",
    "import torch"
   ]
  },
  {
   "cell_type": "code",
   "execution_count": 3,
   "id": "b6206e91-f09d-4d3b-81b1-461ea9c57df2",
   "metadata": {
    "execution": {
     "iopub.execute_input": "2022-02-23T06:34:13.135916Z",
     "iopub.status.busy": "2022-02-23T06:34:13.132456Z",
     "iopub.status.idle": "2022-02-23T06:34:13.221170Z",
     "shell.execute_reply": "2022-02-23T06:34:13.220742Z"
    },
    "tags": []
   },
   "outputs": [],
   "source": [
    "data2 = np.loadtxt(\"../data/UnionCom/scGEM/GeneExpression.txt\")\n",
    "data1 = np.loadtxt(\"../data/UnionCom/scGEM/DNAmethylation.txt\")\n",
    "type1 = np.loadtxt(\"../data/UnionCom/scGEM/type1.txt\")\n",
    "type2 = np.loadtxt(\"../data/UnionCom/scGEM/type2.txt\")\n",
    "color_func = lambda x: {1:'#1f77b4', 2:'#ff7f0e', 3:'#2ca02c', 4:'#d62728', 5:'#9467BD'}[x]\n",
    "\n",
    "np.random.seed(42)\n",
    "idx = np.array(range(len(data1)))\n",
    "np.random.shuffle(idx)\n",
    "data1, data2 = (d[idx] for d in (data1,data2))\n",
    "type1, type2 = (d[idx] for d in (type1,type2))\n",
    "\n",
    "num_aligned = int(.6 * len(data2))\n",
    "data1, data2, data1_withheld, data2_withheld = data1[:num_aligned], data2[:num_aligned], data1[num_aligned:], data2[num_aligned:]\n",
    "type1_withheld, type2_withheld = type1[num_aligned:], type2[num_aligned:]"
   ]
  },
  {
   "cell_type": "markdown",
   "id": "14a9124f-5fb4-428b-b2f6-67cb902682a4",
   "metadata": {},
   "source": [
    "# Predict Missing Modality"
   ]
  },
  {
   "cell_type": "code",
   "execution_count": 4,
   "id": "d6b61d95-b85c-4433-93eb-64a5385154ee",
   "metadata": {
    "execution": {
     "iopub.execute_input": "2022-02-23T06:34:13.224966Z",
     "iopub.status.busy": "2022-02-23T06:34:13.224655Z",
     "iopub.status.idle": "2022-02-23T06:34:15.701826Z",
     "shell.execute_reply": "2022-02-23T06:34:15.702414Z"
    },
    "scrolled": true,
    "tags": []
   },
   "outputs": [
    {
     "name": "stdout",
     "output_type": "stream",
     "text": [
      "use random seed: 666\n",
      "Shape of Raw data\n",
      "Dataset 0: (106, 27)\n",
      "Dataset 1: (106, 34)\n",
      "Device: cpu\n",
      "---------------------------------\n",
      "Find correspondence between Dataset 1 and Dataset 2\n",
      "epoch:[100/2000] err:2.2313 alpha:0.4635\n",
      "epoch:[200/2000] err:1.7753 alpha:0.5150\n",
      "epoch:[300/2000] err:1.1525 alpha:0.5718\n",
      "epoch:[400/2000] err:0.9474 alpha:0.5961\n",
      "epoch:[500/2000] err:0.8799 alpha:0.6049\n",
      "epoch:[600/2000] err:0.8497 alpha:0.6094\n",
      "epoch:[700/2000] err:0.8323 alpha:0.6124\n",
      "epoch:[800/2000] err:0.8204 alpha:0.6147\n",
      "epoch:[900/2000] err:0.8111 alpha:0.6166\n",
      "epoch:[1000/2000] err:0.8029 alpha:0.6182\n",
      "epoch:[1100/2000] err:0.7954 alpha:0.6197\n",
      "epoch:[1200/2000] err:0.7882 alpha:0.6210\n",
      "epoch:[1300/2000] err:0.7811 alpha:0.6221\n",
      "epoch:[1400/2000] err:0.7741 alpha:0.6232\n",
      "epoch:[1500/2000] err:0.7674 alpha:0.6242\n",
      "epoch:[1600/2000] err:0.7610 alpha:0.6250\n",
      "epoch:[1700/2000] err:0.7549 alpha:0.6258\n",
      "epoch:[1800/2000] err:0.7493 alpha:0.6265\n",
      "epoch:[1900/2000] err:0.7443 alpha:0.6271\n",
      "epoch:[2000/2000] err:0.7398 alpha:0.6277\n",
      "Finished Matching!\n",
      "---------------------------------\n",
      "Performing NLMA\n",
      "epoch:[10/100]: loss:2.867698\n",
      "epoch:[20/100]: loss:2.337584\n",
      "epoch:[30/100]: loss:2.045717\n",
      "epoch:[40/100]: loss:1.972903\n",
      "epoch:[50/100]: loss:1.943445\n",
      "epoch:[60/100]: loss:1.867008\n",
      "epoch:[70/100]: loss:1.733298\n",
      "epoch:[80/100]: loss:1.724312\n",
      "epoch:[90/100]: loss:1.698557\n",
      "epoch:[100/100]: loss:1.619921\n",
      "Finished Mapping!\n",
      "Setup: 0.005407425000157673\n",
      "Get subset samples: 0.003150888570016832\n",
      "Run model: 0.002671577350010921\n",
      "Reconstruction loss: 0.00011706001000675315\n",
      "Aligned loss: 0.00035394463996453853\n",
      "F-cross loss: 3.191568001966516e-05\n",
      "F-inv-cross loss: 2.8878430002805542e-05\n",
      "Step: 0.00530598346993429\n",
      "Output: 0.008544057000108296\n",
      "Total: 0.025611730150221772\n",
      "---------------------------------\n",
      "ComManDo Done!\n",
      "Distance: 0.0266324190006344\n",
      "Correspondence: 1.2136897930004125\n",
      "Mapping: 1.184339230999285\n",
      "Total: 2.424661443000332\n"
     ]
    }
   ],
   "source": [
    "# Align data\n",
    "cm = ComManDo()\n",
    "cm_data = cm.fit_transform(dataset=[data1,data2])"
   ]
  },
  {
   "cell_type": "markdown",
   "id": "01a29617-889b-4ba0-ba40-5b82976e835e",
   "metadata": {},
   "source": [
    "# Results"
   ]
  },
  {
   "cell_type": "code",
   "execution_count": 5,
   "id": "1a8c287e-5784-4f63-9a6b-4f9550f2ae70",
   "metadata": {
    "execution": {
     "iopub.execute_input": "2022-02-23T06:34:15.705599Z",
     "iopub.status.busy": "2022-02-23T06:34:15.705173Z",
     "iopub.status.idle": "2022-02-23T06:34:15.744010Z",
     "shell.execute_reply": "2022-02-23T06:34:15.744705Z"
    }
   },
   "outputs": [],
   "source": [
    "# Compile prediction and true\n",
    "minmax = lambda d: (d - np.min(d)) / (np.max(d) - np.min(d))\n",
    "predicted = minmax(cm.model.decoders[1](\n",
    "    cm.model.encoders[0](\n",
    "        torch.tensor(data1_withheld).float()\n",
    "    )).detach().cpu().numpy())\n",
    "actual = minmax(data2_withheld)"
   ]
  },
  {
   "cell_type": "code",
   "execution_count": 6,
   "id": "344ab23e-58a1-4f39-ae7e-ee9176117e4f",
   "metadata": {
    "execution": {
     "iopub.execute_input": "2022-02-23T06:34:15.750721Z",
     "iopub.status.busy": "2022-02-23T06:34:15.747363Z",
     "iopub.status.idle": "2022-02-23T06:34:15.786366Z",
     "shell.execute_reply": "2022-02-23T06:34:15.784962Z"
    },
    "tags": []
   },
   "outputs": [
    {
     "data": {
      "text/plain": [
       "array([[0.91109853, 0.08890147],\n",
       "       [0.35030864, 0.64969136]])"
      ]
     },
     "execution_count": 6,
     "metadata": {},
     "output_type": "execute_result"
    }
   ],
   "source": [
    "# Produce confusion matrix\n",
    "# tn fp\n",
    "# fn tp\n",
    "confusion_matrix(actual.flatten() > .5,  predicted.flatten() > .5, labels=(False, True), normalize='true')"
   ]
  },
  {
   "cell_type": "code",
   "execution_count": 7,
   "id": "491be2b8-a5fd-4fcf-a042-c8062ab54dc4",
   "metadata": {
    "execution": {
     "iopub.execute_input": "2022-02-23T06:34:15.791969Z",
     "iopub.status.busy": "2022-02-23T06:34:15.789243Z",
     "iopub.status.idle": "2022-02-23T06:34:16.005743Z",
     "shell.execute_reply": "2022-02-23T06:34:16.005395Z"
    }
   },
   "outputs": [
    {
     "data": {
      "image/png": "[encoded data removed]",
      "text/plain": [
       "<Figure size 864x576 with 2 Axes>"
      ]
     },
     "metadata": {
      "needs_background": "light"
     },
     "output_type": "display_data"
    }
   ],
   "source": [
    "# Plot\n",
    "f1,f2=0,1\n",
    "colors = [color_func(i) for i in type2_withheld]\n",
    "plt.subplots(1,2, figsize=(12,8))\n",
    "plt.subplot(1,2,1)\n",
    "plt.scatter(actual[:, f1], actual[:, f2], c=colors)\n",
    "plt.title('Original Data')\n",
    "plt.xlabel('Feature 1')\n",
    "plt.ylabel('Feature 2')\n",
    "plt.subplot(1,2,2)\n",
    "plt.scatter(predicted[:, f1], predicted[:, f2], c=colors)\n",
    "plt.title('ComManDo Predicted Data')\n",
    "plt.xlabel('Feature 1')\n",
    "plt.ylabel('Feature 2');"
   ]
  },
  {
   "cell_type": "code",
   "execution_count": null,
   "id": "5ad14c3d-dba7-427b-b9d6-67c21ccd72e3",
   "metadata": {},
   "outputs": [],
   "source": []
  }
 ],
 "metadata": {
  "kernelspec": {
   "display_name": "Python 3 (ipykernel)",
   "language": "python",
   "name": "python3"
  },
  "language_info": {
   "codemirror_mode": {
    "name": "ipython",
    "version": 3
   },
   "file_extension": ".py",
   "mimetype": "text/x-python",
   "name": "python",
   "nbconvert_exporter": "python",
   "pygments_lexer": "ipython3",
   "version": "3.9.5"
  }
 },
 "nbformat": 4,
 "nbformat_minor": 5
}
