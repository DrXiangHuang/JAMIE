{
 "cells": [
  {
   "cell_type": "code",
   "execution_count": 1,
   "id": "a54a4980-d3b7-4664-9035-4abcb92b1ab5",
   "metadata": {
    "execution": {
     "iopub.execute_input": "2022-01-19T00:44:45.915046Z",
     "iopub.status.busy": "2022-01-19T00:44:45.914788Z",
     "iopub.status.idle": "2022-01-19T00:44:45.921690Z",
     "shell.execute_reply": "2022-01-19T00:44:45.921451Z"
    },
    "tags": []
   },
   "outputs": [],
   "source": [
    "%load_ext autoreload\n",
    "%autoreload 2"
   ]
  },
  {
   "cell_type": "code",
   "execution_count": 2,
   "id": "342bee2d-d6d8-49aa-98ba-79a38ade4175",
   "metadata": {
    "execution": {
     "iopub.execute_input": "2022-01-19T00:44:45.923802Z",
     "iopub.status.busy": "2022-01-19T00:44:45.923583Z",
     "iopub.status.idle": "2022-01-19T00:44:48.110961Z",
     "shell.execute_reply": "2022-01-19T00:44:48.110649Z"
    },
    "tags": []
   },
   "outputs": [
    {
     "name": "stderr",
     "output_type": "stream",
     "text": [
      "2022-01-18 18:44:47.234886: W tensorflow/stream_executor/platform/default/dso_loader.cc:64] Could not load dynamic library 'libcudart.so.11.0'; dlerror: libcudart.so.11.0: cannot open shared object file: No such file or directory\n",
      "2022-01-18 18:44:47.234917: I tensorflow/stream_executor/cuda/cudart_stub.cc:29] Ignore above cudart dlerror if you do not have a GPU set up on your machine.\n"
     ]
    }
   ],
   "source": [
    "from commando import ComManDo\n",
    "from commando.evaluation import test_partial\n",
    "import numpy as np\n",
    "from sklearn.metrics import confusion_matrix\n",
    "import torch"
   ]
  },
  {
   "cell_type": "code",
   "execution_count": 3,
   "id": "b6206e91-f09d-4d3b-81b1-461ea9c57df2",
   "metadata": {
    "execution": {
     "iopub.execute_input": "2022-01-19T00:44:48.113974Z",
     "iopub.status.busy": "2022-01-19T00:44:48.113745Z",
     "iopub.status.idle": "2022-01-19T00:44:48.147939Z",
     "shell.execute_reply": "2022-01-19T00:44:48.147738Z"
    },
    "tags": []
   },
   "outputs": [],
   "source": [
    "data1 = np.loadtxt(\"../data/UnionCom/scGEM/GeneExpression.txt\")\n",
    "data2 = np.loadtxt(\"../data/UnionCom/scGEM/DNAmethylation.txt\")\n",
    "num_aligned = int(.8 * len(data2))\n",
    "data2, data2_withheld = data2[:num_aligned], data2[num_aligned:]"
   ]
  },
  {
   "cell_type": "markdown",
   "id": "14a9124f-5fb4-428b-b2f6-67cb902682a4",
   "metadata": {},
   "source": [
    "# Predict Missing Modality"
   ]
  },
  {
   "cell_type": "code",
   "execution_count": 4,
   "id": "d6b61d95-b85c-4433-93eb-64a5385154ee",
   "metadata": {
    "execution": {
     "iopub.execute_input": "2022-01-19T00:44:48.153952Z",
     "iopub.status.busy": "2022-01-19T00:44:48.151006Z",
     "iopub.status.idle": "2022-01-19T00:44:50.660912Z",
     "shell.execute_reply": "2022-01-19T00:44:50.660557Z"
    },
    "scrolled": true,
    "tags": []
   },
   "outputs": [
    {
     "name": "stdout",
     "output_type": "stream",
     "text": [
      "use random seed: 666\n",
      "Shape of Raw data\n",
      "Dataset 0: (177, 34)\n",
      "Dataset 1: (141, 27)\n",
      "Device: cpu\n",
      "---------------------------------\n",
      "Find correspondence between Dataset 1 and Dataset 2\n",
      "epoch:[100/2000] err:2.6118 alpha:0.7249\n",
      "epoch:[200/2000] err:2.3555 alpha:0.7101\n",
      "epoch:[300/2000] err:1.9467 alpha:0.7620\n",
      "epoch:[400/2000] err:1.6834 alpha:0.7963\n",
      "epoch:[500/2000] err:1.5589 alpha:0.8142\n",
      "epoch:[600/2000] err:1.4994 alpha:0.8240\n",
      "epoch:[700/2000] err:1.4681 alpha:0.8301\n",
      "epoch:[800/2000] err:1.4497 alpha:0.8344\n",
      "epoch:[900/2000] err:1.4376 alpha:0.8378\n",
      "epoch:[1000/2000] err:1.4291 alpha:0.8406\n",
      "epoch:[1100/2000] err:1.4225 alpha:0.8430\n",
      "epoch:[1200/2000] err:1.4172 alpha:0.8451\n",
      "epoch:[1300/2000] err:1.4126 alpha:0.8469\n",
      "epoch:[1400/2000] err:1.4086 alpha:0.8485\n",
      "epoch:[1500/2000] err:1.4051 alpha:0.8500\n",
      "epoch:[1600/2000] err:1.4020 alpha:0.8513\n",
      "epoch:[1700/2000] err:1.3996 alpha:0.8525\n",
      "epoch:[1800/2000] err:1.3976 alpha:0.8535\n",
      "epoch:[1900/2000] err:1.3960 alpha:0.8545\n",
      "epoch:[2000/2000] err:1.3948 alpha:0.8553\n",
      "Finished Matching!\n",
      "---------------------------------\n",
      "Performing NLMA\n",
      "epoch:[10/100]: loss:4.237839\n",
      "epoch:[20/100]: loss:2.909413\n",
      "epoch:[30/100]: loss:2.635880\n",
      "epoch:[40/100]: loss:2.591889\n",
      "epoch:[50/100]: loss:2.426136\n",
      "epoch:[60/100]: loss:2.236960\n",
      "epoch:[70/100]: loss:2.202177\n",
      "epoch:[80/100]: loss:2.225458\n",
      "epoch:[90/100]: loss:1.942455\n",
      "epoch:[100/100]: loss:2.173314\n",
      "Finished Mapping!\n",
      "Setup: 0.0037484019994735718\n",
      "Get subset samples: 0.0017919181900106196\n",
      "Run model: 0.0015671575298983954\n",
      "Reconstruction loss: 5.2848859977530085e-05\n",
      "Aligned loss: 0.00014150731996778631\n",
      "F-cross loss: 1.8367379962000996e-05\n",
      "F-inv-cross loss: 1.650629004871007e-05\n",
      "Step: 0.0033046942198780016\n",
      "Output: 0.0014968770010455046\n",
      "Total: 0.012138278790262122\n",
      "---------------------------------\n",
      "ComManDo Done!\n",
      "Distance: 0.02448079100031464\n",
      "Correspondence: 1.7642215230007423\n",
      "Mapping: 0.6960711850006192\n",
      "Total: 2.484773499001676\n"
     ]
    }
   ],
   "source": [
    "# Align data\n",
    "cm = ComManDo(aligned_idx=2*(range(num_aligned),))\n",
    "cm_data = cm.fit_transform(dataset=[data1, data2])"
   ]
  },
  {
   "cell_type": "code",
   "execution_count": 5,
   "id": "debd5856-d5d7-4e6b-94da-81a9edbd67e4",
   "metadata": {
    "execution": {
     "iopub.execute_input": "2022-01-19T00:44:50.663829Z",
     "iopub.status.busy": "2022-01-19T00:44:50.663554Z",
     "iopub.status.idle": "2022-01-19T00:44:50.687871Z",
     "shell.execute_reply": "2022-01-19T00:44:50.687619Z"
    }
   },
   "outputs": [],
   "source": [
    "# Compile prediction and true\n",
    "predicted = cm.model.decoders[1](torch.tensor(cm_data[0][num_aligned:])).detach().cpu().numpy()\n",
    "predicted = predicted.flatten() > .5\n",
    "actual = (data2_withheld - np.min(data2_withheld)) / (np.max(data2_withheld) - np.min(data2_withheld))\n",
    "actual = actual.flatten() > .5"
   ]
  },
  {
   "cell_type": "code",
   "execution_count": 6,
   "id": "344ab23e-58a1-4f39-ae7e-ee9176117e4f",
   "metadata": {
    "execution": {
     "iopub.execute_input": "2022-01-19T00:44:50.691872Z",
     "iopub.status.busy": "2022-01-19T00:44:50.689252Z",
     "iopub.status.idle": "2022-01-19T00:44:50.714503Z",
     "shell.execute_reply": "2022-01-19T00:44:50.714262Z"
    }
   },
   "outputs": [
    {
     "data": {
      "text/plain": [
       "array([[0.85626911, 0.14373089],\n",
       "       [0.30542636, 0.69457364]])"
      ]
     },
     "execution_count": 6,
     "metadata": {},
     "output_type": "execute_result"
    }
   ],
   "source": [
    "# Produce confusion matrix\n",
    "# tn fp\n",
    "# fn tp\n",
    "confusion_matrix(actual, predicted, labels=(False, True), normalize='true')"
   ]
  }
 ],
 "metadata": {
  "kernelspec": {
   "display_name": "Python 3 (ipykernel)",
   "language": "python",
   "name": "python3"
  },
  "language_info": {
   "codemirror_mode": {
    "name": "ipython",
    "version": 3
   },
   "file_extension": ".py",
   "mimetype": "text/x-python",
   "name": "python",
   "nbconvert_exporter": "python",
   "pygments_lexer": "ipython3",
   "version": "3.9.5"
  }
 },
 "nbformat": 4,
 "nbformat_minor": 5
}
