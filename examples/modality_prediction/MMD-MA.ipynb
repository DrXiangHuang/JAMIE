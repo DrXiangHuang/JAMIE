{
 "cells": [
  {
   "cell_type": "code",
   "execution_count": 1,
   "id": "a54a4980-d3b7-4664-9035-4abcb92b1ab5",
   "metadata": {
    "execution": {
     "iopub.execute_input": "2022-02-23T06:34:21.048393Z",
     "iopub.status.busy": "2022-02-23T06:34:21.045645Z",
     "iopub.status.idle": "2022-02-23T06:34:21.057191Z",
     "shell.execute_reply": "2022-02-23T06:34:21.056717Z"
    },
    "tags": []
   },
   "outputs": [],
   "source": [
    "%load_ext autoreload\n",
    "%autoreload 2"
   ]
  },
  {
   "cell_type": "code",
   "execution_count": 2,
   "id": "342bee2d-d6d8-49aa-98ba-79a38ade4175",
   "metadata": {
    "execution": {
     "iopub.execute_input": "2022-02-23T06:34:21.060403Z",
     "iopub.status.busy": "2022-02-23T06:34:21.060030Z",
     "iopub.status.idle": "2022-02-23T06:34:25.095933Z",
     "shell.execute_reply": "2022-02-23T06:34:25.095496Z"
    },
    "tags": []
   },
   "outputs": [
    {
     "name": "stderr",
     "output_type": "stream",
     "text": [
      "2022-02-23 00:34:23.470538: W tensorflow/stream_executor/platform/default/dso_loader.cc:64] Could not load dynamic library 'libcudart.so.11.0'; dlerror: libcudart.so.11.0: cannot open shared object file: No such file or directory\n",
      "2022-02-23 00:34:23.470587: I tensorflow/stream_executor/cuda/cudart_stub.cc:29] Ignore above cudart dlerror if you do not have a GPU set up on your machine.\n"
     ]
    }
   ],
   "source": [
    "from commando import ComManDo\n",
    "from commando.evaluation import test_partial\n",
    "import matplotlib.pyplot as plt\n",
    "import numpy as np\n",
    "from sklearn.metrics import confusion_matrix\n",
    "import torch"
   ]
  },
  {
   "cell_type": "code",
   "execution_count": 3,
   "id": "b6206e91-f09d-4d3b-81b1-461ea9c57df2",
   "metadata": {
    "execution": {
     "iopub.execute_input": "2022-02-23T06:34:25.101723Z",
     "iopub.status.busy": "2022-02-23T06:34:25.101143Z",
     "iopub.status.idle": "2022-02-23T06:34:25.849080Z",
     "shell.execute_reply": "2022-02-23T06:34:25.849388Z"
    },
    "tags": []
   },
   "outputs": [],
   "source": [
    "data1 = np.loadtxt(\"../data/Unioncom/MMD/s1_mapped1.txt\")\n",
    "data2 = np.loadtxt(\"../data/Unioncom/MMD/s1_mapped2.txt\")\n",
    "type1 = np.loadtxt(\"../data/Unioncom/MMD/s1_type1.txt\")\n",
    "type2 = np.loadtxt(\"../data/Unioncom/MMD/s1_type2.txt\")\n",
    "color_func = lambda x: x\n",
    "\n",
    "np.random.seed(42)\n",
    "idx = np.array(range(len(data1)))\n",
    "np.random.shuffle(idx)\n",
    "data1, data2 = (d[idx] for d in (data1,data2))\n",
    "type1, type2 = (d[idx] for d in (type1,type2))\n",
    "\n",
    "num_aligned = int(.6 * len(data2))\n",
    "data1, data2, data1_withheld, data2_withheld = data1[:num_aligned], data2[:num_aligned], data1[num_aligned:], data2[num_aligned:]\n",
    "type1_withheld, type2_withheld = type1[num_aligned:], type2[num_aligned:]"
   ]
  },
  {
   "cell_type": "markdown",
   "id": "14a9124f-5fb4-428b-b2f6-67cb902682a4",
   "metadata": {},
   "source": [
    "# Predict Missing Modality"
   ]
  },
  {
   "cell_type": "code",
   "execution_count": 4,
   "id": "d6b61d95-b85c-4433-93eb-64a5385154ee",
   "metadata": {
    "execution": {
     "iopub.execute_input": "2022-02-23T06:34:25.853166Z",
     "iopub.status.busy": "2022-02-23T06:34:25.852555Z",
     "iopub.status.idle": "2022-02-23T06:35:10.791459Z",
     "shell.execute_reply": "2022-02-23T06:35:10.792107Z"
    },
    "scrolled": true,
    "tags": []
   },
   "outputs": [
    {
     "name": "stdout",
     "output_type": "stream",
     "text": [
      "use random seed: 666\n",
      "Shape of Raw data\n",
      "Dataset 0: (180, 2000)\n",
      "Dataset 1: (180, 1000)\n",
      "Device: cpu\n",
      "---------------------------------\n",
      "Find correspondence between Dataset 1 and Dataset 2\n",
      "epoch:[100/2000] err:2.8117 alpha:0.5597\n",
      "epoch:[200/2000] err:2.6190 alpha:0.5925\n",
      "epoch:[300/2000] err:2.0347 alpha:0.6476\n",
      "epoch:[400/2000] err:1.4363 alpha:0.6967\n",
      "epoch:[500/2000] err:1.1299 alpha:0.7251\n",
      "epoch:[600/2000] err:1.0013 alpha:0.7402\n",
      "epoch:[700/2000] err:0.9430 alpha:0.7485\n",
      "epoch:[800/2000] err:0.9106 alpha:0.7538\n",
      "epoch:[900/2000] err:0.8889 alpha:0.7576\n",
      "epoch:[1000/2000] err:0.8725 alpha:0.7606\n",
      "epoch:[1100/2000] err:0.8593 alpha:0.7632\n",
      "epoch:[1200/2000] err:0.8484 alpha:0.7654\n",
      "epoch:[1300/2000] err:0.8390 alpha:0.7673\n",
      "epoch:[1400/2000] err:0.8308 alpha:0.7689\n",
      "epoch:[1500/2000] err:0.8234 alpha:0.7704\n",
      "epoch:[1600/2000] err:0.8167 alpha:0.7717\n",
      "epoch:[1700/2000] err:0.8107 alpha:0.7728\n",
      "epoch:[1800/2000] err:0.8053 alpha:0.7739\n",
      "epoch:[1900/2000] err:0.8004 alpha:0.7748\n",
      "epoch:[2000/2000] err:0.7959 alpha:0.7757\n",
      "Finished Matching!\n",
      "---------------------------------\n",
      "Performing NLMA\n",
      "epoch:[10/100]: loss:33.353809\n",
      "epoch:[20/100]: loss:29.851358\n",
      "epoch:[30/100]: loss:27.759132\n",
      "epoch:[40/100]: loss:26.464920\n",
      "epoch:[50/100]: loss:26.310616\n",
      "epoch:[60/100]: loss:24.549656\n",
      "epoch:[70/100]: loss:23.040359\n",
      "epoch:[80/100]: loss:22.101355\n",
      "epoch:[90/100]: loss:20.809208\n",
      "epoch:[100/100]: loss:20.339081\n",
      "Finished Mapping!\n",
      "Setup: 0.49012073900030373\n",
      "Get subset samples: 0.003370891590047904\n",
      "Run model: 0.06753681238009449\n",
      "Reconstruction loss: 0.0004605804999846441\n",
      "Aligned loss: 0.00040772934007691217\n",
      "F-cross loss: 3.422686990234069e-05\n",
      "F-inv-cross loss: 3.383434994248091e-05\n",
      "Step: 0.3350817397600258\n",
      "Output: 0.10220487199967465\n",
      "Total: 0.9992514257900529\n",
      "---------------------------------\n",
      "ComManDo Done!\n",
      "Distance: 0.3392373579999912\n",
      "Correspondence: 3.2653006649998133\n",
      "Mapping: 41.29097782900044\n",
      "Total: 44.895515852000244\n"
     ]
    }
   ],
   "source": [
    "# Align data\n",
    "cm = ComManDo()\n",
    "cm_data = cm.fit_transform(dataset=[data1,data2])"
   ]
  },
  {
   "cell_type": "markdown",
   "id": "01a29617-889b-4ba0-ba40-5b82976e835e",
   "metadata": {},
   "source": [
    "# Results"
   ]
  },
  {
   "cell_type": "code",
   "execution_count": 5,
   "id": "1a8c287e-5784-4f63-9a6b-4f9550f2ae70",
   "metadata": {
    "execution": {
     "iopub.execute_input": "2022-02-23T06:35:10.794700Z",
     "iopub.status.busy": "2022-02-23T06:35:10.794354Z",
     "iopub.status.idle": "2022-02-23T06:35:10.861472Z",
     "shell.execute_reply": "2022-02-23T06:35:10.862158Z"
    }
   },
   "outputs": [],
   "source": [
    "# Compile prediction and true\n",
    "minmax = lambda d:d#lambda d: (d - np.min(d)) / (np.max(d) - np.min(d))\n",
    "predicted = minmax(cm.model.decoders[1](\n",
    "    cm.model.encoders[0](\n",
    "        torch.tensor(data1_withheld).float()\n",
    "    )).detach().cpu().numpy())\n",
    "actual = minmax(data2_withheld)"
   ]
  },
  {
   "cell_type": "code",
   "execution_count": 6,
   "id": "344ab23e-58a1-4f39-ae7e-ee9176117e4f",
   "metadata": {
    "execution": {
     "iopub.execute_input": "2022-02-23T06:35:10.865791Z",
     "iopub.status.busy": "2022-02-23T06:35:10.864649Z",
     "iopub.status.idle": "2022-02-23T06:35:10.914403Z",
     "shell.execute_reply": "2022-02-23T06:35:10.913506Z"
    },
    "tags": []
   },
   "outputs": [
    {
     "data": {
      "text/plain": [
       "array([[9.92347813e-01, 7.65218715e-03],\n",
       "       [9.99665149e-01, 3.34851326e-04]])"
      ]
     },
     "execution_count": 6,
     "metadata": {},
     "output_type": "execute_result"
    }
   ],
   "source": [
    "# Produce confusion matrix\n",
    "# tn fp\n",
    "# fn tp\n",
    "confusion_matrix(actual.flatten() > .5,  predicted.flatten() > .5, labels=(False, True), normalize='true')"
   ]
  },
  {
   "cell_type": "code",
   "execution_count": 7,
   "id": "491be2b8-a5fd-4fcf-a042-c8062ab54dc4",
   "metadata": {
    "execution": {
     "iopub.execute_input": "2022-02-23T06:35:10.919821Z",
     "iopub.status.busy": "2022-02-23T06:35:10.919406Z",
     "iopub.status.idle": "2022-02-23T06:35:11.154847Z",
     "shell.execute_reply": "2022-02-23T06:35:11.154415Z"
    }
   },
   "outputs": [
    {
     "data": {
      "image/png": "[encoded data removed]",
      "text/plain": [
       "<Figure size 864x576 with 2 Axes>"
      ]
     },
     "metadata": {
      "needs_background": "light"
     },
     "output_type": "display_data"
    }
   ],
   "source": [
    "# Plot\n",
    "f1,f2=0,1\n",
    "colors = [color_func(i) for i in type2_withheld]\n",
    "plt.subplots(1,2, figsize=(12,8))\n",
    "plt.subplot(1,2,1)\n",
    "plt.scatter(actual[:, f1], actual[:, f2], c=colors)\n",
    "plt.title('Original Data')\n",
    "plt.xlabel('Feature 1')\n",
    "plt.ylabel('Feature 2')\n",
    "plt.subplot(1,2,2)\n",
    "plt.scatter(predicted[:, f1], predicted[:, f2], c=colors)\n",
    "plt.title('ComManDo Predicted Data')\n",
    "plt.xlabel('Feature 1')\n",
    "plt.ylabel('Feature 2');"
   ]
  },
  {
   "cell_type": "code",
   "execution_count": null,
   "id": "5ad14c3d-dba7-427b-b9d6-67c21ccd72e3",
   "metadata": {},
   "outputs": [],
   "source": []
  }
 ],
 "metadata": {
  "kernelspec": {
   "display_name": "Python 3 (ipykernel)",
   "language": "python",
   "name": "python3"
  },
  "language_info": {
   "codemirror_mode": {
    "name": "ipython",
    "version": 3
   },
   "file_extension": ".py",
   "mimetype": "text/x-python",
   "name": "python",
   "nbconvert_exporter": "python",
   "pygments_lexer": "ipython3",
   "version": "3.9.5"
  }
 },
 "nbformat": 4,
 "nbformat_minor": 5
}
