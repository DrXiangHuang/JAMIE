{
 "cells": [
  {
   "cell_type": "code",
   "execution_count": 1,
   "id": "a54a4980-d3b7-4664-9035-4abcb92b1ab5",
   "metadata": {
    "execution": {
     "iopub.execute_input": "2022-01-19T00:45:30.547142Z",
     "iopub.status.busy": "2022-01-19T00:45:30.546863Z",
     "iopub.status.idle": "2022-01-19T00:45:30.553618Z",
     "shell.execute_reply": "2022-01-19T00:45:30.553795Z"
    },
    "tags": []
   },
   "outputs": [],
   "source": [
    "%load_ext autoreload\n",
    "%autoreload 2"
   ]
  },
  {
   "cell_type": "code",
   "execution_count": 2,
   "id": "342bee2d-d6d8-49aa-98ba-79a38ade4175",
   "metadata": {
    "execution": {
     "iopub.execute_input": "2022-01-19T00:45:30.557830Z",
     "iopub.status.busy": "2022-01-19T00:45:30.557068Z",
     "iopub.status.idle": "2022-01-19T00:45:32.719411Z",
     "shell.execute_reply": "2022-01-19T00:45:32.719176Z"
    },
    "tags": []
   },
   "outputs": [
    {
     "name": "stderr",
     "output_type": "stream",
     "text": [
      "2022-01-18 18:45:31.864013: W tensorflow/stream_executor/platform/default/dso_loader.cc:64] Could not load dynamic library 'libcudart.so.11.0'; dlerror: libcudart.so.11.0: cannot open shared object file: No such file or directory\n",
      "2022-01-18 18:45:31.864044: I tensorflow/stream_executor/cuda/cudart_stub.cc:29] Ignore above cudart dlerror if you do not have a GPU set up on your machine.\n"
     ]
    }
   ],
   "source": [
    "from commando import ComManDo\n",
    "from commando.evaluation import test_partial\n",
    "import numpy as np\n",
    "from sklearn.metrics import confusion_matrix\n",
    "import torch"
   ]
  },
  {
   "cell_type": "code",
   "execution_count": 3,
   "id": "b6206e91-f09d-4d3b-81b1-461ea9c57df2",
   "metadata": {
    "execution": {
     "iopub.execute_input": "2022-01-19T00:45:32.722638Z",
     "iopub.status.busy": "2022-01-19T00:45:32.722407Z",
     "iopub.status.idle": "2022-01-19T00:45:33.306900Z",
     "shell.execute_reply": "2022-01-19T00:45:33.306660Z"
    },
    "tags": []
   },
   "outputs": [],
   "source": [
    "data1 = np.loadtxt(\"../data/Unioncom/MMD/s1_mapped1.txt\")\n",
    "data2 = np.loadtxt(\"../data/Unioncom/MMD/s1_mapped2.txt\")\n",
    "num_aligned = int(.8 * len(data2))\n",
    "data2, data2_withheld = data2[:num_aligned], data2[num_aligned:]"
   ]
  },
  {
   "cell_type": "markdown",
   "id": "14a9124f-5fb4-428b-b2f6-67cb902682a4",
   "metadata": {},
   "source": [
    "# Predict Missing Modality"
   ]
  },
  {
   "cell_type": "code",
   "execution_count": 4,
   "id": "d6b61d95-b85c-4433-93eb-64a5385154ee",
   "metadata": {
    "execution": {
     "iopub.execute_input": "2022-01-19T00:45:33.314480Z",
     "iopub.status.busy": "2022-01-19T00:45:33.313969Z",
     "iopub.status.idle": "2022-01-19T00:47:12.610132Z",
     "shell.execute_reply": "2022-01-19T00:47:12.609847Z"
    },
    "scrolled": true,
    "tags": []
   },
   "outputs": [
    {
     "name": "stdout",
     "output_type": "stream",
     "text": [
      "use random seed: 666\n",
      "Shape of Raw data\n",
      "Dataset 0: (300, 2000)\n",
      "Dataset 1: (240, 1000)\n",
      "Device: cpu\n",
      "---------------------------------\n",
      "Find correspondence between Dataset 1 and Dataset 2\n",
      "epoch:[100/2000] err:2.7339 alpha:0.4663\n",
      "epoch:[200/2000] err:2.2796 alpha:0.4117\n",
      "epoch:[300/2000] err:2.1866 alpha:0.4259\n",
      "epoch:[400/2000] err:2.1304 alpha:0.4381\n",
      "epoch:[500/2000] err:1.9112 alpha:0.4565\n",
      "epoch:[600/2000] err:1.5409 alpha:0.4822\n",
      "epoch:[700/2000] err:1.3358 alpha:0.5007\n",
      "epoch:[800/2000] err:1.1939 alpha:0.5133\n",
      "epoch:[900/2000] err:1.0500 alpha:0.5237\n",
      "epoch:[1000/2000] err:0.9691 alpha:0.5316\n",
      "epoch:[1100/2000] err:0.9301 alpha:0.5373\n",
      "epoch:[1200/2000] err:0.9055 alpha:0.5417\n",
      "epoch:[1300/2000] err:0.8871 alpha:0.5454\n",
      "epoch:[1400/2000] err:0.8722 alpha:0.5487\n",
      "epoch:[1500/2000] err:0.8598 alpha:0.5516\n",
      "epoch:[1600/2000] err:0.8493 alpha:0.5542\n",
      "epoch:[1700/2000] err:0.8403 alpha:0.5566\n",
      "epoch:[1800/2000] err:0.8326 alpha:0.5588\n",
      "epoch:[1900/2000] err:0.8258 alpha:0.5607\n",
      "epoch:[2000/2000] err:0.8198 alpha:0.5624\n",
      "Finished Matching!\n",
      "---------------------------------\n",
      "Performing NLMA\n",
      "epoch:[10/100]: loss:28.698391\n",
      "epoch:[20/100]: loss:23.888420\n",
      "epoch:[30/100]: loss:23.292463\n",
      "epoch:[40/100]: loss:20.559626\n",
      "epoch:[50/100]: loss:17.912319\n",
      "epoch:[60/100]: loss:17.870602\n",
      "epoch:[70/100]: loss:16.124598\n",
      "epoch:[80/100]: loss:15.675304\n",
      "epoch:[90/100]: loss:13.225554\n",
      "epoch:[100/100]: loss:15.652708\n",
      "Finished Mapping!\n",
      "Setup: 0.3271978980010317\n",
      "Get subset samples: 0.0023023880366963567\n",
      "Run model: 0.055016799070102325\n",
      "Reconstruction loss: 0.0003010789000048438\n",
      "Aligned loss: 0.00022256152336315912\n",
      "F-cross loss: 2.4505856648223318e-05\n",
      "F-inv-cross loss: 2.1853580025587387e-05\n",
      "Step: 0.2599324715733625\n",
      "Output: 0.12703838900051778\n",
      "Total: 0.7720579455417524\n",
      "---------------------------------\n",
      "ComManDo Done!\n",
      "Distance: 0.11095639900122478\n",
      "Correspondence: 3.3532984299999953\n",
      "Mapping: 95.80815716500001\n",
      "Total: 99.27241199400123\n"
     ]
    }
   ],
   "source": [
    "# Align data\n",
    "cm = ComManDo(aligned_idx=2*(range(num_aligned),))\n",
    "cm_data = cm.fit_transform(dataset=[data1, data2])"
   ]
  },
  {
   "cell_type": "code",
   "execution_count": 5,
   "id": "debd5856-d5d7-4e6b-94da-81a9edbd67e4",
   "metadata": {
    "execution": {
     "iopub.execute_input": "2022-01-19T00:47:12.614497Z",
     "iopub.status.busy": "2022-01-19T00:47:12.614030Z",
     "iopub.status.idle": "2022-01-19T00:47:12.641009Z",
     "shell.execute_reply": "2022-01-19T00:47:12.640701Z"
    }
   },
   "outputs": [],
   "source": [
    "# Compile prediction and true\n",
    "predicted = cm.model.decoders[1](torch.tensor(cm_data[0][num_aligned:])).detach().cpu().numpy()\n",
    "predicted = predicted.flatten() > .5\n",
    "actual = (data2_withheld - np.min(data2_withheld)) / (np.max(data2_withheld) - np.min(data2_withheld))\n",
    "actual = actual.flatten() > .5"
   ]
  },
  {
   "cell_type": "code",
   "execution_count": 6,
   "id": "344ab23e-58a1-4f39-ae7e-ee9176117e4f",
   "metadata": {
    "execution": {
     "iopub.execute_input": "2022-01-19T00:47:12.644762Z",
     "iopub.status.busy": "2022-01-19T00:47:12.644400Z",
     "iopub.status.idle": "2022-01-19T00:47:12.673391Z",
     "shell.execute_reply": "2022-01-19T00:47:12.673142Z"
    }
   },
   "outputs": [
    {
     "data": {
      "text/plain": [
       "array([[0.6577473 , 0.3422527 ],\n",
       "       [0.23421089, 0.76578911]])"
      ]
     },
     "execution_count": 6,
     "metadata": {},
     "output_type": "execute_result"
    }
   ],
   "source": [
    "# Produce confusion matrix\n",
    "# tn fp\n",
    "# fn tp\n",
    "confusion_matrix(actual, predicted, labels=(False, True), normalize='true')"
   ]
  }
 ],
 "metadata": {
  "kernelspec": {
   "display_name": "Python 3 (ipykernel)",
   "language": "python",
   "name": "python3"
  },
  "language_info": {
   "codemirror_mode": {
    "name": "ipython",
    "version": 3
   },
   "file_extension": ".py",
   "mimetype": "text/x-python",
   "name": "python",
   "nbconvert_exporter": "python",
   "pygments_lexer": "ipython3",
   "version": "3.9.5"
  }
 },
 "nbformat": 4,
 "nbformat_minor": 5
}
