{
 "cells": [
  {
   "cell_type": "code",
   "execution_count": 1,
   "id": "a54a4980-d3b7-4664-9035-4abcb92b1ab5",
   "metadata": {
    "execution": {
     "iopub.execute_input": "2022-01-19T00:44:55.716637Z",
     "iopub.status.busy": "2022-01-19T00:44:55.716347Z",
     "iopub.status.idle": "2022-01-19T00:44:55.722876Z",
     "shell.execute_reply": "2022-01-19T00:44:55.722613Z"
    },
    "tags": []
   },
   "outputs": [],
   "source": [
    "%load_ext autoreload\n",
    "%autoreload 2"
   ]
  },
  {
   "cell_type": "code",
   "execution_count": 2,
   "id": "342bee2d-d6d8-49aa-98ba-79a38ade4175",
   "metadata": {
    "execution": {
     "iopub.execute_input": "2022-01-19T00:44:55.727644Z",
     "iopub.status.busy": "2022-01-19T00:44:55.726998Z",
     "iopub.status.idle": "2022-01-19T00:44:57.886591Z",
     "shell.execute_reply": "2022-01-19T00:44:57.886310Z"
    },
    "tags": []
   },
   "outputs": [
    {
     "name": "stderr",
     "output_type": "stream",
     "text": [
      "2022-01-18 18:44:57.019627: W tensorflow/stream_executor/platform/default/dso_loader.cc:64] Could not load dynamic library 'libcudart.so.11.0'; dlerror: libcudart.so.11.0: cannot open shared object file: No such file or directory\n",
      "2022-01-18 18:44:57.019660: I tensorflow/stream_executor/cuda/cudart_stub.cc:29] Ignore above cudart dlerror if you do not have a GPU set up on your machine.\n"
     ]
    }
   ],
   "source": [
    "from commando import ComManDo\n",
    "from commando.evaluation import test_partial\n",
    "import numpy as np\n",
    "from sklearn.metrics import confusion_matrix\n",
    "import torch"
   ]
  },
  {
   "cell_type": "code",
   "execution_count": 3,
   "id": "b6206e91-f09d-4d3b-81b1-461ea9c57df2",
   "metadata": {
    "execution": {
     "iopub.execute_input": "2022-01-19T00:44:57.889109Z",
     "iopub.status.busy": "2022-01-19T00:44:57.888900Z",
     "iopub.status.idle": "2022-01-19T00:44:58.344812Z",
     "shell.execute_reply": "2022-01-19T00:44:58.345023Z"
    },
    "tags": []
   },
   "outputs": [],
   "source": [
    "data1 = np.loadtxt(\"../data/UnionCom/simu1/domain1.txt\")\n",
    "data2 = np.loadtxt(\"../data/UnionCom/simu1/domain2.txt\")\n",
    "num_aligned = int(.8 * len(data2))\n",
    "data2, data2_withheld = data2[:num_aligned], data2[num_aligned:]"
   ]
  },
  {
   "cell_type": "markdown",
   "id": "14a9124f-5fb4-428b-b2f6-67cb902682a4",
   "metadata": {},
   "source": [
    "# Predict Missing Modality"
   ]
  },
  {
   "cell_type": "code",
   "execution_count": 4,
   "id": "d6b61d95-b85c-4433-93eb-64a5385154ee",
   "metadata": {
    "execution": {
     "iopub.execute_input": "2022-01-19T00:44:58.351971Z",
     "iopub.status.busy": "2022-01-19T00:44:58.351743Z",
     "iopub.status.idle": "2022-01-19T00:45:26.134747Z",
     "shell.execute_reply": "2022-01-19T00:45:26.135045Z"
    },
    "scrolled": true,
    "tags": []
   },
   "outputs": [
    {
     "name": "stdout",
     "output_type": "stream",
     "text": [
      "use random seed: 666\n",
      "Shape of Raw data\n",
      "Dataset 0: (300, 1000)\n",
      "Dataset 1: (240, 500)\n",
      "Device: cpu\n",
      "---------------------------------\n",
      "Find correspondence between Dataset 1 and Dataset 2\n",
      "epoch:[100/2000] err:0.9915 alpha:0.3969\n",
      "epoch:[200/2000] err:0.8619 alpha:0.3508\n",
      "epoch:[300/2000] err:0.8517 alpha:0.3583\n",
      "epoch:[400/2000] err:0.8388 alpha:0.3670\n",
      "epoch:[500/2000] err:0.8213 alpha:0.3764\n",
      "epoch:[600/2000] err:0.7994 alpha:0.3864\n",
      "epoch:[700/2000] err:0.7735 alpha:0.3970\n",
      "epoch:[800/2000] err:0.7417 alpha:0.4083\n",
      "epoch:[900/2000] err:0.7004 alpha:0.4208\n",
      "epoch:[1000/2000] err:0.6481 alpha:0.4348\n",
      "epoch:[1100/2000] err:0.5905 alpha:0.4494\n",
      "epoch:[1200/2000] err:0.5388 alpha:0.4628\n",
      "epoch:[1300/2000] err:0.4998 alpha:0.4736\n",
      "epoch:[1400/2000] err:0.4721 alpha:0.4817\n",
      "epoch:[1500/2000] err:0.4513 alpha:0.4879\n",
      "epoch:[1600/2000] err:0.4347 alpha:0.4930\n",
      "epoch:[1700/2000] err:0.4209 alpha:0.4973\n",
      "epoch:[1800/2000] err:0.4089 alpha:0.5012\n",
      "epoch:[1900/2000] err:0.3979 alpha:0.5047\n",
      "epoch:[2000/2000] err:0.3875 alpha:0.5079\n",
      "Finished Matching!\n",
      "---------------------------------\n",
      "Performing NLMA\n",
      "epoch:[10/100]: loss:13.553284\n",
      "epoch:[20/100]: loss:12.069408\n",
      "epoch:[30/100]: loss:10.422334\n",
      "epoch:[40/100]: loss:11.111570\n",
      "epoch:[50/100]: loss:9.517368\n",
      "epoch:[60/100]: loss:8.400723\n",
      "epoch:[70/100]: loss:8.830229\n",
      "epoch:[80/100]: loss:6.667628\n",
      "epoch:[90/100]: loss:6.748275\n",
      "epoch:[100/100]: loss:7.960438\n",
      "Finished Mapping!\n",
      "Setup: 0.08215566699982446\n",
      "Get subset samples: 0.002160638126709576\n",
      "Run model: 0.016880983186650458\n",
      "Reconstruction loss: 0.00021152423001088514\n",
      "Aligned loss: 0.00019594151667964374\n",
      "F-cross loss: 2.2481473358008468e-05\n",
      "F-inv-cross loss: 2.0257899965751373e-05\n",
      "Step: 0.061679327686639834\n",
      "Output: 0.03643558099975053\n",
      "Total: 0.19976240211958918\n",
      "---------------------------------\n",
      "ComManDo Done!\n",
      "Distance: 0.184863974000109\n",
      "Correspondence: 3.0982883449996734\n",
      "Mapping: 24.47733733900168\n",
      "Total: 27.76048965800146\n"
     ]
    }
   ],
   "source": [
    "# Align data\n",
    "cm = ComManDo(aligned_idx=2*(range(num_aligned),))\n",
    "cm_data = cm.fit_transform(dataset=[data1, data2])"
   ]
  },
  {
   "cell_type": "code",
   "execution_count": 5,
   "id": "debd5856-d5d7-4e6b-94da-81a9edbd67e4",
   "metadata": {
    "execution": {
     "iopub.execute_input": "2022-01-19T00:45:26.139414Z",
     "iopub.status.busy": "2022-01-19T00:45:26.138064Z",
     "iopub.status.idle": "2022-01-19T00:45:26.164772Z",
     "shell.execute_reply": "2022-01-19T00:45:26.164528Z"
    }
   },
   "outputs": [],
   "source": [
    "# Compile prediction and true\n",
    "predicted = cm.model.decoders[1](torch.tensor(cm_data[0][num_aligned:])).detach().cpu().numpy()\n",
    "predicted = predicted.flatten() > .5\n",
    "actual = (data2_withheld - np.min(data2_withheld)) / (np.max(data2_withheld) - np.min(data2_withheld))\n",
    "actual = actual.flatten() > .5"
   ]
  },
  {
   "cell_type": "code",
   "execution_count": 6,
   "id": "344ab23e-58a1-4f39-ae7e-ee9176117e4f",
   "metadata": {
    "execution": {
     "iopub.execute_input": "2022-01-19T00:45:26.168676Z",
     "iopub.status.busy": "2022-01-19T00:45:26.167392Z",
     "iopub.status.idle": "2022-01-19T00:45:26.194713Z",
     "shell.execute_reply": "2022-01-19T00:45:26.194465Z"
    }
   },
   "outputs": [
    {
     "data": {
      "text/plain": [
       "array([[0.36637635, 0.63362365],\n",
       "       [0.0158591 , 0.9841409 ]])"
      ]
     },
     "execution_count": 6,
     "metadata": {},
     "output_type": "execute_result"
    }
   ],
   "source": [
    "# Produce confusion matrix\n",
    "# tn fp\n",
    "# fn tp\n",
    "confusion_matrix(actual, predicted, labels=(False, True), normalize='true')"
   ]
  }
 ],
 "metadata": {
  "kernelspec": {
   "display_name": "Python 3 (ipykernel)",
   "language": "python",
   "name": "python3"
  },
  "language_info": {
   "codemirror_mode": {
    "name": "ipython",
    "version": 3
   },
   "file_extension": ".py",
   "mimetype": "text/x-python",
   "name": "python",
   "nbconvert_exporter": "python",
   "pygments_lexer": "ipython3",
   "version": "3.9.5"
  }
 },
 "nbformat": 4,
 "nbformat_minor": 5
}
