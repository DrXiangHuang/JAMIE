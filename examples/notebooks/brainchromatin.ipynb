{
 "cells": [
  {
   "cell_type": "code",
   "execution_count": 1,
   "id": "a54a4980-d3b7-4664-9035-4abcb92b1ab5",
   "metadata": {
    "tags": []
   },
   "outputs": [],
   "source": [
    "%load_ext autoreload\n",
    "%autoreload 2"
   ]
  },
  {
   "cell_type": "code",
   "execution_count": 2,
   "id": "342bee2d-d6d8-49aa-98ba-79a38ade4175",
   "metadata": {
    "tags": []
   },
   "outputs": [],
   "source": [
    "from commando import ComManDo\n",
    "from commando.evaluation import *\n",
    "from commando.utilities import predict_nn\n",
    "import matplotlib.pyplot as plt\n",
    "from mmd_wrapper import mmd_combine\n",
    "import numpy as np\n",
    "import pandas as pd\n",
    "import seaborn as sns\n",
    "from sklearn import preprocessing"
   ]
  },
  {
   "cell_type": "code",
   "execution_count": 300,
   "id": "56b783aa-276a-4064-bcfb-767f22c9fbe7",
   "metadata": {
    "tags": []
   },
   "outputs": [],
   "source": [
    "np.random.seed(42)"
   ]
  },
  {
   "cell_type": "markdown",
   "id": "c3a25c31-e758-4bd0-b5c5-1335a7451771",
   "metadata": {
    "jp-MarkdownHeadingCollapsed": true,
    "tags": []
   },
   "source": [
    "# Export h5 (experimental)"
   ]
  },
  {
   "cell_type": "code",
   "execution_count": 4,
   "id": "e0e9bd11-acdb-450b-8ab8-673ddd35e269",
   "metadata": {},
   "outputs": [],
   "source": [
    "# dataset_name = 'BrainChromatin'\n",
    "# modality_names = ['RNA', 'ATAC']\n",
    "# data1 = pd.read_csv(\"../data/brainchromatin/multiome_rna_counts.tsv\", delimiter='\\t').transpose()\n",
    "\n",
    "# data2 = pd.read_csv(\"../data/brainchromatin/multiome_atac_gene_activities.tsv\", delimiter='\\t', nrows=35000).transpose()  # Only a subset\n",
    "# data2 = data2.transpose()[data1.index].transpose()\n",
    "\n",
    "# dataset = [data1, data2]\n",
    "# features = [np.array(d.columns) for d in dataset]"
   ]
  },
  {
   "cell_type": "code",
   "execution_count": 5,
   "id": "e5da594a-d533-4cc0-9755-683157803162",
   "metadata": {},
   "outputs": [],
   "source": [
    "# import h5py\n",
    "\n",
    "# data = np.concatenate(dataset, axis=1).T\n",
    "# shape = np.array(np.shape(data)).astype('int')\n",
    "# data = data.flatten(order='F').astype('float')\n",
    "# barcodes = np.array(['Unknown' for _ in range(shape[1])]).astype('|S')\n",
    "# indices = np.array(shape[1] * [i for i in range(shape[0])]).astype('int')\n",
    "# indptr = np.array([i*shape[0] for i in range(shape[1]+1)]).astype('int')\n",
    "\n",
    "# _all_tag_keys = np.array(['genome']).astype('|S')\n",
    "# # First dataset should be RNA, second ATAC\n",
    "# feature_type = np.array(dataset[0].shape[1] * ['Gene Expression'] + dataset[1].shape[1] * ['Peaks']).astype('|S')\n",
    "# genome = np.array(['Unknown' for _ in range(shape[0])]).astype('|S')\n",
    "# # id = np.array(['Unknown' for _ in range(shape[0])]).astype('|S')\n",
    "# id = np.array(list(features[0]) + list(features[1])).astype('|S')\n",
    "# # name = np.array(['Unknown' for _ in range(shape[0])]).astype('|S')\n",
    "# name = np.array(list(features[0]) + list(features[1])).astype('|S')\n",
    "\n",
    "# with h5py.File('../../../babel/test.h5', 'w') as f: # '../babel_data/test.h5'\n",
    "#     mat = f.create_group('matrix')\n",
    "#     mat.create_dataset('barcodes', data=barcodes)\n",
    "#     mat.create_dataset('data', data=data)\n",
    "#     mat.create_dataset('indices', data=indices)\n",
    "#     mat.create_dataset('indptr', data=indptr)\n",
    "#     mat.create_dataset('shape', data=shape)\n",
    "\n",
    "#     fea = mat.create_group('features')\n",
    "#     fea.create_dataset('_all_tag_keys', data=_all_tag_keys)\n",
    "#     fea.create_dataset('feature_type', data=feature_type)\n",
    "#     fea.create_dataset('genome', data=genome)\n",
    "#     fea.create_dataset('id', data=id)\n",
    "#     fea.create_dataset('name', data=name)\n",
    "    \n",
    "# # try:\n",
    "# #     f.close()\n",
    "# # except:\n",
    "# #     pass\n",
    "# # f = h5py.File('../babel_data/test.h5', 'r')\n",
    "\n",
    "# # for n in f['matrix']:\n",
    "# #     print(n)\n",
    "# #     print(f['matrix'][n])\n",
    "# #     print()\n",
    "    \n",
    "# # f.close()\n",
    "\n",
    "# # import scipy\n",
    "# # scipy.sparse.csc_matrix((data, indices, indptr)).toarray().shape\n",
    "\n",
    "# # # try:\n",
    "# # #     samp.close()\n",
    "# # # except:\n",
    "# # #     pass\n",
    "# # # samp = h5py.File('../data/babel/DM_rep4.h5', 'r')\n",
    "\n",
    "# # # for n in samp['matrix']['features']:\n",
    "# # #     print(n)\n",
    "# # #     print(samp['matrix']['features'][n])\n",
    "# # #     print()\n",
    "# # # print(samp['matrix']['features']['_all_tag_keys'][()])\n",
    "# # # print(samp['matrix']['features']['id'][()])\n",
    "# # # print(samp['matrix']['barcodes'][()])\n",
    "    \n",
    "# # # samp.close()\n",
    "# # import scanpy as sc\n",
    "# sc.read_10x_h5('../../../babel/test.h5', gex_only=False)\n",
    "# # sc.read_10x_h5('../data/babel/DM_rep4.h5', gex_only=False)"
   ]
  },
  {
   "cell_type": "markdown",
   "id": "81eef754-b835-4b39-b0ab-c8e299f3e08a",
   "metadata": {},
   "source": [
    "# Back to normal things"
   ]
  },
  {
   "cell_type": "code",
   "execution_count": 301,
   "id": "b6206e91-f09d-4d3b-81b1-461ea9c57df2",
   "metadata": {
    "tags": []
   },
   "outputs": [],
   "source": [
    "from sklearn.decomposition import PCA\n",
    "\n",
    "dataset_name = 'BrainChromatin'\n",
    "modality_names = ['RNA', 'ATAC']\n",
    "data1 = pd.read_csv(\"../data/brainchromatin/multiome_rna_counts.tsv\", delimiter='\\t').transpose()\n",
    "# PCA\n",
    "# proc = PCA(n_components=32).fit_transform(data1)\n",
    "# d1 = pd.DataFrame(proc)\n",
    "# d1.index = data1.index\n",
    "# data1 = d1\n",
    "\n",
    "data2 = pd.read_csv(\"../data/brainchromatin/multiome_atac_gene_activities.tsv\", delimiter='\\t', nrows=35000).transpose()  # Only a subset\n",
    "# PCA\n",
    "# proc = PCA(n_components=32).fit_transform(data2)\n",
    "# d2 = pd.DataFrame(proc)\n",
    "# d2.index = data2.index\n",
    "# data2 = d2\n",
    "data2 = data2.transpose()[data1.index].transpose()\n",
    "\n",
    "meta = pd.read_csv(\"../data/brainchromatin/multiome_cell_metadata.txt\", delimiter='\\t')\n",
    "meta_names = pd.read_csv(\"../data/brainchromatin/multiome_cluster_names.txt\", delimiter='\\t')\n",
    "meta_names = meta_names[meta_names['Assay'] == 'Multiome ATAC']\n",
    "meta = pd.merge(meta, meta_names, left_on='ATAC_cluster', right_on='Cluster.ID', how='left')\n",
    "meta.index = meta['Cell.ID']\n",
    "\n",
    "type1 = type2 = np.array(meta.transpose()[data1.index].transpose()['Cluster.Name'])\n",
    "fname1, fname2 = data1.columns, data2.columns\n",
    "data1 = data1.to_numpy()\n",
    "data2 = data2.to_numpy()\n",
    "\n",
    "# Sampling\n",
    "split = 1000 # data1.shape[0]\n",
    "data_row_idx = np.random.choice(range(data1.shape[0]), split, replace=False)\n",
    "data1, data2, type1, type2 = (x[data_row_idx] for x in (data1, data2, type1, type2))\n",
    "# split_feat_1 = 2000 # data1.shape[1]\n",
    "# data_col1_idx = np.random.choice(range(data1.shape[1]), split_feat_1, replace=False)\n",
    "# data1, fname1 = data1[:, data_col1_idx], fname1[data_col1_idx]\n",
    "# split_feat_2 = 2000 # data2.shape[1]\n",
    "# data_col2_idx = np.random.choice(range(data2.shape[1]), split_feat_2, replace=False)\n",
    "# data2, fname2 = data2[:, data_col2_idx], fname2[data_col2_idx]\n",
    "\n",
    "# Labels\n",
    "labels = [type1, type2]\n",
    "features = [fname1, fname2]\n",
    "\n",
    "# Utility\n",
    "positivize = lambda X: [x + x.min() for x in X]\n",
    "minmax = lambda X: [(x + x.min()) for x in X]\n",
    "\n",
    "# Preprocessing\n",
    "data1 = preprocessing.scale(data1, axis=0)\n",
    "data2 = preprocessing.scale(data2, axis=0)\n",
    "data1[np.isnan(data1)] = 0  # Replace NaN with average\n",
    "data2[np.isnan(data2)] = 0\n",
    "data1 = preprocessing.MinMaxScaler().fit_transform(data1)\n",
    "data2 = preprocessing.MinMaxScaler().fit_transform(data2)\n",
    "dataset = [data1, data2]\n",
    "\n",
    "# Replace NULL feature names\n",
    "for i in range(len(features)):\n",
    "    if features[i] is None:\n",
    "        features[i] = [f'Feature {i}' for i in range(dataset[i].shape[1])]"
   ]
  },
  {
   "cell_type": "code",
   "execution_count": 302,
   "id": "5496a272-8619-4eb4-aeda-b13ba0276f29",
   "metadata": {},
   "outputs": [],
   "source": [
    "# Group labels\n",
    "group = ['GluN3', 'GluN4', 'IN1', 'GluN2', 'IN2', 'GluN6', 'GluN5', 'RG',\n",
    "       'nIPC', 'GluN1', 'mGPC/OPC', 'IN3', 'IN4', 'SP', 'GluN7',\n",
    "       'MG/EC/Peric.']\n",
    "conv =  ['GluN', 'GluN', 'IN', 'GluN', 'IN', 'GluN', 'GluN', 'RG',\n",
    "        'nIPC', 'GluN', 'mGPC/OPC', 'IN', 'IN', 'SP', 'GluN',\n",
    "        'MG/EC/Peric.']\n",
    "group_conv = {g:c for g, c in zip(group, conv)}\n",
    "labels = [np.array([group_conv[l] for l in label]) for label in labels]"
   ]
  },
  {
   "cell_type": "code",
   "execution_count": 8,
   "id": "345ddc2f-d91f-474f-a3cd-13bf503cf7aa",
   "metadata": {
    "tags": []
   },
   "outputs": [],
   "source": [
    "# Train-Test Imputation\n",
    "train_size = int(.8 * len(data1))\n",
    "train_idx = np.random.choice(range(len(data1)), train_size)\n",
    "test_idx = np.array(list(set(range(len(data1))) - set(train_idx)))"
   ]
  },
  {
   "cell_type": "code",
   "execution_count": 9,
   "id": "d40f5b92-3092-45a2-9988-073b09a6b63b",
   "metadata": {
    "tags": []
   },
   "outputs": [],
   "source": [
    "# Reduced Priors\n",
    "full_priors = np.eye(len(dataset[0]))\n",
    "\n",
    "random_idx = np.random.choice(range(len(dataset[0])), int(.5 * len(dataset[0])), replace=False)\n",
    "priors = np.zeros(len(dataset[0]))\n",
    "priors[random_idx] = 1\n",
    "half_priors = np.diag(priors)\n",
    "\n",
    "none_priors = np.zeros((len(dataset[0]), len(dataset[0])))\n",
    "\n",
    "# Vars\n",
    "reduced_dim = 32\n",
    "batch_size = 256\n",
    "pca_dim = [256, 256]\n",
    "dist_method = 'euclidean'"
   ]
  },
  {
   "cell_type": "markdown",
   "id": "990c2d43-ad15-48e7-ace4-73b2fe51bae7",
   "metadata": {},
   "source": [
    "# ComManDo"
   ]
  },
  {
   "cell_type": "code",
   "execution_count": 10,
   "id": "7d4a414c-eb15-490c-b760-857eb7e06766",
   "metadata": {},
   "outputs": [],
   "source": [
    "# Integration\n",
    "kwargs = {\n",
    "    'output_dim': reduced_dim,\n",
    "    'epoch_DNN': 2500,\n",
    "    'log_DNN': 500,\n",
    "    'use_early_stop': False,\n",
    "    'batch_size': batch_size,\n",
    "    'pca_dim': pca_dim,\n",
    "    'dist_method': dist_method,\n",
    "    'loss_weights': [1,1,1,1],\n",
    "}\n",
    "fromChar = [' ', '),', '(', ')', ',', '\\'', '[', ']']\n",
    "toChar = ['', '--', '', '', '-', '', '(', ')']\n",
    "kwargs_str = str(sorted(kwargs.items()))[1:-1]\n",
    "for f, t in zip(fromChar, toChar):\n",
    "    kwargs_str = kwargs_str.replace(f, t)\n",
    "hash_str = '---'.join([dataset_name, '-'.join([str(s) for s in dataset[0].shape]), '-'.join([str(s) for s in dataset[1].shape]), kwargs_str])"
   ]
  },
  {
   "cell_type": "code",
   "execution_count": 11,
   "id": "0dc2cd49-62bd-4f9b-894a-95df3d81332a",
   "metadata": {
    "scrolled": true,
    "tags": []
   },
   "outputs": [],
   "source": [
    "# Integration\n",
    "cm = ComManDo(**kwargs)  # , match_result=cm.match_result, debug=True)\n",
    "model_str = 'saved_models/cm---' + hash_str + '.h5'\n",
    "try:\n",
    "    # raise FileNotFoundError()\n",
    "    cm.load_model(model_str)\n",
    "    print(f'Loaded model \\'{model_str}\\'')\n",
    "except FileNotFoundError:\n",
    "    cm_data = cm.fit_transform(dataset=dataset)\n",
    "    cm.save_model(model_str)\n",
    "cm_data = cm.transform(dataset=dataset)"
   ]
  },
  {
   "cell_type": "code",
   "execution_count": 12,
   "id": "1e5edab7-da96-45df-96ae-465efacd1743",
   "metadata": {
    "scrolled": true,
    "tags": []
   },
   "outputs": [],
   "source": [
    "# Imputation\n",
    "cm_im = ComManDo(**kwargs)\n",
    "model_str = 'saved_models/cm_im---' + hash_str + '.h5'\n",
    "try:\n",
    "    # raise FileNotFoundError()\n",
    "    cm_im.load_model(model_str)\n",
    "    print(f'Loaded model \\'{model_str}\\'')\n",
    "except FileNotFoundError:\n",
    "    cm_im.fit_transform(dataset=[data1[train_idx], data2[train_idx]])\n",
    "    cm_im.save_model(model_str)\n",
    "cm_imputed = [cm_im.modal_predict(dataset[i][test_idx], i) for i in range(1, -1, -1)]"
   ]
  },
  {
   "cell_type": "markdown",
   "id": "5a570319-8615-4ce7-9a32-16f7ca762449",
   "metadata": {
    "tags": []
   },
   "source": [
    "# Comparison Methods"
   ]
  },
  {
   "cell_type": "code",
   "execution_count": 13,
   "id": "1452c75f-3c44-4d28-91c3-c1c4b216c305",
   "metadata": {},
   "outputs": [],
   "source": [
    "integrated_data = [cm_data]\n",
    "integrated_names = ['JAMIE']\n",
    "colors = ['blue']"
   ]
  },
  {
   "cell_type": "code",
   "execution_count": 14,
   "id": "cb83ee01-8fd9-407e-9ae0-775543c7e1e6",
   "metadata": {
    "scrolled": true,
    "tags": []
   },
   "outputs": [],
   "source": [
    "# NLMA\n",
    "nlma_data, _ = mmd_combine(*dataset, method='maninetcluster', alignment='nonlinear manifold aln', num_dims=reduced_dim)\n",
    "integrated_data.append(nlma_data)\n",
    "integrated_names.append('NLMA')\n",
    "colors.append('red')"
   ]
  },
  {
   "cell_type": "code",
   "execution_count": 15,
   "id": "50c83c94-1b32-4347-903c-1c7e36c2746b",
   "metadata": {},
   "outputs": [],
   "source": [
    "# # LMA\n",
    "# lma_data, _, _ = mmd_combine(*dataset, method='maninetcluster', alignment='linear manifold', num_dims=reduced_dim)\n",
    "# integrated_data.append(lma_data)\n",
    "# integrated_names.append('LMA')\n",
    "# colors.append('orange')"
   ]
  },
  {
   "cell_type": "code",
   "execution_count": 16,
   "id": "4d8d9422-2a5d-40aa-b16e-aa2a9d9b2cd0",
   "metadata": {},
   "outputs": [],
   "source": [
    "# # CCA\n",
    "# cca_data, _, _ = mmd_combine(*dataset, method='maninetcluster', alignment='cca', num_dims=reduced_dim)\n",
    "# integrated_data.append(cca_data)\n",
    "# integrated_names.append('CCA')\n",
    "# colors.append('m')"
   ]
  },
  {
   "cell_type": "code",
   "execution_count": 17,
   "id": "492bc147-ebd5-40ef-bc7f-7136f3fe9719",
   "metadata": {},
   "outputs": [],
   "source": [
    "# # MMD-MA\n",
    "# from sklearn.metrics import pairwise_distances\n",
    "# mmd_ma_data, _, _ = mmd_combine(pairwise_distances(dataset[0]), pairwise_distances(dataset[1]), method='mmd_ma', p=reduced_dim)\n",
    "# integrated_data.append(mmd_ma_data)\n",
    "# integrated_names.append('MMD-MA')\n",
    "# colors.append('yellow')"
   ]
  },
  {
   "cell_type": "code",
   "execution_count": 18,
   "id": "65084254-92ad-4761-a4ab-06f49b6c3a5a",
   "metadata": {
    "scrolled": true,
    "tags": []
   },
   "outputs": [],
   "source": [
    "# UnionCom\n",
    "uc_data, _, _ = mmd_combine(*dataset, method='unioncom', output_dim=reduced_dim)\n",
    "integrated_data.append(uc_data)\n",
    "integrated_names.append('Unioncom')\n",
    "colors.append('green')"
   ]
  },
  {
   "cell_type": "code",
   "execution_count": 58,
   "id": "139a520c-8384-4433-ad33-3eec1c7837ec",
   "metadata": {},
   "outputs": [],
   "source": [
    "# Imputation\n",
    "if False:\n",
    "    imputation_name = 'Babel'\n",
    "else:\n",
    "    imputation_name = 'Dual Autoencoder'\n",
    "    nn_imputed = [predict_nn(torch.tensor(dataset[i][train_idx]).float(), torch.tensor(dataset[(i+1)%2][train_idx]).float(), torch.tensor(dataset[i][test_idx]).float()) for i in range(1, -1, -1)]\n",
    "imputed_data = [cm_imputed, nn_imputed][::-1]\n",
    "imputed_names = ['JAMIE', imputation_name][::-1]"
   ]
  },
  {
   "cell_type": "markdown",
   "id": "b294cebf-8d52-4353-baad-014a2057d290",
   "metadata": {
    "tags": []
   },
   "source": [
    "# Visualization"
   ]
  },
  {
   "cell_type": "code",
   "execution_count": 303,
   "id": "1d354faf-7a53-4b44-b368-c419225a89ec",
   "metadata": {},
   "outputs": [],
   "source": [
    "style='white'\n",
    "sns.set(style=style)\n",
    "plt.rcParams.update({'font.weight': 'normal',\n",
    "                     'font.size': 18,\n",
    "                     'axes.titlesize': 'large',\n",
    "                     'axes.labelsize': 'large',\n",
    "                     'xtick.labelsize': 'small',\n",
    "                     'ytick.labelsize': 'small'})"
   ]
  },
  {
   "cell_type": "code",
   "execution_count": 304,
   "id": "f515ad28-c017-42bd-83b2-74fb3ca2e562",
   "metadata": {},
   "outputs": [],
   "source": [
    "%%capture\n",
    "from matplotlib.patches import Patch\n",
    "from matplotlib.lines import Line2D\n",
    "\n",
    "algorithm_elements = [Line2D([0], [0], color=c, lw=5, label=n) for n, c in zip(integrated_names, colors)]\n",
    "label_elements = [Line2D([0], [0], marker='o', color='w', markerfacecolor=plt.rcParams['axes.prop_cycle'].by_key()['color'][i], label=l, markersize=10) for i, l in enumerate(np.unique(labels))]\n",
    "\n",
    "# https://stackoverflow.com/a/47749903\n",
    "fig, ax = plt.subplots()\n",
    "legend = ax.legend(handles=label_elements, loc='center', frameon=False)\n",
    "legend.figure.canvas.draw()\n",
    "bbox = legend.get_window_extent().transformed(fig.dpi_scale_trans.inverted())\n",
    "plt.savefig('./output_figures/' + dataset_name + '-LabelLegend.png', bbox_inches=bbox, dpi=300)\n",
    "\n",
    "fig, ax = plt.subplots()\n",
    "legend = ax.legend(handles=algorithm_elements, loc='center', frameon=False)\n",
    "legend.figure.canvas.draw()\n",
    "bbox = legend.get_window_extent().transformed(fig.dpi_scale_trans.inverted())\n",
    "plt.savefig('./output_figures/' + dataset_name + '-AlgorithmLegend.png', bbox_inches=bbox, dpi=300)"
   ]
  },
  {
   "cell_type": "code",
   "execution_count": 305,
   "id": "ea5f4593-110b-40aa-b2ae-2fbd2627eb5d",
   "metadata": {},
   "outputs": [
    {
     "data": {
      "image/png": "[encoded data removed]",
      "text/plain": [
       "<IPython.core.display.Image object>"
      ]
     },
     "execution_count": 305,
     "metadata": {
      "image/png": {
       "width": 100
      }
     },
     "output_type": "execute_result"
    }
   ],
   "source": [
    "from IPython.display import Image\n",
    "Image(filename='./output_figures/' + dataset_name + '-LabelLegend.png', width=100)"
   ]
  },
  {
   "cell_type": "code",
   "execution_count": 306,
   "id": "a036f7b9-aa0d-4fe1-82fa-d3acf375b28b",
   "metadata": {},
   "outputs": [
    {
     "data": {
      "image/png": "[encoded data removed]",
      "text/plain": [
       "<IPython.core.display.Image object>"
      ]
     },
     "execution_count": 306,
     "metadata": {
      "image/png": {
       "width": 100
      }
     },
     "output_type": "execute_result"
    }
   ],
   "source": [
    "from IPython.display import Image\n",
    "Image(filename='./output_figures/' + dataset_name + '-AlgorithmLegend.png', width=100)"
   ]
  },
  {
   "cell_type": "code",
   "execution_count": 24,
   "id": "ffce5a88-894d-4367-bd8d-2f1610cc9a00",
   "metadata": {},
   "outputs": [],
   "source": [
    "fig = plt.figure(figsize=(10, 5))\n",
    "plot_regular(dataset, labels, modality_names)\n",
    "plt.tight_layout()\n",
    "plt.savefig('./output_figures/' + dataset_name + '-Data.png', dpi=300)"
   ]
  },
  {
   "cell_type": "code",
   "execution_count": 25,
   "id": "4b2d618a-813e-4c1d-935f-e97c4289bf7a",
   "metadata": {},
   "outputs": [],
   "source": [
    "# fig = plt.figure(figsize=(10, 5))\n",
    "# plot_integrated(cm_data, labels, ['JAMIE - ' + mn for mn in modality_names])\n",
    "# plt.tight_layout()\n",
    "# plt.savefig('./output_figures/' + dataset_name + '-JAMIE.png', dpi=300)"
   ]
  },
  {
   "cell_type": "code",
   "execution_count": 26,
   "id": "3c26fd5c-1f03-403f-aad9-df355aee7f3e",
   "metadata": {},
   "outputs": [],
   "source": [
    "for d, n in zip(integrated_data, integrated_names):\n",
    "    fig = plt.figure(figsize=(10, 5))\n",
    "    plot_integrated(d, labels, [f'{n} - ' + mn for mn in modality_names], legend=False)\n",
    "    plt.tight_layout()\n",
    "    plt.savefig('./output_figures/' + dataset_name + f'-{n}.png', dpi=300)\n",
    "    plt.show()"
   ]
  },
  {
   "cell_type": "code",
   "execution_count": 27,
   "id": "709beae5-bc24-41af-bf33-c80642e11478",
   "metadata": {},
   "outputs": [],
   "source": [
    "plt.figure(figsize=(5, 5))\n",
    "plot_accuracy_graph(integrated_data, labels, integrated_names, colors=colors)\n",
    "sns.despine()\n",
    "plt.tight_layout()\n",
    "plt.savefig('./output_figures/' + dataset_name + '-Acc.png', dpi=300)"
   ]
  },
  {
   "cell_type": "code",
   "execution_count": 28,
   "id": "1f0db1a9-c399-475d-a98c-e6a40a6f0843",
   "metadata": {},
   "outputs": [],
   "source": [
    "plt.figure(figsize=(15, 5))\n",
    "plot_silhouette([[d[0]] for d in integrated_data], [labels[0]], integrated_names, modality_names[:1], colors=colors)\n",
    "sns.despine()\n",
    "plt.tight_layout()\n",
    "plt.savefig('./output_figures/' + dataset_name + '-Sil.png', dpi=300)"
   ]
  },
  {
   "cell_type": "code",
   "execution_count": 59,
   "id": "d8dc70b7-c89c-4adb-9320-b1a06f5040df",
   "metadata": {
    "tags": []
   },
   "outputs": [],
   "source": [
    "plt.figure(figsize=(10, 5))\n",
    "plot_auroc_correlation(imputed_data, [data1[test_idx], data2[test_idx]], modality_names, index=0, names=imputed_names)\n",
    "plt.tight_layout()\n",
    "plt.savefig('./output_figures/' + dataset_name + '-Imp1.png', dpi=300)"
   ]
  },
  {
   "cell_type": "code",
   "execution_count": 60,
   "id": "a23034cf-e3b2-4f97-a6a1-37e745f572d1",
   "metadata": {
    "tags": []
   },
   "outputs": [],
   "source": [
    "plt.figure(figsize=(10, 5))\n",
    "plot_auroc_correlation(imputed_data, [data1[test_idx], data2[test_idx]], modality_names, index=1, names=imputed_names)\n",
    "plt.tight_layout()\n",
    "plt.savefig('./output_figures/' + dataset_name + '-Imp2.png', dpi=300)"
   ]
  },
  {
   "cell_type": "code",
   "execution_count": 307,
   "id": "8ede3e9e-b395-4c0a-93bb-ae05f0098bb9",
   "metadata": {},
   "outputs": [
    {
     "name": "stderr",
     "output_type": "stream",
     "text": [
      "An input array is constant; the correlation coefficient is not defined.\n"
     ]
    },
    {
     "data": {
      "image/png": "[encoded data removed]",
      "text/plain": [
       "<Figure size 720x360 with 2 Axes>"
      ]
     },
     "metadata": {},
     "output_type": "display_data"
    }
   ],
   "source": [
    "plt.figure(figsize=(10, 5))\n",
    "plot_distribution_alone([dataset[0][test_idx], cm_imputed[0]], 2*[labels[0][test_idx]], title=modality_names[0], fnames=2*[features[0]])\n",
    "sns.despine()\n",
    "plt.savefig('./output_figures/' + dataset_name + '-Dist1.png', dpi=300)"
   ]
  },
  {
   "cell_type": "code",
   "execution_count": 308,
   "id": "a80e4535-c965-470f-818c-df24037055c4",
   "metadata": {
    "tags": []
   },
   "outputs": [
    {
     "name": "stderr",
     "output_type": "stream",
     "text": [
      "An input array is constant; the correlation coefficient is not defined.\n"
     ]
    },
    {
     "data": {
      "image/png": "[encoded data removed]",
      "text/plain": [
       "<Figure size 720x360 with 2 Axes>"
      ]
     },
     "metadata": {},
     "output_type": "display_data"
    }
   ],
   "source": [
    "plt.figure(figsize=(10, 5))\n",
    "plot_distribution_alone([dataset[1][test_idx], cm_imputed[1]], 2*[labels[1][test_idx]], title=modality_names[1], fnames=2*[features[1]])\n",
    "sns.despine()\n",
    "plt.savefig('./output_figures/' + dataset_name + '-Dist2.png', dpi=300)"
   ]
  },
  {
   "cell_type": "code",
   "execution_count": 33,
   "id": "2f7bcfd6-6828-47d0-ae8e-f58bd7461d7a",
   "metadata": {},
   "outputs": [],
   "source": [
    "plt.figure(figsize=(5, 5))\n",
    "plot_distribution_similarity([dataset[0][test_idx], cm_imputed[0]], 2*[labels[0][test_idx]], title=modality_names[0], fnames=2*[features[0]])\n",
    "sns.despine()\n",
    "plt.tight_layout()\n",
    "plt.savefig('./output_figures/' + dataset_name + '-Sim1.png', dpi=300)"
   ]
  },
  {
   "cell_type": "code",
   "execution_count": 34,
   "id": "9fcae535-2356-44b2-bca0-6d173db17be0",
   "metadata": {
    "tags": []
   },
   "outputs": [],
   "source": [
    "plt.figure(figsize=(5, 5))\n",
    "plot_distribution_similarity([dataset[1][test_idx], cm_imputed[1]], 2*[labels[1][test_idx]], title=modality_names[1], fnames=2*[features[1]])\n",
    "sns.despine()\n",
    "plt.tight_layout()\n",
    "plt.savefig('./output_figures/' + dataset_name + '-Sim2.png', dpi=300)"
   ]
  },
  {
   "cell_type": "markdown",
   "id": "f9ca5a9a-6e71-41cb-83f7-26dfde66d509",
   "metadata": {
    "tags": []
   },
   "source": [
    "# Explanation"
   ]
  },
  {
   "cell_type": "code",
   "execution_count": 252,
   "id": "c86d2bce-b402-40e6-b6fc-a03053341329",
   "metadata": {},
   "outputs": [],
   "source": [
    "mod0, mod1 = 1, 0"
   ]
  },
  {
   "cell_type": "code",
   "execution_count": 295,
   "id": "d0b007fa-1bab-4d54-8391-b02076202abb",
   "metadata": {},
   "outputs": [
    {
     "name": "stderr",
     "output_type": "stream",
     "text": [
      "An input array is constant; the correlation coefficient is not defined.\n"
     ]
    },
    {
     "name": "stdout",
     "output_type": "stream",
     "text": [
      "Top performing features:\n",
      "ENSG00000165816, ENSG00000138119, ENSG00000185201, ENSG00000163191, ENSG00000170955, ENSG00000118777, ENSG00000116016, ENSG00000163453, ENSG00000088992, ENSG00000175899\n",
      "17152, 16905, 17371, 1893, 17592, 7945, 3685, 7719, 20848, 19517\n",
      "\n",
      "Top interesting features:\n",
      "ENSG00000165816, ENSG00000138119, ENSG00000185201, ENSG00000163191, ENSG00000170955, ENSG00000118777, ENSG00000116016, ENSG00000163453, ENSG00000088992, ENSG00000175899\n",
      "17152, 16905, 17371, 1893, 17592, 7945, 3685, 7719, 20848, 19517\n"
     ]
    }
   ],
   "source": [
    "from commando.utilities import sort_by_interest\n",
    "\n",
    "order, interest = sort_by_interest([cm_imputed[mod1], dataset[mod1][test_idx]], limit=10)\n",
    "order_str = ', '.join([str(n) for n in order[:10]])\n",
    "order_names_str = ', '.join(features[mod1][order[:10]])\n",
    "print(f'Top performing features:\\n{order_names_str}\\n{order_str}')\n",
    "print()\n",
    "interest_str = ', '.join([str(n) for n in interest[:10]])\n",
    "interest_names_str = ', '.join(features[mod1][interest[:10]])\n",
    "print(f'Top interesting features:\\n{interest_names_str}\\n{interest_str}')"
   ]
  },
  {
   "cell_type": "code",
   "execution_count": 296,
   "id": "b67517b9-00d1-4bc8-a6ae-8ba2c02b7d83",
   "metadata": {
    "scrolled": true,
    "tags": []
   },
   "outputs": [
    {
     "name": "stdout",
     "output_type": "stream",
     "text": [
      "   6/1000 [                                                  ] - Current Best: -inf, \r"
     ]
    },
    {
     "name": "stderr",
     "output_type": "stream",
     "text": [
      "An input array is nearly constant; the computed correlation coefficient may be inaccurate.\n"
     ]
    },
    {
     "name": "stdout",
     "output_type": "stream",
     "text": [
      "  11/1000 [                                                  ] - Current Best: 0.02205, SIN3A\r"
     ]
    },
    {
     "name": "stderr",
     "output_type": "stream",
     "text": [
      "An input array is nearly constant; the computed correlation coefficient may be inaccurate.\n"
     ]
    },
    {
     "name": "stdout",
     "output_type": "stream",
     "text": [
      "  61/1000 [|||                                               ] - Current Best: 0.05159, FER1L6\r"
     ]
    },
    {
     "name": "stderr",
     "output_type": "stream",
     "text": [
      "An input array is nearly constant; the computed correlation coefficient may be inaccurate.\n"
     ]
    },
    {
     "name": "stdout",
     "output_type": "stream",
     "text": [
      "  72/1000 [|||                                               ] - Current Best: 0.05159, FER1L6\r"
     ]
    },
    {
     "name": "stderr",
     "output_type": "stream",
     "text": [
      "An input array is nearly constant; the computed correlation coefficient may be inaccurate.\n"
     ]
    },
    {
     "name": "stdout",
     "output_type": "stream",
     "text": [
      "  76/1000 [|||                                               ] - Current Best: 0.05159, FER1L6\r"
     ]
    },
    {
     "name": "stderr",
     "output_type": "stream",
     "text": [
      "An input array is nearly constant; the computed correlation coefficient may be inaccurate.\n"
     ]
    },
    {
     "name": "stdout",
     "output_type": "stream",
     "text": [
      " 112/1000 [|||||                                             ] - Current Best: 0.05159, FER1L6\r"
     ]
    },
    {
     "name": "stderr",
     "output_type": "stream",
     "text": [
      "An input array is nearly constant; the computed correlation coefficient may be inaccurate.\n"
     ]
    },
    {
     "name": "stdout",
     "output_type": "stream",
     "text": [
      " 115/1000 [|||||                                             ] - Current Best: 0.05159, FER1L6\r"
     ]
    },
    {
     "name": "stderr",
     "output_type": "stream",
     "text": [
      "An input array is nearly constant; the computed correlation coefficient may be inaccurate.\n"
     ]
    },
    {
     "name": "stdout",
     "output_type": "stream",
     "text": [
      " 117/1000 [|||||                                             ] - Current Best: 0.05159, FER1L6\r"
     ]
    },
    {
     "name": "stderr",
     "output_type": "stream",
     "text": [
      "An input array is nearly constant; the computed correlation coefficient may be inaccurate.\n"
     ]
    },
    {
     "name": "stdout",
     "output_type": "stream",
     "text": [
      " 127/1000 [||||||                                            ] - Current Best: 0.05159, FER1L6\r"
     ]
    },
    {
     "name": "stderr",
     "output_type": "stream",
     "text": [
      "An input array is nearly constant; the computed correlation coefficient may be inaccurate.\n"
     ]
    },
    {
     "name": "stdout",
     "output_type": "stream",
     "text": [
      " 132/1000 [||||||                                            ] - Current Best: 0.05159, FER1L6\r"
     ]
    },
    {
     "name": "stderr",
     "output_type": "stream",
     "text": [
      "An input array is nearly constant; the computed correlation coefficient may be inaccurate.\n"
     ]
    },
    {
     "name": "stdout",
     "output_type": "stream",
     "text": [
      " 150/1000 [|||||||                                           ] - Current Best: 0.07722, TMEM106A\r"
     ]
    },
    {
     "name": "stderr",
     "output_type": "stream",
     "text": [
      "An input array is nearly constant; the computed correlation coefficient may be inaccurate.\n"
     ]
    },
    {
     "name": "stdout",
     "output_type": "stream",
     "text": [
      " 156/1000 [|||||||                                           ] - Current Best: 0.07722, TMEM106A\r"
     ]
    },
    {
     "name": "stderr",
     "output_type": "stream",
     "text": [
      "An input array is nearly constant; the computed correlation coefficient may be inaccurate.\n"
     ]
    },
    {
     "name": "stdout",
     "output_type": "stream",
     "text": [
      " 169/1000 [||||||||                                          ] - Current Best: 0.07722, TMEM106A\r"
     ]
    },
    {
     "name": "stderr",
     "output_type": "stream",
     "text": [
      "An input array is nearly constant; the computed correlation coefficient may be inaccurate.\n"
     ]
    },
    {
     "name": "stdout",
     "output_type": "stream",
     "text": [
      " 194/1000 [|||||||||                                         ] - Current Best: 0.07722, TMEM106A\r"
     ]
    },
    {
     "name": "stderr",
     "output_type": "stream",
     "text": [
      "An input array is nearly constant; the computed correlation coefficient may be inaccurate.\n"
     ]
    },
    {
     "name": "stdout",
     "output_type": "stream",
     "text": [
      " 195/1000 [|||||||||                                         ] - Current Best: 0.07722, TMEM106A\r"
     ]
    },
    {
     "name": "stderr",
     "output_type": "stream",
     "text": [
      "An input array is nearly constant; the computed correlation coefficient may be inaccurate.\n"
     ]
    },
    {
     "name": "stdout",
     "output_type": "stream",
     "text": [
      " 199/1000 [|||||||||                                         ] - Current Best: 0.07722, TMEM106A\r"
     ]
    },
    {
     "name": "stderr",
     "output_type": "stream",
     "text": [
      "An input array is nearly constant; the computed correlation coefficient may be inaccurate.\n"
     ]
    },
    {
     "name": "stdout",
     "output_type": "stream",
     "text": [
      " 209/1000 [||||||||||                                        ] - Current Best: 0.07722, TMEM106A\r"
     ]
    },
    {
     "name": "stderr",
     "output_type": "stream",
     "text": [
      "An input array is nearly constant; the computed correlation coefficient may be inaccurate.\n"
     ]
    },
    {
     "name": "stdout",
     "output_type": "stream",
     "text": [
      " 246/1000 [||||||||||||                                      ] - Current Best: 0.07722, TMEM106A\r"
     ]
    },
    {
     "name": "stderr",
     "output_type": "stream",
     "text": [
      "An input array is nearly constant; the computed correlation coefficient may be inaccurate.\n"
     ]
    },
    {
     "name": "stdout",
     "output_type": "stream",
     "text": [
      " 265/1000 [|||||||||||||                                     ] - Current Best: 0.07722, TMEM106A\r"
     ]
    },
    {
     "name": "stderr",
     "output_type": "stream",
     "text": [
      "An input array is nearly constant; the computed correlation coefficient may be inaccurate.\n"
     ]
    },
    {
     "name": "stdout",
     "output_type": "stream",
     "text": [
      " 280/1000 [||||||||||||||                                    ] - Current Best: 0.07722, TMEM106A\r"
     ]
    },
    {
     "name": "stderr",
     "output_type": "stream",
     "text": [
      "An input array is nearly constant; the computed correlation coefficient may be inaccurate.\n"
     ]
    },
    {
     "name": "stdout",
     "output_type": "stream",
     "text": [
      " 282/1000 [||||||||||||||                                    ] - Current Best: 0.07722, TMEM106A\r"
     ]
    },
    {
     "name": "stderr",
     "output_type": "stream",
     "text": [
      "An input array is nearly constant; the computed correlation coefficient may be inaccurate.\n"
     ]
    },
    {
     "name": "stdout",
     "output_type": "stream",
     "text": [
      " 339/1000 [||||||||||||||||                                  ] - Current Best: 0.07722, TMEM106A\r"
     ]
    },
    {
     "name": "stderr",
     "output_type": "stream",
     "text": [
      "An input array is nearly constant; the computed correlation coefficient may be inaccurate.\n"
     ]
    },
    {
     "name": "stdout",
     "output_type": "stream",
     "text": [
      " 345/1000 [|||||||||||||||||                                 ] - Current Best: 0.07722, TMEM106A\r"
     ]
    },
    {
     "name": "stderr",
     "output_type": "stream",
     "text": [
      "An input array is nearly constant; the computed correlation coefficient may be inaccurate.\n"
     ]
    },
    {
     "name": "stdout",
     "output_type": "stream",
     "text": [
      " 353/1000 [|||||||||||||||||                                 ] - Current Best: 0.07722, TMEM106A\r"
     ]
    },
    {
     "name": "stderr",
     "output_type": "stream",
     "text": [
      "An input array is nearly constant; the computed correlation coefficient may be inaccurate.\n"
     ]
    },
    {
     "name": "stdout",
     "output_type": "stream",
     "text": [
      " 355/1000 [|||||||||||||||||                                 ] - Current Best: 0.07722, TMEM106A\r"
     ]
    },
    {
     "name": "stderr",
     "output_type": "stream",
     "text": [
      "An input array is nearly constant; the computed correlation coefficient may be inaccurate.\n"
     ]
    },
    {
     "name": "stdout",
     "output_type": "stream",
     "text": [
      " 371/1000 [||||||||||||||||||                                ] - Current Best: 0.07722, TMEM106A\r"
     ]
    },
    {
     "name": "stderr",
     "output_type": "stream",
     "text": [
      "An input array is nearly constant; the computed correlation coefficient may be inaccurate.\n"
     ]
    },
    {
     "name": "stdout",
     "output_type": "stream",
     "text": [
      " 378/1000 [||||||||||||||||||                                ] - Current Best: 0.07722, TMEM106A\r"
     ]
    },
    {
     "name": "stderr",
     "output_type": "stream",
     "text": [
      "An input array is nearly constant; the computed correlation coefficient may be inaccurate.\n"
     ]
    },
    {
     "name": "stdout",
     "output_type": "stream",
     "text": [
      " 381/1000 [|||||||||||||||||||                               ] - Current Best: 0.07722, TMEM106A\r"
     ]
    },
    {
     "name": "stderr",
     "output_type": "stream",
     "text": [
      "An input array is nearly constant; the computed correlation coefficient may be inaccurate.\n"
     ]
    },
    {
     "name": "stdout",
     "output_type": "stream",
     "text": [
      " 390/1000 [|||||||||||||||||||                               ] - Current Best: 0.07722, TMEM106A\r"
     ]
    },
    {
     "name": "stderr",
     "output_type": "stream",
     "text": [
      "An input array is nearly constant; the computed correlation coefficient may be inaccurate.\n"
     ]
    },
    {
     "name": "stdout",
     "output_type": "stream",
     "text": [
      " 455/1000 [||||||||||||||||||||||                            ] - Current Best: 0.07722, TMEM106A\r"
     ]
    },
    {
     "name": "stderr",
     "output_type": "stream",
     "text": [
      "An input array is nearly constant; the computed correlation coefficient may be inaccurate.\n"
     ]
    },
    {
     "name": "stdout",
     "output_type": "stream",
     "text": [
      " 502/1000 [|||||||||||||||||||||||||                         ] - Current Best: 0.07722, TMEM106A\r"
     ]
    },
    {
     "name": "stderr",
     "output_type": "stream",
     "text": [
      "An input array is nearly constant; the computed correlation coefficient may be inaccurate.\n"
     ]
    },
    {
     "name": "stdout",
     "output_type": "stream",
     "text": [
      " 514/1000 [|||||||||||||||||||||||||                         ] - Current Best: 0.07722, TMEM106A\r"
     ]
    },
    {
     "name": "stderr",
     "output_type": "stream",
     "text": [
      "An input array is nearly constant; the computed correlation coefficient may be inaccurate.\n"
     ]
    },
    {
     "name": "stdout",
     "output_type": "stream",
     "text": [
      " 520/1000 [||||||||||||||||||||||||||                        ] - Current Best: 0.07722, TMEM106A\r"
     ]
    },
    {
     "name": "stderr",
     "output_type": "stream",
     "text": [
      "An input array is nearly constant; the computed correlation coefficient may be inaccurate.\n"
     ]
    },
    {
     "name": "stdout",
     "output_type": "stream",
     "text": [
      " 627/1000 [|||||||||||||||||||||||||||||||                   ] - Current Best: 0.07722, TMEM106A\r"
     ]
    },
    {
     "name": "stderr",
     "output_type": "stream",
     "text": [
      "An input array is nearly constant; the computed correlation coefficient may be inaccurate.\n"
     ]
    },
    {
     "name": "stdout",
     "output_type": "stream",
     "text": [
      " 668/1000 [|||||||||||||||||||||||||||||||||                 ] - Current Best: 0.07722, TMEM106A\r"
     ]
    },
    {
     "name": "stderr",
     "output_type": "stream",
     "text": [
      "An input array is nearly constant; the computed correlation coefficient may be inaccurate.\n"
     ]
    },
    {
     "name": "stdout",
     "output_type": "stream",
     "text": [
      " 674/1000 [|||||||||||||||||||||||||||||||||                 ] - Current Best: 0.07722, TMEM106A\r"
     ]
    },
    {
     "name": "stderr",
     "output_type": "stream",
     "text": [
      "An input array is nearly constant; the computed correlation coefficient may be inaccurate.\n"
     ]
    },
    {
     "name": "stdout",
     "output_type": "stream",
     "text": [
      " 709/1000 [|||||||||||||||||||||||||||||||||||               ] - Current Best: 0.07722, TMEM106A\r"
     ]
    },
    {
     "name": "stderr",
     "output_type": "stream",
     "text": [
      "An input array is nearly constant; the computed correlation coefficient may be inaccurate.\n"
     ]
    },
    {
     "name": "stdout",
     "output_type": "stream",
     "text": [
      " 719/1000 [|||||||||||||||||||||||||||||||||||               ] - Current Best: 0.07722, TMEM106A\r"
     ]
    },
    {
     "name": "stderr",
     "output_type": "stream",
     "text": [
      "An input array is nearly constant; the computed correlation coefficient may be inaccurate.\n"
     ]
    },
    {
     "name": "stdout",
     "output_type": "stream",
     "text": [
      " 734/1000 [||||||||||||||||||||||||||||||||||||              ] - Current Best: 0.07722, TMEM106A\r"
     ]
    },
    {
     "name": "stderr",
     "output_type": "stream",
     "text": [
      "An input array is nearly constant; the computed correlation coefficient may be inaccurate.\n"
     ]
    },
    {
     "name": "stdout",
     "output_type": "stream",
     "text": [
      " 759/1000 [|||||||||||||||||||||||||||||||||||||             ] - Current Best: 0.07722, TMEM106A\r"
     ]
    },
    {
     "name": "stderr",
     "output_type": "stream",
     "text": [
      "An input array is nearly constant; the computed correlation coefficient may be inaccurate.\n"
     ]
    },
    {
     "name": "stdout",
     "output_type": "stream",
     "text": [
      " 777/1000 [||||||||||||||||||||||||||||||||||||||            ] - Current Best: 0.07722, TMEM106A\r"
     ]
    },
    {
     "name": "stderr",
     "output_type": "stream",
     "text": [
      "An input array is nearly constant; the computed correlation coefficient may be inaccurate.\n"
     ]
    },
    {
     "name": "stdout",
     "output_type": "stream",
     "text": [
      " 795/1000 [|||||||||||||||||||||||||||||||||||||||           ] - Current Best: 0.07722, TMEM106A\r"
     ]
    },
    {
     "name": "stderr",
     "output_type": "stream",
     "text": [
      "An input array is nearly constant; the computed correlation coefficient may be inaccurate.\n"
     ]
    },
    {
     "name": "stdout",
     "output_type": "stream",
     "text": [
      " 798/1000 [|||||||||||||||||||||||||||||||||||||||           ] - Current Best: 0.07722, TMEM106A\r"
     ]
    },
    {
     "name": "stderr",
     "output_type": "stream",
     "text": [
      "An input array is nearly constant; the computed correlation coefficient may be inaccurate.\n"
     ]
    },
    {
     "name": "stdout",
     "output_type": "stream",
     "text": [
      " 819/1000 [||||||||||||||||||||||||||||||||||||||||          ] - Current Best: 0.07722, TMEM106A\r"
     ]
    },
    {
     "name": "stderr",
     "output_type": "stream",
     "text": [
      "An input array is nearly constant; the computed correlation coefficient may be inaccurate.\n"
     ]
    },
    {
     "name": "stdout",
     "output_type": "stream",
     "text": [
      " 841/1000 [||||||||||||||||||||||||||||||||||||||||||        ] - Current Best: 0.07722, TMEM106A\r"
     ]
    },
    {
     "name": "stderr",
     "output_type": "stream",
     "text": [
      "An input array is nearly constant; the computed correlation coefficient may be inaccurate.\n"
     ]
    },
    {
     "name": "stdout",
     "output_type": "stream",
     "text": [
      " 843/1000 [||||||||||||||||||||||||||||||||||||||||||        ] - Current Best: 0.07722, TMEM106A\r"
     ]
    },
    {
     "name": "stderr",
     "output_type": "stream",
     "text": [
      "An input array is nearly constant; the computed correlation coefficient may be inaccurate.\n"
     ]
    },
    {
     "name": "stdout",
     "output_type": "stream",
     "text": [
      " 845/1000 [||||||||||||||||||||||||||||||||||||||||||        ] - Current Best: 0.07722, TMEM106A\r"
     ]
    },
    {
     "name": "stderr",
     "output_type": "stream",
     "text": [
      "An input array is nearly constant; the computed correlation coefficient may be inaccurate.\n"
     ]
    },
    {
     "name": "stdout",
     "output_type": "stream",
     "text": [
      " 852/1000 [||||||||||||||||||||||||||||||||||||||||||        ] - Current Best: 0.07722, TMEM106A\r"
     ]
    },
    {
     "name": "stderr",
     "output_type": "stream",
     "text": [
      "An input array is nearly constant; the computed correlation coefficient may be inaccurate.\n"
     ]
    },
    {
     "name": "stdout",
     "output_type": "stream",
     "text": [
      " 867/1000 [|||||||||||||||||||||||||||||||||||||||||||       ] - Current Best: 0.07722, TMEM106A\r"
     ]
    },
    {
     "name": "stderr",
     "output_type": "stream",
     "text": [
      "An input array is nearly constant; the computed correlation coefficient may be inaccurate.\n"
     ]
    },
    {
     "name": "stdout",
     "output_type": "stream",
     "text": [
      " 876/1000 [|||||||||||||||||||||||||||||||||||||||||||       ] - Current Best: 0.07722, TMEM106A\r"
     ]
    },
    {
     "name": "stderr",
     "output_type": "stream",
     "text": [
      "An input array is nearly constant; the computed correlation coefficient may be inaccurate.\n"
     ]
    },
    {
     "name": "stdout",
     "output_type": "stream",
     "text": [
      " 877/1000 [|||||||||||||||||||||||||||||||||||||||||||       ] - Current Best: 0.07722, TMEM106A\r"
     ]
    },
    {
     "name": "stderr",
     "output_type": "stream",
     "text": [
      "An input array is nearly constant; the computed correlation coefficient may be inaccurate.\n"
     ]
    },
    {
     "name": "stdout",
     "output_type": "stream",
     "text": [
      " 879/1000 [|||||||||||||||||||||||||||||||||||||||||||       ] - Current Best: 0.07722, TMEM106A\r"
     ]
    },
    {
     "name": "stderr",
     "output_type": "stream",
     "text": [
      "An input array is nearly constant; the computed correlation coefficient may be inaccurate.\n"
     ]
    },
    {
     "name": "stdout",
     "output_type": "stream",
     "text": [
      " 965/1000 [||||||||||||||||||||||||||||||||||||||||||||||||  ] - Current Best: 0.09794, ABCA406A\r"
     ]
    },
    {
     "name": "stderr",
     "output_type": "stream",
     "text": [
      "An input array is nearly constant; the computed correlation coefficient may be inaccurate.\n"
     ]
    },
    {
     "name": "stdout",
     "output_type": "stream",
     "text": [
      " 968/1000 [||||||||||||||||||||||||||||||||||||||||||||||||  ] - Current Best: 0.09794, ABCA4\r"
     ]
    },
    {
     "name": "stderr",
     "output_type": "stream",
     "text": [
      "An input array is nearly constant; the computed correlation coefficient may be inaccurate.\n"
     ]
    },
    {
     "name": "stdout",
     "output_type": "stream",
     "text": [
      " 975/1000 [||||||||||||||||||||||||||||||||||||||||||||||||  ] - Current Best: 0.09794, ABCA4\r"
     ]
    },
    {
     "name": "stderr",
     "output_type": "stream",
     "text": [
      "An input array is nearly constant; the computed correlation coefficient may be inaccurate.\n"
     ]
    },
    {
     "name": "stdout",
     "output_type": "stream",
     "text": [
      " 976/1000 [||||||||||||||||||||||||||||||||||||||||||||||||  ] - Current Best: 0.09794, ABCA4\r"
     ]
    },
    {
     "name": "stderr",
     "output_type": "stream",
     "text": [
      "An input array is nearly constant; the computed correlation coefficient may be inaccurate.\n"
     ]
    },
    {
     "name": "stdout",
     "output_type": "stream",
     "text": [
      "1000/1000 [||||||||||||||||||||||||||||||||||||||||||||||||||] - Current Best: 0.09794, ABCA4\n",
      "Done!\n"
     ]
    }
   ],
   "source": [
    "from scipy import stats\n",
    "\n",
    "# Omit one testing\n",
    "in_data = dataset[mod0].copy()\n",
    "target = interest[0]\n",
    "out_data = dataset[mod1][:, target]\n",
    "current_cm = cm_im\n",
    "\n",
    "background = in_data.mean(0)\n",
    "logits = cm.modal_predict(in_data, mod0)[:, target]\n",
    "baseline = stats.pearsonr(logits, out_data)\n",
    "\n",
    "performance = []\n",
    "best_idx = -1\n",
    "best_perf = -np.inf\n",
    "best_str = ''\n",
    "check_best = 10\n",
    "testing_idx = np.random.choice(dataset[mod0].shape[1], int(1e3), replace=False)\n",
    "# testing_idx = np.array(range(in_data.shape[1]))\n",
    "for i, idx in enumerate(testing_idx):\n",
    "    # CLI\n",
    "    if (i+1) % check_best == 0 and len(performance) > 0:\n",
    "        best_idx = np.argmax(performance)\n",
    "        best_perf = performance[best_idx]\n",
    "        best_str = features[mod0][testing_idx[best_idx]]\n",
    "    prog_str = math.floor(50*(i+1)/len(testing_idx)) * '|'\n",
    "    print(\n",
    "        f'{i+1:>{len(str(len(testing_idx)))}}/{len(testing_idx)} [{prog_str:<50}] - '\n",
    "        f'Current Best: {best_perf:.5f}, {best_str}'\n",
    "        , end='\\r')\n",
    "    \n",
    "    mod_data = in_data\n",
    "    # Replace one\n",
    "    # replace_idx = idx  # Replace one\n",
    "    replace_idx = [i!=idx for i in range(mod_data.shape[1])]  # Keep one\n",
    "    old_data = mod_data[:, replace_idx]\n",
    "    mod_data[:, replace_idx] = background[replace_idx]\n",
    "    \n",
    "    # Predict\n",
    "    logits = cm.modal_predict(mod_data, mod0)[:, target]\n",
    "    \n",
    "    # Repair\n",
    "    mod_data[:, replace_idx] = old_data\n",
    "    \n",
    "    # Record\n",
    "    corr = stats.pearsonr(logits, out_data)[0]\n",
    "    # corr = -np.sum((logits - out_data)**2)\n",
    "    if np.isnan(corr):\n",
    "        corr = -np.inf\n",
    "    performance.append(corr)\n",
    "print('\\nDone!')\n",
    "performance = np.array(performance)"
   ]
  },
  {
   "cell_type": "code",
   "execution_count": 297,
   "id": "cbc6b2ec-7cef-4587-abc2-1e4172db891f",
   "metadata": {},
   "outputs": [
    {
     "name": "stdout",
     "output_type": "stream",
     "text": [
      "Target RNA Feature: ENSG00000165816\n",
      "https://www.genecards.org/cgi-bin/carddisp.pl?gene=ENSG00000165816\n",
      "Important ATAC Features: ABCA4, TMEM106A, EIF6, IL24, LRRC15, OR7G3, ENDOU, RNF113B, ACVRL1, FER1L6, GCM2, CDR2L, AL022238.4, C9orf16, AGTRAP, IGSF8, FCRL5, TMEM87A, MT1F, DAGLA\n",
      "0.09794: https://www.genecards.org/cgi-bin/carddisp.pl?gene=ABCA4\n",
      "0.07722: https://www.genecards.org/cgi-bin/carddisp.pl?gene=TMEM106A\n",
      "0.07486: https://www.genecards.org/cgi-bin/carddisp.pl?gene=EIF6\n",
      "0.06578: https://www.genecards.org/cgi-bin/carddisp.pl?gene=IL24\n",
      "0.06571: https://www.genecards.org/cgi-bin/carddisp.pl?gene=LRRC15\n",
      "0.06268: https://www.genecards.org/cgi-bin/carddisp.pl?gene=OR7G3\n",
      "0.06140: https://www.genecards.org/cgi-bin/carddisp.pl?gene=ENDOU\n",
      "0.05566: https://www.genecards.org/cgi-bin/carddisp.pl?gene=RNF113B\n",
      "0.05332: https://www.genecards.org/cgi-bin/carddisp.pl?gene=ACVRL1\n",
      "0.05159: https://www.genecards.org/cgi-bin/carddisp.pl?gene=FER1L6\n",
      "0.05095: https://www.genecards.org/cgi-bin/carddisp.pl?gene=GCM2\n",
      "0.04842: https://www.genecards.org/cgi-bin/carddisp.pl?gene=CDR2L\n",
      "0.04827: https://www.genecards.org/cgi-bin/carddisp.pl?gene=AL022238.4\n",
      "0.04805: https://www.genecards.org/cgi-bin/carddisp.pl?gene=C9orf16\n",
      "0.04732: https://www.genecards.org/cgi-bin/carddisp.pl?gene=AGTRAP\n",
      "0.04645: https://www.genecards.org/cgi-bin/carddisp.pl?gene=IGSF8\n",
      "0.04463: https://www.genecards.org/cgi-bin/carddisp.pl?gene=FCRL5\n",
      "0.04346: https://www.genecards.org/cgi-bin/carddisp.pl?gene=TMEM87A\n",
      "0.04306: https://www.genecards.org/cgi-bin/carddisp.pl?gene=MT1F\n",
      "0.04282: https://www.genecards.org/cgi-bin/carddisp.pl?gene=DAGLA\n"
     ]
    }
   ],
   "source": [
    "sorted_idx = testing_idx[np.argsort(performance)[::-1]]\n",
    "sorted_names = features[mod0][sorted_idx]\n",
    "sorted_perf = np.sort(performance)[::-1]\n",
    "target_name = features[mod1][target]\n",
    "\n",
    "display = 20\n",
    "print(f'Target {modality_names[mod1]} Feature: {target_name}')\n",
    "print(f'https://www.genecards.org/cgi-bin/carddisp.pl?gene={target_name}')\n",
    "importance = features[mod0][sorted_idx][:display]\n",
    "imp_str = ', '.join(importance)\n",
    "print(f'Important {modality_names[mod0]} Features: {imp_str}')\n",
    "for n, p in zip(importance, sorted_perf[:display]):\n",
    "    print(f'{p:.5f}: https://www.genecards.org/cgi-bin/carddisp.pl?gene={n}')"
   ]
  },
  {
   "cell_type": "markdown",
   "id": "f4ae5a62-cf7d-4fa2-87e5-d233d5d3f8ff",
   "metadata": {},
   "source": [
    "## SHAP"
   ]
  },
  {
   "cell_type": "code",
   "execution_count": 257,
   "id": "f868f786-ba01-4a88-871e-f093aa7a759a",
   "metadata": {},
   "outputs": [],
   "source": [
    "# RNA (Place) -> ATAC\n",
    "# ENSG00000251562 (4) -> HYLS1\n",
    "# ENSG00000251562 (4) -> HYLS1\n",
    "\n",
    "# ATAC (Place) -> RNA\n",
    "# ANKRD16 -> ENSG00000138119\n",
    "# PWWP2B"
   ]
  },
  {
   "cell_type": "code",
   "execution_count": 258,
   "id": "47326f03-ca61-4096-a3b3-40e5f167affb",
   "metadata": {
    "scrolled": true,
    "tags": []
   },
   "outputs": [
    {
     "name": "stderr",
     "output_type": "stream",
     "text": [
      "Permutation explainer: 1001it [49:00,  2.95s/it]                                                      \n"
     ]
    }
   ],
   "source": [
    "import shap\n",
    "\n",
    "# Subset for runtime\n",
    "use_subsetting = True\n",
    "subset_idx = np.random.choice(dataset[mod0].shape[1], 100, replace=False)\n",
    "background = np.mean(dataset[mod0], axis=0).reshape((1, -1))\n",
    "def take_subset(x, do=use_subsetting):\n",
    "    if not do:\n",
    "        return x\n",
    "    if len(x.shape) == 1:\n",
    "        return x[subset_idx]\n",
    "    return x[:, subset_idx]\n",
    "def reverse_subset(x, do=use_subsetting):\n",
    "    if not do:\n",
    "        return x\n",
    "    new_vec = np.concatenate(x.shape[0] * [background], axis=0)\n",
    "    new_vec[:, subset_idx] = x\n",
    "    return new_vec\n",
    "\n",
    "target_feature = interest[0]\n",
    "current_cm = cm_im\n",
    "model = lambda x: current_cm.modal_predict(reverse_subset(x), mod0)[:, target_feature]\n",
    "data = dataset[mod0]\n",
    "back = background\n",
    "feature_names = features[mod0]\n",
    "output_names = features[mod1][target_feature]\n",
    "\n",
    "# Apply subsetting\n",
    "data = take_subset(data)\n",
    "back = take_subset(back)\n",
    "feature_names = list(take_subset(np.array(feature_names)))\n",
    "\n",
    "# Explainer\n",
    "explainer = shap.Explainer(model, back, feature_names=feature_names, output_names=output_names)\n",
    "shap_values = explainer(data, max_evals=2*data.shape[1]+1)"
   ]
  },
  {
   "cell_type": "code",
   "execution_count": 259,
   "id": "100a94ba-556a-49a0-890a-a05b4b932db2",
   "metadata": {
    "tags": []
   },
   "outputs": [
    {
     "name": "stdout",
     "output_type": "stream",
     "text": [
      "Target RNA Feature: ENSG00000165816\n",
      "https://www.genecards.org/cgi-bin/carddisp.pl?gene=ENSG00000165816\n",
      "Important ATAC Features: MYH6, CWC25, ERCC1, EID2B, MAPT, PPARD, PRSS55, STXBP6, PRR5-ARHGAP8, HOXA11, SOST, SLC22A11, MMAA, ANKRD42, NCKAP1L, NAA35, C6orf106, ADGRB1, C6orf222, CEP295\n",
      "https://www.genecards.org/cgi-bin/carddisp.pl?gene=MYH6\n",
      "https://www.genecards.org/cgi-bin/carddisp.pl?gene=CWC25\n",
      "https://www.genecards.org/cgi-bin/carddisp.pl?gene=ERCC1\n",
      "https://www.genecards.org/cgi-bin/carddisp.pl?gene=EID2B\n",
      "https://www.genecards.org/cgi-bin/carddisp.pl?gene=MAPT\n",
      "https://www.genecards.org/cgi-bin/carddisp.pl?gene=PPARD\n",
      "https://www.genecards.org/cgi-bin/carddisp.pl?gene=PRSS55\n",
      "https://www.genecards.org/cgi-bin/carddisp.pl?gene=STXBP6\n",
      "https://www.genecards.org/cgi-bin/carddisp.pl?gene=PRR5-ARHGAP8\n",
      "https://www.genecards.org/cgi-bin/carddisp.pl?gene=HOXA11\n",
      "https://www.genecards.org/cgi-bin/carddisp.pl?gene=SOST\n",
      "https://www.genecards.org/cgi-bin/carddisp.pl?gene=SLC22A11\n",
      "https://www.genecards.org/cgi-bin/carddisp.pl?gene=MMAA\n",
      "https://www.genecards.org/cgi-bin/carddisp.pl?gene=ANKRD42\n",
      "https://www.genecards.org/cgi-bin/carddisp.pl?gene=NCKAP1L\n",
      "https://www.genecards.org/cgi-bin/carddisp.pl?gene=NAA35\n",
      "https://www.genecards.org/cgi-bin/carddisp.pl?gene=C6orf106\n",
      "https://www.genecards.org/cgi-bin/carddisp.pl?gene=ADGRB1\n",
      "https://www.genecards.org/cgi-bin/carddisp.pl?gene=C6orf222\n",
      "https://www.genecards.org/cgi-bin/carddisp.pl?gene=CEP295\n"
     ]
    }
   ],
   "source": [
    "display = 20\n",
    "print(f'Target {modality_names[mod1]} Feature: {output_names}')\n",
    "for n in [output_names]:\n",
    "    print(f'https://www.genecards.org/cgi-bin/carddisp.pl?gene={n}')\n",
    "importance = np.array(shap_values.feature_names)[np.argsort(shap_values.abs.mean(0).values)][::-1][:display]\n",
    "# importance = np.array(shap_values.feature_names)[np.argsort(shap_values.mean(axis=0).abs.values)[::-1][:display]]\n",
    "# importance = np.array(shap_values.feature_names)[np.argsort(shap_values.abs.max(axis=0).abs.values)[::-1][:display]]\n",
    "imp_str = ', '.join(importance)\n",
    "print(f'Important {modality_names[mod0]} Features: {imp_str}')\n",
    "for n in importance:\n",
    "    print(f'https://www.genecards.org/cgi-bin/carddisp.pl?gene={n}')"
   ]
  },
  {
   "cell_type": "code",
   "execution_count": 260,
   "id": "5e769147-0835-41df-9b1c-04fccc1fae02",
   "metadata": {},
   "outputs": [
    {
     "data": {
      "image/png": "[encoded data removed]",
      "text/plain": [
       "<Figure size 662.4x360 with 2 Axes>"
      ]
     },
     "metadata": {},
     "output_type": "display_data"
    }
   ],
   "source": [
    "plt.figure(figsize=(10, 5))\n",
    "ax = plt.gcf().add_subplot(1, 1, 1)\n",
    "shap.summary_plot(shap_values, data, plot_type='violin', max_display=display, plot_size=(9.2, 5), show=False)\n",
    "plt.tight_layout()\n",
    "plt.savefig('./output_figures/' + dataset_name + '-Summary.png');"
   ]
  },
  {
   "cell_type": "code",
   "execution_count": 261,
   "id": "4661b49e-b477-4bde-888b-a5c077a438ff",
   "metadata": {},
   "outputs": [
    {
     "data": {
      "image/png": "[encoded data removed]",
      "text/plain": [
       "<Figure size 576x432 with 2 Axes>"
      ]
     },
     "metadata": {},
     "output_type": "display_data"
    }
   ],
   "source": [
    "plt.figure(figsize=(10, 5))\n",
    "shap.plots.heatmap(shap_values, max_display=7, show=False)  # 7 because problem with visualization and tight layout\n",
    "plt.gca().set_xlabel('Samples')\n",
    "plt.tight_layout()\n",
    "plt.savefig('./output_figures/' + dataset_name + '-Heat.png');"
   ]
  },
  {
   "cell_type": "code",
   "execution_count": 262,
   "id": "94a1e7f6-58af-4a2c-b8d7-ebfc5b5b9ae2",
   "metadata": {},
   "outputs": [
    {
     "data": {
      "image/png": "[encoded data removed]",
      "text/plain": [
       "<Figure size 720x360 with 2 Axes>"
      ]
     },
     "metadata": {},
     "output_type": "display_data"
    }
   ],
   "source": [
    "plt.figure(figsize=(10, 5))\n",
    "ax = plt.gcf().add_subplot(1, 1, 1)\n",
    "shap.dependence_plot(np.argsort(np.abs(shap_values.values).mean(0))[::-1][0], shap_values.values, data, ax=ax, show=False)\n",
    "plt.tight_layout()\n",
    "plt.savefig('./output_figures/' + dataset_name + '-Dep1.png');"
   ]
  },
  {
   "cell_type": "code",
   "execution_count": 263,
   "id": "3aa62357-07a2-41b0-9c88-1e3e4c8e5260",
   "metadata": {},
   "outputs": [
    {
     "data": {
      "image/png": "[encoded data removed]",
      "text/plain": [
       "<Figure size 576x468 with 3 Axes>"
      ]
     },
     "metadata": {},
     "output_type": "display_data"
    }
   ],
   "source": [
    "plt.figure(figsize=(10, 5))\n",
    "ax = plt.gcf().add_subplot(1, 1, 1)\n",
    "shap.plots.waterfall(100*shap_values[0], show=False)\n",
    "plt.tight_layout()\n",
    "plt.savefig('./output_figures/' + dataset_name + '-Waterfall1.png');"
   ]
  },
  {
   "cell_type": "markdown",
   "id": "e84b9e40-959c-4253-bd77-be8fca363d03",
   "metadata": {},
   "source": [
    "### Interactive"
   ]
  },
  {
   "cell_type": "code",
   "execution_count": 44,
   "id": "808503d8-2776-414d-936b-70177ea3394d",
   "metadata": {},
   "outputs": [],
   "source": [
    "# # Kernel Explainer\n",
    "# kexplainer = shap.KernelExplainer(model, shap.kmeans(data, 10), feature_names=feature_names, output_names=output_names)\n",
    "# import warnings\n",
    "# with warnings.catch_warnings():\n",
    "#     warnings.simplefilter('ignore')\n",
    "#     kshap_values = kexplainer.shap_values(data, nsamples=100)"
   ]
  },
  {
   "cell_type": "code",
   "execution_count": 45,
   "id": "050deb8b-45d8-44e5-9f7b-a12a30f565e2",
   "metadata": {},
   "outputs": [],
   "source": [
    "# shap.force_plot(kexplainer.expected_value, kshap_values[0, :], data[0, :], matplotlib=True, show=False)\n",
    "# plt.savefig('./output_figures/' + dataset_name + '-Force.png', bbox_inches='tight');"
   ]
  },
  {
   "cell_type": "code",
   "execution_count": 46,
   "id": "4092f341-2b93-4ad4-8608-bd41510d8730",
   "metadata": {
    "tags": []
   },
   "outputs": [],
   "source": [
    "# shap.initjs()\n",
    "# shap.force_plot(kexplainer.expected_value, kshap_values, data)"
   ]
  }
 ],
 "metadata": {
  "kernelspec": {
   "display_name": "Python 3 (ipykernel)",
   "language": "python",
   "name": "python3"
  },
  "language_info": {
   "codemirror_mode": {
    "name": "ipython",
    "version": 3
   },
   "file_extension": ".py",
   "mimetype": "text/x-python",
   "name": "python",
   "nbconvert_exporter": "python",
   "pygments_lexer": "ipython3",
   "version": "3.9.5"
  },
  "widgets": {
   "application/vnd.jupyter.widget-state+json": {
    "state": {
     "0a778897f5a3448e8d2c7054f22fec68": {
      "model_module": "@jupyter-widgets/base",
      "model_module_version": "2.0.0",
      "model_name": "LayoutModel",
      "state": {
       "_model_module": "@jupyter-widgets/base",
       "_model_module_version": "2.0.0",
       "_model_name": "LayoutModel",
       "_view_count": null,
       "_view_module": "@jupyter-widgets/base",
       "_view_module_version": "2.0.0",
       "_view_name": "LayoutView",
       "align_content": null,
       "align_items": null,
       "align_self": null,
       "border_bottom": null,
       "border_left": null,
       "border_right": null,
       "border_top": null,
       "bottom": null,
       "display": null,
       "flex": null,
       "flex_flow": null,
       "grid_area": null,
       "grid_auto_columns": null,
       "grid_auto_flow": null,
       "grid_auto_rows": null,
       "grid_column": null,
       "grid_gap": null,
       "grid_row": null,
       "grid_template_areas": null,
       "grid_template_columns": null,
       "grid_template_rows": null,
       "height": null,
       "justify_content": null,
       "justify_items": null,
       "left": null,
       "margin": null,
       "max_height": null,
       "max_width": null,
       "min_height": null,
       "min_width": null,
       "object_fit": null,
       "object_position": null,
       "order": null,
       "overflow": null,
       "padding": null,
       "right": null,
       "top": null,
       "visibility": null,
       "width": null
      }
     },
     "1ca24abf48e842d29de28b8b94a0fc64": {
      "model_module": "@jupyter-widgets/controls",
      "model_module_version": "2.0.0",
      "model_name": "HTMLStyleModel",
      "state": {
       "_model_module": "@jupyter-widgets/controls",
       "_model_module_version": "2.0.0",
       "_model_name": "HTMLStyleModel",
       "_view_count": null,
       "_view_module": "@jupyter-widgets/base",
       "_view_module_version": "2.0.0",
       "_view_name": "StyleView",
       "background": null,
       "description_width": "",
       "font_size": null,
       "text_color": null
      }
     },
     "1ea1a3d2b5d24b048193c0ba2a53a082": {
      "model_module": "@jupyter-widgets/controls",
      "model_module_version": "2.0.0",
      "model_name": "FloatProgressModel",
      "state": {
       "_dom_classes": [],
       "_model_module": "@jupyter-widgets/controls",
       "_model_module_version": "2.0.0",
       "_model_name": "FloatProgressModel",
       "_view_count": null,
       "_view_module": "@jupyter-widgets/controls",
       "_view_module_version": "2.0.0",
       "_view_name": "ProgressView",
       "bar_style": "success",
       "description": "",
       "description_allow_html": false,
       "layout": "IPY_MODEL_4c42e361d476474da82920582c57c937",
       "max": 500,
       "min": 0,
       "orientation": "horizontal",
       "style": "IPY_MODEL_4a15a24b73044b35910a6ce60ff4e525",
       "tabbable": null,
       "tooltip": null,
       "value": 500
      }
     },
     "2fd5b03df2b441fbafc27be4957ca0c0": {
      "model_module": "@jupyter-widgets/controls",
      "model_module_version": "2.0.0",
      "model_name": "HTMLModel",
      "state": {
       "_dom_classes": [],
       "_model_module": "@jupyter-widgets/controls",
       "_model_module_version": "2.0.0",
       "_model_name": "HTMLModel",
       "_view_count": null,
       "_view_module": "@jupyter-widgets/controls",
       "_view_module_version": "2.0.0",
       "_view_name": "HTMLView",
       "description": "",
       "description_allow_html": false,
       "layout": "IPY_MODEL_73620a2e823041b3a8bdcb30f902a7bc",
       "placeholder": "​",
       "style": "IPY_MODEL_1ca24abf48e842d29de28b8b94a0fc64",
       "tabbable": null,
       "tooltip": null,
       "value": "100%"
      }
     },
     "4a15a24b73044b35910a6ce60ff4e525": {
      "model_module": "@jupyter-widgets/controls",
      "model_module_version": "2.0.0",
      "model_name": "ProgressStyleModel",
      "state": {
       "_model_module": "@jupyter-widgets/controls",
       "_model_module_version": "2.0.0",
       "_model_name": "ProgressStyleModel",
       "_view_count": null,
       "_view_module": "@jupyter-widgets/base",
       "_view_module_version": "2.0.0",
       "_view_name": "StyleView",
       "bar_color": null,
       "description_width": ""
      }
     },
     "4c42e361d476474da82920582c57c937": {
      "model_module": "@jupyter-widgets/base",
      "model_module_version": "2.0.0",
      "model_name": "LayoutModel",
      "state": {
       "_model_module": "@jupyter-widgets/base",
       "_model_module_version": "2.0.0",
       "_model_name": "LayoutModel",
       "_view_count": null,
       "_view_module": "@jupyter-widgets/base",
       "_view_module_version": "2.0.0",
       "_view_name": "LayoutView",
       "align_content": null,
       "align_items": null,
       "align_self": null,
       "border_bottom": null,
       "border_left": null,
       "border_right": null,
       "border_top": null,
       "bottom": null,
       "display": null,
       "flex": null,
       "flex_flow": null,
       "grid_area": null,
       "grid_auto_columns": null,
       "grid_auto_flow": null,
       "grid_auto_rows": null,
       "grid_column": null,
       "grid_gap": null,
       "grid_row": null,
       "grid_template_areas": null,
       "grid_template_columns": null,
       "grid_template_rows": null,
       "height": null,
       "justify_content": null,
       "justify_items": null,
       "left": null,
       "margin": null,
       "max_height": null,
       "max_width": null,
       "min_height": null,
       "min_width": null,
       "object_fit": null,
       "object_position": null,
       "order": null,
       "overflow": null,
       "padding": null,
       "right": null,
       "top": null,
       "visibility": null,
       "width": null
      }
     },
     "5ee72e6ec7bd4bdfbf5ef61d6e850ed2": {
      "model_module": "@jupyter-widgets/controls",
      "model_module_version": "2.0.0",
      "model_name": "HTMLStyleModel",
      "state": {
       "_model_module": "@jupyter-widgets/controls",
       "_model_module_version": "2.0.0",
       "_model_name": "HTMLStyleModel",
       "_view_count": null,
       "_view_module": "@jupyter-widgets/base",
       "_view_module_version": "2.0.0",
       "_view_name": "StyleView",
       "background": null,
       "description_width": "",
       "font_size": null,
       "text_color": null
      }
     },
     "73620a2e823041b3a8bdcb30f902a7bc": {
      "model_module": "@jupyter-widgets/base",
      "model_module_version": "2.0.0",
      "model_name": "LayoutModel",
      "state": {
       "_model_module": "@jupyter-widgets/base",
       "_model_module_version": "2.0.0",
       "_model_name": "LayoutModel",
       "_view_count": null,
       "_view_module": "@jupyter-widgets/base",
       "_view_module_version": "2.0.0",
       "_view_name": "LayoutView",
       "align_content": null,
       "align_items": null,
       "align_self": null,
       "border_bottom": null,
       "border_left": null,
       "border_right": null,
       "border_top": null,
       "bottom": null,
       "display": null,
       "flex": null,
       "flex_flow": null,
       "grid_area": null,
       "grid_auto_columns": null,
       "grid_auto_flow": null,
       "grid_auto_rows": null,
       "grid_column": null,
       "grid_gap": null,
       "grid_row": null,
       "grid_template_areas": null,
       "grid_template_columns": null,
       "grid_template_rows": null,
       "height": null,
       "justify_content": null,
       "justify_items": null,
       "left": null,
       "margin": null,
       "max_height": null,
       "max_width": null,
       "min_height": null,
       "min_width": null,
       "object_fit": null,
       "object_position": null,
       "order": null,
       "overflow": null,
       "padding": null,
       "right": null,
       "top": null,
       "visibility": null,
       "width": null
      }
     },
     "7c56929b3da3498eb8d1738ec5ea8c43": {
      "model_module": "@jupyter-widgets/controls",
      "model_module_version": "2.0.0",
      "model_name": "HBoxModel",
      "state": {
       "_dom_classes": [],
       "_model_module": "@jupyter-widgets/controls",
       "_model_module_version": "2.0.0",
       "_model_name": "HBoxModel",
       "_view_count": null,
       "_view_module": "@jupyter-widgets/controls",
       "_view_module_version": "2.0.0",
       "_view_name": "HBoxView",
       "box_style": "",
       "children": [
        "IPY_MODEL_2fd5b03df2b441fbafc27be4957ca0c0",
        "IPY_MODEL_1ea1a3d2b5d24b048193c0ba2a53a082",
        "IPY_MODEL_c7ffe080b34441eda765044e052849ed"
       ],
       "layout": "IPY_MODEL_b0308438e17140c1a6248c4c570b4a34",
       "tabbable": null,
       "tooltip": null
      }
     },
     "b0308438e17140c1a6248c4c570b4a34": {
      "model_module": "@jupyter-widgets/base",
      "model_module_version": "2.0.0",
      "model_name": "LayoutModel",
      "state": {
       "_model_module": "@jupyter-widgets/base",
       "_model_module_version": "2.0.0",
       "_model_name": "LayoutModel",
       "_view_count": null,
       "_view_module": "@jupyter-widgets/base",
       "_view_module_version": "2.0.0",
       "_view_name": "LayoutView",
       "align_content": null,
       "align_items": null,
       "align_self": null,
       "border_bottom": null,
       "border_left": null,
       "border_right": null,
       "border_top": null,
       "bottom": null,
       "display": null,
       "flex": null,
       "flex_flow": null,
       "grid_area": null,
       "grid_auto_columns": null,
       "grid_auto_flow": null,
       "grid_auto_rows": null,
       "grid_column": null,
       "grid_gap": null,
       "grid_row": null,
       "grid_template_areas": null,
       "grid_template_columns": null,
       "grid_template_rows": null,
       "height": null,
       "justify_content": null,
       "justify_items": null,
       "left": null,
       "margin": null,
       "max_height": null,
       "max_width": null,
       "min_height": null,
       "min_width": null,
       "object_fit": null,
       "object_position": null,
       "order": null,
       "overflow": null,
       "padding": null,
       "right": null,
       "top": null,
       "visibility": null,
       "width": null
      }
     },
     "c7ffe080b34441eda765044e052849ed": {
      "model_module": "@jupyter-widgets/controls",
      "model_module_version": "2.0.0",
      "model_name": "HTMLModel",
      "state": {
       "_dom_classes": [],
       "_model_module": "@jupyter-widgets/controls",
       "_model_module_version": "2.0.0",
       "_model_name": "HTMLModel",
       "_view_count": null,
       "_view_module": "@jupyter-widgets/controls",
       "_view_module_version": "2.0.0",
       "_view_name": "HTMLView",
       "description": "",
       "description_allow_html": false,
       "layout": "IPY_MODEL_0a778897f5a3448e8d2c7054f22fec68",
       "placeholder": "​",
       "style": "IPY_MODEL_5ee72e6ec7bd4bdfbf5ef61d6e850ed2",
       "tabbable": null,
       "tooltip": null,
       "value": " 500/500 [00:35&lt;00:00, 15.21it/s]"
      }
     }
    },
    "version_major": 2,
    "version_minor": 0
   }
  }
 },
 "nbformat": 4,
 "nbformat_minor": 5
}
