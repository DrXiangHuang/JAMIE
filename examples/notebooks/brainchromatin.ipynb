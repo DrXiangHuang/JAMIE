{
 "cells": [
  {
   "cell_type": "code",
   "execution_count": 1,
   "id": "a54a4980-d3b7-4664-9035-4abcb92b1ab5",
   "metadata": {
    "tags": []
   },
   "outputs": [],
   "source": [
    "%load_ext autoreload\n",
    "%autoreload 2"
   ]
  },
  {
   "cell_type": "code",
   "execution_count": 2,
   "id": "342bee2d-d6d8-49aa-98ba-79a38ade4175",
   "metadata": {
    "tags": []
   },
   "outputs": [
    {
     "name": "stderr",
     "output_type": "stream",
     "text": [
      "2022-10-12 13:09:01.134046: W tensorflow/stream_executor/platform/default/dso_loader.cc:64] Could not load dynamic library 'libcudart.so.11.0'; dlerror: libcudart.so.11.0: cannot open shared object file: No such file or directory\n",
      "2022-10-12 13:09:01.134084: I tensorflow/stream_executor/cuda/cudart_stub.cc:29] Ignore above cudart dlerror if you do not have a GPU set up on your machine.\n"
     ]
    },
    {
     "name": "stdout",
     "output_type": "stream",
     "text": [
      "WARNING:tensorflow:From /home/thema/miniconda3/lib/python3.9/site-packages/tensorflow/python/compat/v2_compat.py:101: disable_resource_variables (from tensorflow.python.ops.variable_scope) is deprecated and will be removed in a future version.\n",
      "Instructions for updating:\n",
      "non-resource variables are not supported in the long term\n"
     ]
    }
   ],
   "source": [
    "import os\n",
    "\n",
    "from commando import ComManDo\n",
    "from commando.evaluation import *\n",
    "from commando.utilities import *\n",
    "import matplotlib.pyplot as plt\n",
    "from mmd_wrapper import mmd_combine\n",
    "import numpy as np\n",
    "import pandas as pd\n",
    "import seaborn as sns\n",
    "from sklearn import preprocessing"
   ]
  },
  {
   "cell_type": "code",
   "execution_count": 3,
   "id": "56b783aa-276a-4064-bcfb-767f22c9fbe7",
   "metadata": {
    "tags": []
   },
   "outputs": [],
   "source": [
    "np.random.seed(42)"
   ]
  },
  {
   "cell_type": "markdown",
   "id": "c3a25c31-e758-4bd0-b5c5-1335a7451771",
   "metadata": {
    "tags": []
   },
   "source": [
    "# Export h5 (experimental)"
   ]
  },
  {
   "cell_type": "code",
   "execution_count": 4,
   "id": "e0e9bd11-acdb-450b-8ab8-673ddd35e269",
   "metadata": {
    "tags": []
   },
   "outputs": [],
   "source": [
    "# dataset_name = 'BrainChromatin'\n",
    "# modality_names = ['RNA', 'ATAC']\n",
    "# data1 = pd.read_csv(\"../data/brainchromatin/multiome_rna_counts.tsv\", delimiter='\\t').transpose()\n",
    "\n",
    "# data2 = pd.read_csv(\"../data/brainchromatin/multiome_atac_gene_activities.tsv\", delimiter='\\t', nrows=35000).transpose()  # Only a subset\n",
    "# data2 = data2.transpose()[data1.index].transpose()\n",
    "\n",
    "# dataset = [data1, data2]\n",
    "# features = [np.array(d.columns) for d in dataset]"
   ]
  },
  {
   "cell_type": "code",
   "execution_count": 5,
   "id": "e5da594a-d533-4cc0-9755-683157803162",
   "metadata": {
    "tags": []
   },
   "outputs": [],
   "source": [
    "# import h5py\n",
    "\n",
    "# data = np.concatenate(dataset, axis=1).T\n",
    "# shape = np.array(np.shape(data)).astype('int')\n",
    "# data = data.flatten(order='F').astype('float')\n",
    "# barcodes = np.array(['Unknown' for _ in range(shape[1])]).astype('|S')\n",
    "# indices = np.array(shape[1] * [i for i in range(shape[0])]).astype('int')\n",
    "# indptr = np.array([i*shape[0] for i in range(shape[1]+1)]).astype('int')\n",
    "\n",
    "# _all_tag_keys = np.array(['genome']).astype('|S')\n",
    "# # First dataset should be RNA, second ATAC\n",
    "# feature_type = np.array(dataset[0].shape[1] * ['Gene Expression'] + dataset[1].shape[1] * ['Peaks']).astype('|S')\n",
    "# genome = np.array(['Unknown' for _ in range(shape[0])]).astype('|S')\n",
    "# # id = np.array(['Unknown' for _ in range(shape[0])]).astype('|S')\n",
    "# id = np.array(list(features[0]) + list(features[1])).astype('|S')\n",
    "# # name = np.array(['Unknown' for _ in range(shape[0])]).astype('|S')\n",
    "# name = np.array(list(features[0]) + list(features[1])).astype('|S')\n",
    "\n",
    "# with h5py.File('../../../babel/test.h5', 'w') as f: # '../babel_data/test.h5'\n",
    "#     mat = f.create_group('matrix')\n",
    "#     mat.create_dataset('barcodes', data=barcodes)\n",
    "#     mat.create_dataset('data', data=data)\n",
    "#     mat.create_dataset('indices', data=indices)\n",
    "#     mat.create_dataset('indptr', data=indptr)\n",
    "#     mat.create_dataset('shape', data=shape)\n",
    "\n",
    "#     fea = mat.create_group('features')\n",
    "#     fea.create_dataset('_all_tag_keys', data=_all_tag_keys)\n",
    "#     fea.create_dataset('feature_type', data=feature_type)\n",
    "#     fea.create_dataset('genome', data=genome)\n",
    "#     fea.create_dataset('id', data=id)\n",
    "#     fea.create_dataset('name', data=name)\n",
    "    \n",
    "# # try:\n",
    "# #     f.close()\n",
    "# # except:\n",
    "# #     pass\n",
    "# # f = h5py.File('../babel_data/test.h5', 'r')\n",
    "\n",
    "# # for n in f['matrix']:\n",
    "# #     print(n)\n",
    "# #     print(f['matrix'][n])\n",
    "# #     print()\n",
    "    \n",
    "# # f.close()\n",
    "\n",
    "# # import scipy\n",
    "# # scipy.sparse.csc_matrix((data, indices, indptr)).toarray().shape\n",
    "\n",
    "# # # try:\n",
    "# # #     samp.close()\n",
    "# # # except:\n",
    "# # #     pass\n",
    "# # # samp = h5py.File('../data/babel/DM_rep4.h5', 'r')\n",
    "\n",
    "# # # for n in samp['matrix']['features']:\n",
    "# # #     print(n)\n",
    "# # #     print(samp['matrix']['features'][n])\n",
    "# # #     print()\n",
    "# # # print(samp['matrix']['features']['_all_tag_keys'][()])\n",
    "# # # print(samp['matrix']['features']['id'][()])\n",
    "# # # print(samp['matrix']['barcodes'][()])\n",
    "    \n",
    "# # # samp.close()\n",
    "# # import scanpy as sc\n",
    "# sc.read_10x_h5('../../../babel/test.h5', gex_only=False)\n",
    "# # sc.read_10x_h5('../data/babel/DM_rep4.h5', gex_only=False)"
   ]
  },
  {
   "cell_type": "markdown",
   "id": "81eef754-b835-4b39-b0ab-c8e299f3e08a",
   "metadata": {},
   "source": [
    "# Back to normal things"
   ]
  },
  {
   "cell_type": "code",
   "execution_count": 6,
   "id": "b6206e91-f09d-4d3b-81b1-461ea9c57df2",
   "metadata": {
    "tags": []
   },
   "outputs": [],
   "source": [
    "dataset_name = 'BrainChromatin'\n",
    "dataset_color = 'orange'\n",
    "modality_names = ['RNA', 'ATAC']\n",
    "data1 = pd.read_csv(\"../data/brainchromatin/multiome_rna_counts.tsv\", delimiter='\\t').transpose()\n",
    "data2 = pd.read_csv(\"../data/brainchromatin/multiome_atac_gene_activities.tsv\", delimiter='\\t', nrows=35000).transpose()\n",
    "data2 = data2.transpose()[data1.index].transpose()\n",
    "\n",
    "meta = pd.read_csv(\"../data/brainchromatin/multiome_cell_metadata.txt\", delimiter='\\t')\n",
    "meta_names = pd.read_csv(\"../data/brainchromatin/multiome_cluster_names.txt\", delimiter='\\t')\n",
    "meta_names = meta_names[meta_names['Assay'] == 'Multiome ATAC']\n",
    "meta = pd.merge(meta, meta_names, left_on='ATAC_cluster', right_on='Cluster.ID', how='left')\n",
    "meta.index = meta['Cell.ID']\n",
    "\n",
    "type1 = type2 = np.array(meta.transpose()[data1.index].transpose()['Cluster.Name'])\n",
    "fname1, fname2 = data1.columns, data2.columns\n",
    "data1 = data1.to_numpy()\n",
    "data2 = data2.to_numpy()\n",
    "\n",
    "# Sampling\n",
    "split = 4000 # data1.shape[0]\n",
    "data_row_idx = np.random.choice(range(data1.shape[0]), split, replace=False)\n",
    "# data1, data2, type1, type2 = (x[data_row_idx] for x in (data1, data2, type1, type2))\n",
    "# split_feat_1 = 2000 # data1.shape[1]\n",
    "# data_col1_idx = np.random.choice(range(data1.shape[1]), split_feat_1, replace=False)\n",
    "# data1, fname1 = data1[:, data_col1_idx], fname1[data_col1_idx]\n",
    "# split_feat_2 = 2000 # data2.shape[1]\n",
    "# data_col2_idx = np.random.choice(range(data2.shape[1]), split_feat_2, replace=False)\n",
    "# data2, fname2 = data2[:, data_col2_idx], fname2[data_col2_idx]\n",
    "\n",
    "# Labels\n",
    "labels = [type1, type2]\n",
    "features = [np.array(fname1), np.array(fname2)]\n",
    "feature_dict = {}\n",
    "\n",
    "# Utility\n",
    "positivize = lambda X: [x + x.min() for x in X]\n",
    "minmax = lambda X: [(x + x.min()) for x in X]\n",
    "\n",
    "# Change Labels\n",
    "group = ['GluN3', 'GluN4', 'IN1', 'GluN2', 'IN2', 'GluN6', 'GluN5', 'RG',\n",
    "       'nIPC', 'GluN1', 'mGPC/OPC', 'IN3', 'IN4', 'SP', 'GluN7',\n",
    "       'MG/EC/Peric.']\n",
    "conv =  ['GluN', 'GluN', 'IN', 'GluN', 'IN', 'GluN', 'GluN', 'RG',\n",
    "        'nIPC', 'GluN', 'mGPC/OPC', 'IN', 'IN', 'SP', 'GluN',\n",
    "        'MG/EC/Peric.']\n",
    "group_conv = {g:c for g, c in zip(group, conv)}\n",
    "labels = [np.array([group_conv[l] for l in label]) for label in labels]"
   ]
  },
  {
   "cell_type": "code",
   "execution_count": 7,
   "id": "6eedb327-db73-41e6-8776-3da37155f61e",
   "metadata": {
    "tags": []
   },
   "outputs": [],
   "source": [
    "# Preprocessing\n",
    "data1 = preprocessing.scale(data1, axis=0)\n",
    "data2 = preprocessing.scale(data2, axis=0)\n",
    "data1[np.isnan(data1)] = 0  # Replace NaN with average\n",
    "data2[np.isnan(data2)] = 0\n",
    "# data1 = preprocessing.MinMaxScaler().fit_transform(data1)\n",
    "# data2 = preprocessing.MinMaxScaler().fit_transform(data2)\n",
    "dataset = [data1, data2]\n",
    "\n",
    "# Replace NULL feature names\n",
    "for i in range(len(features)):\n",
    "    if features[i] is None:\n",
    "        features[i] = np.array([f'Feature {i}' for i in range(dataset[i].shape[1])])\n",
    "        \n",
    "# Train-Test Imputation\n",
    "train_size = int(.8 * len(data1))\n",
    "train_idx = np.random.choice(range(len(data1)), train_size, replace=False)\n",
    "test_idx = np.array(list(set(range(len(data1))) - set(train_idx)))\n",
    "\n",
    "# Reduced Priors\n",
    "full_priors = np.eye(len(dataset[0]))\n",
    "random_idx = np.random.choice(range(len(dataset[0])), int(.5 * len(dataset[0])), replace=False)\n",
    "priors = np.zeros(len(dataset[0]))\n",
    "priors[random_idx] = 1\n",
    "half_priors = np.diag(priors)\n",
    "none_priors = np.zeros((len(dataset[0]), len(dataset[0])))"
   ]
  },
  {
   "cell_type": "code",
   "execution_count": 8,
   "id": "e61e27a5-b024-4286-96c9-64a9ee04a1aa",
   "metadata": {
    "tags": []
   },
   "outputs": [],
   "source": [
    "reduced_dim = 32"
   ]
  },
  {
   "cell_type": "markdown",
   "id": "990c2d43-ad15-48e7-ace4-73b2fe51bae7",
   "metadata": {},
   "source": [
    "# ComManDo"
   ]
  },
  {
   "cell_type": "code",
   "execution_count": 9,
   "id": "0605a806-e6e4-4364-90f5-ac03f6e0570d",
   "metadata": {
    "scrolled": true,
    "tags": []
   },
   "outputs": [
    {
     "name": "stdout",
     "output_type": "stream",
     "text": [
      "Loaded model 'saved_models/cm---BrainChromatin---8981-34104---8981-19836---batch_size-512--dist_method-euclidean--dropout-0--epoch_DNN-10000--log_DNN-500--loss_weights-(1-1-1-1)--min_epochs-2500--output_dim-32--pca_dim-(512-512)--use_early_stop-True.h5'\n"
     ]
    }
   ],
   "source": [
    "# Integration\n",
    "kwargs = {\n",
    "    'output_dim': reduced_dim,\n",
    "    'epoch_DNN': 10000,\n",
    "    'min_epochs': 2500,\n",
    "    'log_DNN': 500,\n",
    "    'use_early_stop': True,\n",
    "    'batch_size': 512,\n",
    "    'pca_dim': 2*[512],\n",
    "    'dist_method': 'euclidean',\n",
    "    'loss_weights': [1,1,1,1],\n",
    "    'dropout': 0,\n",
    "}\n",
    "size_str, hash_str = hash_kwargs(kwargs, dataset_name, dataset)\n",
    "prefix = 'saved_models/cm---'\n",
    "model_str = prefix + hash_str + '.h5'\n",
    "match_str = prefix + size_str + '.npy'\n",
    "\n",
    "# Instantiate\n",
    "mr = list(np.load(match_str, allow_pickle=True)) if os.path.exists(match_str) else None\n",
    "cm = ComManDo(**kwargs, match_result=mr, debug=True)\n",
    "\n",
    "# Train\n",
    "if os.path.exists(model_str):\n",
    "    cm.load_model(model_str)\n",
    "    print(f'Loaded model \\'{model_str}\\'')\n",
    "else:\n",
    "    cm_data = cm.fit_transform(dataset=dataset)\n",
    "    cm.save_model(model_str)\n",
    "    np.save(match_str, cm.match_result, allow_pickle=True)\n",
    "cm_data = cm.transform(dataset=dataset)"
   ]
  },
  {
   "cell_type": "code",
   "execution_count": 10,
   "id": "1a01ba8f-3b8b-4f99-89fb-493f574b1939",
   "metadata": {
    "scrolled": true,
    "tags": []
   },
   "outputs": [
    {
     "name": "stdout",
     "output_type": "stream",
     "text": [
      "Loaded model 'saved_models/cm_im---BrainChromatin---8981-34104---8981-19836---batch_size-512--dist_method-euclidean--epoch_DNN-10000--log_DNN-500--loss_weights-(1-1-1-1)--min_epochs-2500--output_dim-32--pca_dim-(512-512)--use_early_stop-True.h5'\n"
     ]
    }
   ],
   "source": [
    "# Imputation\n",
    "kwargs = {\n",
    "    'output_dim': reduced_dim,\n",
    "    'epoch_DNN': 10000,\n",
    "    'min_epochs': 2500,\n",
    "    'log_DNN': 500,\n",
    "    'use_early_stop': True,\n",
    "    'batch_size': 512,\n",
    "    'pca_dim': 2*[512],\n",
    "    'dist_method': 'euclidean',\n",
    "    'loss_weights': [1,1,1,1],\n",
    "}\n",
    "size_str, hash_str = hash_kwargs(kwargs, dataset_name, dataset)\n",
    "prefix = 'saved_models/cm_im---'\n",
    "model_str = prefix + hash_str + '.h5'\n",
    "match_str = prefix + size_str + '.npy'\n",
    "\n",
    "# Instantiate\n",
    "mr = list(np.load(match_str, allow_pickle=True)) if os.path.exists(match_str) else None\n",
    "cm_im = ComManDo(**kwargs, match_result=mr, debug=True)\n",
    "\n",
    "# Train\n",
    "if os.path.exists(model_str):\n",
    "    cm_im.load_model(model_str)\n",
    "    print(f'Loaded model \\'{model_str}\\'')\n",
    "else:\n",
    "    cm_im.fit_transform(dataset=[d[train_idx] for d in dataset])\n",
    "    cm_im.save_model(model_str)\n",
    "    np.save(match_str, cm_im.match_result, allow_pickle=True)\n",
    "cm_imputed = [cm_im.modal_predict(dataset[i], i) for i in range(1, -1, -1)]"
   ]
  },
  {
   "cell_type": "markdown",
   "id": "43cb0309-2712-4c3e-9178-cfea36f0e6aa",
   "metadata": {
    "tags": []
   },
   "source": [
    "# Comparison Methods"
   ]
  },
  {
   "cell_type": "code",
   "execution_count": 11,
   "id": "12675644-0897-44e2-96a6-7bb3f0213031",
   "metadata": {
    "tags": []
   },
   "outputs": [],
   "source": [
    "integrated_data = [cm_data]\n",
    "integrated_names = ['JAMIE']\n",
    "colors = ['blue']\n",
    "shapes = ['8']"
   ]
  },
  {
   "cell_type": "code",
   "execution_count": 12,
   "id": "503b5d33-d66b-4808-9e88-66db37d24e13",
   "metadata": {
    "tags": []
   },
   "outputs": [],
   "source": [
    "from sklearn.decomposition import PCA\n",
    "\n",
    "# PCA features for algs that need it (To Revise)\n",
    "max_feat = 10000\n",
    "dataset_mini = dataset.copy()\n",
    "pca_mini = []\n",
    "for i in range(len(dataset_mini)):\n",
    "    if dataset[i].shape[1] > max_feat:\n",
    "        n_components = min(max_feat, dataset[i].shape[0])\n",
    "        pca = PCA(n_components=n_components)\n",
    "        dataset_mini[i] = pca.fit_transform(dataset[i])\n",
    "        pca_mini.append(pca)"
   ]
  },
  {
   "cell_type": "code",
   "execution_count": 13,
   "id": "e23a0bfb-c1db-4a36-bac9-87d7ca1d8862",
   "metadata": {
    "tags": []
   },
   "outputs": [
    {
     "name": "stdout",
     "output_type": "stream",
     "text": [
      "Loaded data 'output_data/NLMA---BrainChromatin---8981-34104---8981-19836.npy'\n"
     ]
    }
   ],
   "source": [
    "method_name, method_color, method_shape = 'NLMA', 'red', 'X'\n",
    "in_data = dataset\n",
    "method_str = '---'.join([method_name, dataset_name, '-'.join([str(s) for s in in_data[0].shape]), '-'.join([str(s) for s in in_data[1].shape])])\n",
    "method_str = 'output_data/' + method_str + '.npy'\n",
    "try:\n",
    "    data = np.load(method_str)\n",
    "    print(f'Loaded data \\'{method_str}\\'')\n",
    "except FileNotFoundError:\n",
    "    data, _ = mmd_combine(*in_data, method='maninetcluster', alignment='nonlinear manifold aln', num_dims=reduced_dim)\n",
    "    np.save(method_str, data)\n",
    "integrated_data.append(data)\n",
    "integrated_names.append(method_name)\n",
    "colors.append(method_color)\n",
    "shapes.append(method_shape)"
   ]
  },
  {
   "cell_type": "code",
   "execution_count": 14,
   "id": "594c3a38-3c8b-4be8-ad93-26191e8e06b6",
   "metadata": {
    "tags": []
   },
   "outputs": [
    {
     "name": "stdout",
     "output_type": "stream",
     "text": [
      "Loaded data 'output_data/LMA---BrainChromatin---8981-8981---8981-8981.npy'\n"
     ]
    }
   ],
   "source": [
    "method_name, method_color, method_shape = 'LMA', 'orange', '*'\n",
    "in_data = dataset_mini\n",
    "method_str = '---'.join([method_name, dataset_name, '-'.join([str(s) for s in in_data[0].shape]), '-'.join([str(s) for s in in_data[1].shape])])\n",
    "method_str = 'output_data/' + method_str + '.npy'\n",
    "try:\n",
    "    data = np.load(method_str)\n",
    "    print(f'Loaded data \\'{method_str}\\'')\n",
    "except FileNotFoundError:\n",
    "    data, _, _ = mmd_combine(*in_data, method='maninetcluster', alignment='linear manifold', num_dims=reduced_dim)\n",
    "    np.save(method_str, data)\n",
    "integrated_data.append(data)\n",
    "integrated_names.append(method_name)\n",
    "colors.append(method_color)\n",
    "shapes.append(method_shape)"
   ]
  },
  {
   "cell_type": "code",
   "execution_count": 15,
   "id": "cf882337-cd02-4709-b149-e9e6cc829fed",
   "metadata": {
    "tags": []
   },
   "outputs": [
    {
     "name": "stdout",
     "output_type": "stream",
     "text": [
      "Loaded data 'output_data/CCA---BrainChromatin---8981-8981---8981-8981.npy'\n"
     ]
    }
   ],
   "source": [
    "method_name, method_color, method_shape = 'CCA', 'm', 'D'\n",
    "in_data = dataset_mini\n",
    "method_str = '---'.join([method_name, dataset_name, '-'.join([str(s) for s in in_data[0].shape]), '-'.join([str(s) for s in in_data[1].shape])])\n",
    "method_str = 'output_data/' + method_str + '.npy'\n",
    "try:\n",
    "    data = np.load(method_str)\n",
    "    print(f'Loaded data \\'{method_str}\\'')\n",
    "except FileNotFoundError:\n",
    "    data, _, _ = mmd_combine(*in_data, method='maninetcluster', alignment='cca', num_dims=reduced_dim)\n",
    "    np.save(method_str, data)\n",
    "integrated_data.append(data)\n",
    "integrated_names.append(method_name)\n",
    "colors.append(method_color)\n",
    "shapes.append(method_shape)"
   ]
  },
  {
   "cell_type": "code",
   "execution_count": 16,
   "id": "151ffb15-7263-4802-afd2-5a0a27ac93b7",
   "metadata": {
    "tags": []
   },
   "outputs": [],
   "source": [
    "# method_name, method_color, method_shape = 'MMD-MA', 'cyan', 'P'\n",
    "# in_data = dataset\n",
    "# in_data = [d / np.linalg.norm(d, axis=1).reshape(-1, 1) for d in in_data]\n",
    "# in_data = [np.matmul(d, d.T) for d in in_data]\n",
    "# method_str = '---'.join([method_name, dataset_name, '-'.join([str(s) for s in in_data[0].shape]), '-'.join([str(s) for s in in_data[1].shape])])\n",
    "# method_str = 'output_data/' + method_str + '.npy'\n",
    "# try:\n",
    "#     data = np.load(method_str)\n",
    "#     print(f'Loaded data \\'{method_str}\\'')\n",
    "# except FileNotFoundError:\n",
    "#     data, _, _ = mmd_combine(*in_data, method='mmd_ma', p=reduced_dim, max_iterations=10001)\n",
    "#     np.save(method_str, data)\n",
    "# integrated_data.append(data)\n",
    "# integrated_names.append(method_name)\n",
    "# colors.append(method_color)\n",
    "# shapes.append(method_shape)"
   ]
  },
  {
   "cell_type": "code",
   "execution_count": 17,
   "id": "005842e7-eace-4266-a56d-16c126a28038",
   "metadata": {
    "scrolled": true,
    "tags": []
   },
   "outputs": [
    {
     "name": "stdout",
     "output_type": "stream",
     "text": [
      "Loaded data 'output_data/UnionCom---BrainChromatin---8981-34104---8981-19836.npy'\n"
     ]
    }
   ],
   "source": [
    "method_name, method_color, method_shape = 'UnionCom', 'green', 's'\n",
    "in_data = dataset\n",
    "method_str = '---'.join([method_name, dataset_name, '-'.join([str(s) for s in in_data[0].shape]), '-'.join([str(s) for s in in_data[1].shape])])\n",
    "method_str = 'output_data/' + method_str + '.npy'\n",
    "try:\n",
    "    data = np.load(method_str)\n",
    "    print(f'Loaded data \\'{method_str}\\'')\n",
    "except FileNotFoundError:\n",
    "    data, _, _ = mmd_combine(*in_data, method='unioncom', output_dim=reduced_dim)\n",
    "    np.save(method_str, data)\n",
    "integrated_data.append(data)\n",
    "integrated_names.append(method_name)\n",
    "colors.append(method_color)\n",
    "shapes.append(method_shape)"
   ]
  },
  {
   "cell_type": "code",
   "execution_count": 18,
   "id": "25ec0f78-fc49-487b-a42b-76862ecf4337",
   "metadata": {
    "tags": []
   },
   "outputs": [],
   "source": [
    "# Imputation\n",
    "if False:\n",
    "    imputation_name = 'Babel'\n",
    "else:\n",
    "    imputation_name = 'KNN'\n",
    "    nn_imputed = [predict_knn(torch.tensor(dataset[i][train_idx]).float(), torch.tensor(dataset[(i+1)%2][train_idx]).float(), torch.tensor(dataset[i]).float()) for i in range(1, -1, -1)]\n",
    "imputed_data_full = [cm_imputed, nn_imputed][::-1]\n",
    "imputed_data = [[d[test_idx] for d in ds] for ds in imputed_data_full]\n",
    "imputed_names = ['JAMIE', imputation_name][::-1]"
   ]
  },
  {
   "cell_type": "markdown",
   "id": "35ad648e-8974-4937-814c-7aad51c12db1",
   "metadata": {
    "tags": []
   },
   "source": [
    "# Visualization"
   ]
  },
  {
   "cell_type": "code",
   "execution_count": 19,
   "id": "a7a6a85b-c9e8-4590-ba40-d4e42a7224c7",
   "metadata": {
    "tags": []
   },
   "outputs": [],
   "source": [
    "style='white'\n",
    "sns.set(style=style)\n",
    "plt.rcParams.update({'font.weight': 'normal',\n",
    "                     'font.size': 18,\n",
    "                     'axes.titlesize': 'large',\n",
    "                     'axes.labelsize': 'large',\n",
    "                     'xtick.labelsize': 'small',\n",
    "                     'ytick.labelsize': 'small'})"
   ]
  },
  {
   "cell_type": "code",
   "execution_count": null,
   "id": "44cf996f-78cc-40a9-a010-a927a07d19a1",
   "metadata": {
    "tags": []
   },
   "outputs": [],
   "source": [
    "%%capture\n",
    "from matplotlib.patches import Patch\n",
    "from matplotlib.lines import Line2D\n",
    "\n",
    "algorithm_elements = [Line2D([0], [0], marker='s', color='w', markerfacecolor=c, label=n, markersize=10) for n, c in zip(integrated_names, colors)]\n",
    "label_elements = [Line2D([0], [0], marker='o', color='w', markerfacecolor=plt.rcParams['axes.prop_cycle'].by_key()['color'][i], label=l, markersize=10) for i, l in enumerate(np.unique(labels))]\n",
    "\n",
    "# https://stackoverflow.com/a/47749903\n",
    "fig, ax = plt.subplots()\n",
    "legend = ax.legend(handles=label_elements, loc='center', frameon=False, ncol=min(len(label_elements), 4))\n",
    "legend.figure.canvas.draw()\n",
    "bbox = legend.get_window_extent().transformed(fig.dpi_scale_trans.inverted())\n",
    "plt.axis('off')\n",
    "plt.savefig('./output_figures/' + dataset_name + '-LabelLegend.png', bbox_inches=bbox, dpi=300)\n",
    "\n",
    "fig, ax = plt.subplots()\n",
    "legend = ax.legend(handles=algorithm_elements, loc='center', frameon=False)\n",
    "legend.figure.canvas.draw()\n",
    "bbox = legend.get_window_extent().transformed(fig.dpi_scale_trans.inverted())\n",
    "plt.axis('off')\n",
    "plt.savefig('./output_figures/' + dataset_name + '-AlgorithmLegend.png', bbox_inches=bbox, dpi=300)"
   ]
  },
  {
   "cell_type": "code",
   "execution_count": null,
   "id": "ebb7d2d3-2298-44a4-8fca-941c3063fe03",
   "metadata": {
    "tags": []
   },
   "outputs": [],
   "source": [
    "from IPython.display import display, Image\n",
    "display( Image(filename='./output_figures/' + dataset_name + '-LabelLegend.png', width=400) )\n",
    "display( Image(filename='./output_figures/' + dataset_name + '-AlgorithmLegend.png', width=100) )"
   ]
  },
  {
   "cell_type": "code",
   "execution_count": null,
   "id": "ccd4508f-4be5-4fda-a5d2-4d2ebf8fbe07",
   "metadata": {
    "tags": []
   },
   "outputs": [],
   "source": [
    "fig = plt.figure(figsize=(10, 5))\n",
    "plot_regular(dataset, labels, modality_names)\n",
    "plt.tight_layout()\n",
    "plt.savefig('./output_figures/' + dataset_name + '-Data.png', dpi=300, bbox_inches='tight')"
   ]
  },
  {
   "cell_type": "code",
   "execution_count": null,
   "id": "ba283b22-670b-480c-8a2f-8e36ef81eedb",
   "metadata": {
    "tags": []
   },
   "outputs": [],
   "source": [
    "for d, n in zip(integrated_data, integrated_names):\n",
    "    fig = plt.figure(figsize=(10, 5))\n",
    "    plot_integrated(d, labels, [f'{n} - ' + mn for mn in modality_names])\n",
    "    plt.tight_layout()\n",
    "    plt.savefig('./output_figures/' + dataset_name + f'-{n}.png', dpi=300, bbox_inches='tight')\n",
    "    plt.show()"
   ]
  },
  {
   "cell_type": "code",
   "execution_count": null,
   "id": "b62c46c4-a8ed-4605-8994-ee0a42c1706c",
   "metadata": {
    "tags": []
   },
   "outputs": [],
   "source": [
    "plt.figure(figsize=(5, 5))\n",
    "plot_accuracy_graph(integrated_data, labels, integrated_names, colors=colors, shapes=shapes)\n",
    "plt.savefig('./output_figures/' + dataset_name + '-Acc.png', dpi=300, bbox_inches='tight')"
   ]
  },
  {
   "cell_type": "code",
   "execution_count": null,
   "id": "9137edee-0bf0-4267-8b99-632431469781",
   "metadata": {
    "tags": []
   },
   "outputs": [],
   "source": [
    "plt.figure(figsize=(15, 5))\n",
    "plot_silhouette([[d[0]] for d in integrated_data], [labels[0]], integrated_names, modality_names[:1], colors=colors)\n",
    "sns.despine()\n",
    "plt.tight_layout()\n",
    "plt.savefig('./output_figures/' + dataset_name + '-Sil.png', dpi=300, bbox_inches='tight')"
   ]
  },
  {
   "cell_type": "code",
   "execution_count": null,
   "id": "9bd471fe-adad-44bd-a82a-874edaf02d62",
   "metadata": {
    "tags": []
   },
   "outputs": [],
   "source": [
    "plt.figure(figsize=(10, 5))\n",
    "plot_auroc_correlation(imputed_data, [data1[test_idx], data2[test_idx]], modality_names, index=0, names=imputed_names)\n",
    "plt.tight_layout()\n",
    "plt.savefig('./output_figures/' + dataset_name + '-Imp1.png', dpi=300, bbox_inches='tight')"
   ]
  },
  {
   "cell_type": "code",
   "execution_count": null,
   "id": "1f19f1f9-204a-4195-af54-db2f54722d83",
   "metadata": {
    "tags": []
   },
   "outputs": [],
   "source": [
    "plt.figure(figsize=(10, 5))\n",
    "plot_auroc_correlation(imputed_data, [data1[test_idx], data2[test_idx]], modality_names, index=1, names=imputed_names)\n",
    "plt.tight_layout()\n",
    "plt.savefig('./output_figures/' + dataset_name + '-Imp2.png', dpi=300, bbox_inches='tight')"
   ]
  },
  {
   "cell_type": "code",
   "execution_count": null,
   "id": "57fef767-99c3-437b-9664-fc89882ff5a3",
   "metadata": {
    "tags": []
   },
   "outputs": [],
   "source": [
    "plt.figure(figsize=(10, 5))\n",
    "plot_distribution_alone([dataset[0][test_idx], cm_imputed[0][test_idx]], 2*[labels[0][test_idx]], title=modality_names[0], fnames=2*[features[0]], feature_dict=feature_dict)\n",
    "sns.despine()\n",
    "plt.savefig('./output_figures/' + dataset_name + '-Dist1.png', dpi=300, bbox_inches='tight')"
   ]
  },
  {
   "cell_type": "code",
   "execution_count": null,
   "id": "fb6ec90c-43a7-4a1d-b62c-685bc51244f9",
   "metadata": {
    "tags": []
   },
   "outputs": [],
   "source": [
    "plt.figure(figsize=(10, 5))\n",
    "plot_distribution_alone([dataset[1], cm_imputed[1]], 2*[labels[1]], title=modality_names[1], fnames=2*[features[1]], feature_dict=feature_dict)\n",
    "sns.despine()\n",
    "plt.savefig('./output_figures/' + dataset_name + '-Dist2.png', dpi=300, bbox_inches='tight')"
   ]
  },
  {
   "cell_type": "code",
   "execution_count": null,
   "id": "38653832-9004-4310-8c0c-dadbb13a5145",
   "metadata": {
    "tags": []
   },
   "outputs": [],
   "source": [
    "plt.figure(figsize=(5, 5))\n",
    "plot_distribution_similarity([dataset[0][test_idx], cm_imputed[0][test_idx]], 2*[labels[0][test_idx]], title=modality_names[0], fnames=2*[features[0]])\n",
    "sns.despine()\n",
    "plt.tight_layout()\n",
    "plt.savefig('./output_figures/' + dataset_name + '-Sim1.png', dpi=300, bbox_inches='tight')"
   ]
  },
  {
   "cell_type": "code",
   "execution_count": null,
   "id": "5d3306a5-5dcd-424a-8e5d-9633c5183506",
   "metadata": {
    "tags": []
   },
   "outputs": [],
   "source": [
    "plt.figure(figsize=(5, 5))\n",
    "plot_distribution_similarity([dataset[1][test_idx], cm_imputed[1][test_idx]], 2*[labels[1][test_idx]], title=modality_names[1], fnames=2*[features[1]])\n",
    "sns.despine()\n",
    "plt.tight_layout()\n",
    "plt.savefig('./output_figures/' + dataset_name + '-Sim2.png', dpi=300, bbox_inches='tight')"
   ]
  },
  {
   "cell_type": "markdown",
   "id": "4f3eeba1-bf8c-46a3-be00-ba74b580cff2",
   "metadata": {
    "tags": []
   },
   "source": [
    "# Explanation"
   ]
  },
  {
   "cell_type": "code",
   "execution_count": 20,
   "id": "763d04d8-6a63-48af-98a8-c72ac2343a5d",
   "metadata": {
    "tags": []
   },
   "outputs": [],
   "source": [
    "mod0, mod1 = 1, 0\n",
    "current_cm = cm\n",
    "analysis_str = f'output_data/JAMIE---{size_str}---sorted_genes'"
   ]
  },
  {
   "cell_type": "code",
   "execution_count": 22,
   "id": "c7709d5e-7df7-418d-bbd2-5b89e5f494dc",
   "metadata": {
    "scrolled": true,
    "tags": []
   },
   "outputs": [
    {
     "name": "stdout",
     "output_type": "stream",
     "text": [
      "100/100 [||||||||||||||||||||||||||||||||||||||||||||||||||] - Current Best: 0.88787, SDF41\n",
      "Done!\n"
     ]
    }
   ],
   "source": [
    "target_name = 'LTA'\n",
    "testing_idx = np.array(range(dataset[mod0].shape[1]))\n",
    "# function = lambda x: current_cm.test_LabelTA(2*[current_cm.transform_one(x, mod0)], labels)\n",
    "Ly = current_cm.transform_one(dataset[mod1], mod1)\n",
    "function = lambda x: current_cm.test_LabelTA([current_cm.transform_one(x, mod0), Ly], labels)\n",
    "perf_function = lambda x: x\n",
    "\n",
    "if not os.path.exists(analysis_str):\n",
    "    baseline, performance = evaluate_impact(function, perf_function, dataset[mod0], features[mod0], idx=testing_idx)\n",
    "    argsort = np.argsort(performance)\n",
    "    sorted_idx = testing_idx[argsort]\n",
    "    sorted_names = features[mod0][sorted_idx]\n",
    "    sorted_names = np.array([s.replace(' ', '_') for s in sorted_names])\n",
    "    sorted_perf = performance[argsort]\n",
    "    \n",
    "    file_contents = np.concatenate([sorted_idx.reshape((-1, 1)), sorted_names.reshape((-1, 1)), sorted_perf.reshape((-1, 1))], axis=1)\n",
    "    file_contents_str = '\\n'.join([' '.join([str(s) for s in r]) for r in file_contents]) + '\\n'\n",
    "    with open(analysis_str, 'w') as f:\n",
    "        f.write(file_contents_str)\n",
    "else:\n",
    "    baseline = perf_function(function(dataset[mod0]))\n",
    "    sorted_idx = []\n",
    "    sorted_names = []\n",
    "    sorted_perf = []\n",
    "    with open(analysis_str, 'r') as f:\n",
    "        for line in f:\n",
    "            idx, names, perf = line[:-1].split(' ')\n",
    "            sorted_idx.append(int(idx))\n",
    "            sorted_names.append(str(names))\n",
    "            sorted_perf.append(float(perf))\n",
    "    sorted_idx, sorted_names, sorted_perf = np.array(sorted_idx), np.array(sorted_names), np.array(sorted_perf)\n",
    "    performance = sorted_perf"
   ]
  },
  {
   "cell_type": "code",
   "execution_count": 23,
   "id": "d44f997c-4367-422a-a63c-a4e3c61a68fd",
   "metadata": {
    "tags": []
   },
   "outputs": [
    {
     "name": "stdout",
     "output_type": "stream",
     "text": [
      "Target RNA Feature: LTA\n",
      "https://www.genecards.org/cgi-bin/carddisp.pl?gene=LTA\n",
      "Important ATAC Features: SDF4, TNFRSF4, AGRN, RNF223, TTLL10, PERM1, C1orf159, B3GALT6, PLEKHN1, TNFRSF18, DVL1, HES4, ISG15, AURKAIP1, MXRA8, CPTP, C1QTNF12, MRPL20, INTS11, ANKRD65\n",
      "0.88787: https://www.genecards.org/cgi-bin/carddisp.pl?gene=SDF4\n",
      "0.88799: https://www.genecards.org/cgi-bin/carddisp.pl?gene=TNFRSF4\n",
      "0.88810: https://www.genecards.org/cgi-bin/carddisp.pl?gene=AGRN\n",
      "0.88810: https://www.genecards.org/cgi-bin/carddisp.pl?gene=RNF223\n",
      "0.88810: https://www.genecards.org/cgi-bin/carddisp.pl?gene=TTLL10\n",
      "0.88821: https://www.genecards.org/cgi-bin/carddisp.pl?gene=PERM1\n",
      "0.88821: https://www.genecards.org/cgi-bin/carddisp.pl?gene=C1orf159\n",
      "0.88832: https://www.genecards.org/cgi-bin/carddisp.pl?gene=B3GALT6\n",
      "0.88832: https://www.genecards.org/cgi-bin/carddisp.pl?gene=PLEKHN1\n",
      "0.88832: https://www.genecards.org/cgi-bin/carddisp.pl?gene=TNFRSF18\n",
      "0.88843: https://www.genecards.org/cgi-bin/carddisp.pl?gene=DVL1\n",
      "0.88843: https://www.genecards.org/cgi-bin/carddisp.pl?gene=HES4\n",
      "0.88854: https://www.genecards.org/cgi-bin/carddisp.pl?gene=ISG15\n",
      "0.88854: https://www.genecards.org/cgi-bin/carddisp.pl?gene=AURKAIP1\n",
      "0.88854: https://www.genecards.org/cgi-bin/carddisp.pl?gene=MXRA8\n",
      "0.88854: https://www.genecards.org/cgi-bin/carddisp.pl?gene=CPTP\n",
      "0.88865: https://www.genecards.org/cgi-bin/carddisp.pl?gene=C1QTNF12\n",
      "0.88865: https://www.genecards.org/cgi-bin/carddisp.pl?gene=MRPL20\n",
      "0.88865: https://www.genecards.org/cgi-bin/carddisp.pl?gene=INTS11\n",
      "0.88877: https://www.genecards.org/cgi-bin/carddisp.pl?gene=ANKRD65\n"
     ]
    }
   ],
   "source": [
    "display = 20\n",
    "print(f'Target {modality_names[mod1]} Feature: {target_name}')\n",
    "print(f'https://www.genecards.org/cgi-bin/carddisp.pl?gene={target_name}')\n",
    "importance = sorted_names[:display]\n",
    "imp_str = ', '.join(importance)\n",
    "print(f'Important {modality_names[mod0]} Features: {imp_str}')\n",
    "for n, p in zip(importance, sorted_perf[:display]):\n",
    "    print(f'{p:.5f}: https://www.genecards.org/cgi-bin/carddisp.pl?gene={n}')"
   ]
  },
  {
   "cell_type": "code",
   "execution_count": 24,
   "id": "9f964df8-4427-4128-b858-47b0571adec4",
   "metadata": {
    "tags": []
   },
   "outputs": [
    {
     "data": {
      "image/png": "[encoded data removed]",
      "text/plain": [
       "<Figure size 720x360 with 1 Axes>"
      ]
     },
     "metadata": {},
     "output_type": "display_data"
    }
   ],
   "source": [
    "plt.figure(figsize=(10, 5))\n",
    "plot_impact(sorted_perf, sorted_names, baseline, max_features=20, color=dataset_color)\n",
    "sns.despine()\n",
    "plt.tight_layout()\n",
    "plt.savefig('./output_figures/' + dataset_name + '-Analysis.png', dpi=300, bbox_inches='tight')"
   ]
  },
  {
   "cell_type": "markdown",
   "id": "62ea30d7-bce4-413a-b414-37648384b1fd",
   "metadata": {
    "tags": []
   },
   "source": [
    "# SHAP"
   ]
  },
  {
   "cell_type": "code",
   "execution_count": null,
   "id": "11ceef04-8ce4-4fe8-b3e9-5776a0e1e9ce",
   "metadata": {},
   "outputs": [],
   "source": [
    "# RNA (Place) -> ATAC\n",
    "# ENSG00000251562 (4) -> HYLS1\n",
    "# ENSG00000251562 (4) -> HYLS1\n",
    "\n",
    "# ATAC (Place) -> RNA\n",
    "# ANKRD16 -> ENSG00000138119\n",
    "# PWWP2B"
   ]
  },
  {
   "cell_type": "code",
   "execution_count": null,
   "id": "b7fd84ca-4599-44bc-9c9b-4a960bac1b8e",
   "metadata": {
    "scrolled": true,
    "tags": []
   },
   "outputs": [],
   "source": [
    "# import shap\n",
    "\n",
    "# # Subset for runtime\n",
    "# use_subsetting = True\n",
    "# subset_idx = np.random.choice(dataset[mod0].shape[1], 100, replace=False)\n",
    "# background = np.mean(dataset[mod0], axis=0).reshape((1, -1))\n",
    "# def take_subset(x, do=use_subsetting):\n",
    "#     if not do:\n",
    "#         return x\n",
    "#     if len(x.shape) == 1:\n",
    "#         return x[subset_idx]\n",
    "#     return x[:, subset_idx]\n",
    "# def reverse_subset(x, do=use_subsetting):\n",
    "#     if not do:\n",
    "#         return x\n",
    "#     new_vec = np.concatenate(x.shape[0] * [background], axis=0)\n",
    "#     new_vec[:, subset_idx] = x\n",
    "#     return new_vec\n",
    "\n",
    "# target_feature = interest[0]\n",
    "# model = lambda x: current_cm.modal_predict(reverse_subset(x), mod0)[:, target_feature]\n",
    "# data = dataset[mod0]\n",
    "# back = background\n",
    "# feature_names = features[mod0]\n",
    "# output_names = features[mod1][target_feature]\n",
    "\n",
    "# # Apply subsetting\n",
    "# data = take_subset(data)\n",
    "# back = take_subset(back)\n",
    "# feature_names = list(take_subset(np.array(feature_names)))\n",
    "\n",
    "# # Explainer\n",
    "# explainer = shap.Explainer(model, back, feature_names=feature_names, output_names=output_names)\n",
    "# shap_values = explainer(data, max_evals=2*data.shape[1]+1)"
   ]
  },
  {
   "cell_type": "code",
   "execution_count": null,
   "id": "0785d25c-328e-41c0-a7a1-f8a23da3ee23",
   "metadata": {
    "tags": []
   },
   "outputs": [],
   "source": [
    "# display = 20\n",
    "# print(f'Target {modality_names[mod1]} Feature: {output_names}')\n",
    "# for n in [output_names]:\n",
    "#     print(f'https://www.genecards.org/cgi-bin/carddisp.pl?gene={n}')\n",
    "# importance = np.array(shap_values.feature_names)[np.argsort(shap_values.abs.mean(0).values)][::-1][:display]\n",
    "# # importance = np.array(shap_values.feature_names)[np.argsort(shap_values.mean(axis=0).abs.values)[::-1][:display]]\n",
    "# # importance = np.array(shap_values.feature_names)[np.argsort(shap_values.abs.max(axis=0).abs.values)[::-1][:display]]\n",
    "# imp_str = ', '.join(importance)\n",
    "# print(f'Important {modality_names[mod0]} Features: {imp_str}')\n",
    "# for n in importance:\n",
    "#     print(f'https://www.genecards.org/cgi-bin/carddisp.pl?gene={n}')"
   ]
  },
  {
   "cell_type": "code",
   "execution_count": null,
   "id": "292bdfc5-d190-43cf-b449-c8e9777764c4",
   "metadata": {},
   "outputs": [],
   "source": [
    "# plt.figure(figsize=(10, 5))\n",
    "# ax = plt.gcf().add_subplot(1, 1, 1)\n",
    "# shap.summary_plot(shap_values, data, plot_type='violin', max_display=display, plot_size=(9.2, 5), show=False)\n",
    "# plt.tight_layout()\n",
    "# plt.savefig('./output_figures/' + dataset_name + '-Summary.png');"
   ]
  },
  {
   "cell_type": "code",
   "execution_count": null,
   "id": "2d3f8276-6857-4629-ab53-c9cbcf72e4e4",
   "metadata": {},
   "outputs": [],
   "source": [
    "# plt.figure(figsize=(10, 5))\n",
    "# shap.plots.heatmap(shap_values, max_display=7, show=False)  # 7 because problem with visualization and tight layout\n",
    "# plt.gca().set_xlabel('Samples')\n",
    "# plt.tight_layout()\n",
    "# plt.savefig('./output_figures/' + dataset_name + '-Heat.png');"
   ]
  },
  {
   "cell_type": "code",
   "execution_count": null,
   "id": "f7d94c2e-c9db-41e3-8069-c3d6877a4360",
   "metadata": {},
   "outputs": [],
   "source": [
    "# plt.figure(figsize=(10, 5))\n",
    "# ax = plt.gcf().add_subplot(1, 1, 1)\n",
    "# shap.dependence_plot(np.argsort(np.abs(shap_values.values).mean(0))[::-1][0], shap_values.values, data, ax=ax, show=False)\n",
    "# plt.tight_layout()\n",
    "# plt.savefig('./output_figures/' + dataset_name + '-Dep1.png');"
   ]
  },
  {
   "cell_type": "code",
   "execution_count": null,
   "id": "cf1ad55c-16b8-4d5f-8fb6-a671af3dcdf1",
   "metadata": {},
   "outputs": [],
   "source": [
    "# plt.figure(figsize=(10, 5))\n",
    "# ax = plt.gcf().add_subplot(1, 1, 1)\n",
    "# shap.plots.waterfall(100*shap_values[0], show=False)\n",
    "# plt.tight_layout()\n",
    "# plt.savefig('./output_figures/' + dataset_name + '-Waterfall1.png');"
   ]
  },
  {
   "cell_type": "markdown",
   "id": "37e85c60-44b1-454a-9953-5b338d77d675",
   "metadata": {},
   "source": [
    "## Interactive"
   ]
  },
  {
   "cell_type": "code",
   "execution_count": null,
   "id": "d8c67bbe-2e82-4f7d-962b-54e0d91c2cf2",
   "metadata": {},
   "outputs": [],
   "source": [
    "# # Kernel Explainer\n",
    "# kexplainer = shap.KernelExplainer(model, shap.kmeans(data, 10), feature_names=feature_names, output_names=output_names)\n",
    "# import warnings\n",
    "# with warnings.catch_warnings():\n",
    "#     warnings.simplefilter('ignore')\n",
    "#     kshap_values = kexplainer.shap_values(data, nsamples=100)"
   ]
  },
  {
   "cell_type": "code",
   "execution_count": null,
   "id": "2c8dbc4a-f949-4920-be0d-a7674a2f062e",
   "metadata": {},
   "outputs": [],
   "source": [
    "# shap.force_plot(kexplainer.expected_value, kshap_values[0, :], data[0, :], matplotlib=True, show=False)\n",
    "# plt.savefig('./output_figures/' + dataset_name + '-Force.png', bbox_inches='tight');"
   ]
  },
  {
   "cell_type": "code",
   "execution_count": null,
   "id": "4b0d64be-9c48-485d-a07b-09f35f89db88",
   "metadata": {
    "tags": []
   },
   "outputs": [],
   "source": [
    "# shap.initjs()\n",
    "# shap.force_plot(kexplainer.expected_value, kshap_values, data)"
   ]
  }
 ],
 "metadata": {
  "kernelspec": {
   "display_name": "Python 3 (ipykernel)",
   "language": "python",
   "name": "python3"
  },
  "language_info": {
   "codemirror_mode": {
    "name": "ipython",
    "version": 3
   },
   "file_extension": ".py",
   "mimetype": "text/x-python",
   "name": "python",
   "nbconvert_exporter": "python",
   "pygments_lexer": "ipython3",
   "version": "3.9.5"
  },
  "widgets": {
   "application/vnd.jupyter.widget-state+json": {
    "state": {
     "0a778897f5a3448e8d2c7054f22fec68": {
      "model_module": "@jupyter-widgets/base",
      "model_module_version": "2.0.0",
      "model_name": "LayoutModel",
      "state": {
       "_model_module": "@jupyter-widgets/base",
       "_model_module_version": "2.0.0",
       "_model_name": "LayoutModel",
       "_view_count": null,
       "_view_module": "@jupyter-widgets/base",
       "_view_module_version": "2.0.0",
       "_view_name": "LayoutView",
       "align_content": null,
       "align_items": null,
       "align_self": null,
       "border_bottom": null,
       "border_left": null,
       "border_right": null,
       "border_top": null,
       "bottom": null,
       "display": null,
       "flex": null,
       "flex_flow": null,
       "grid_area": null,
       "grid_auto_columns": null,
       "grid_auto_flow": null,
       "grid_auto_rows": null,
       "grid_column": null,
       "grid_gap": null,
       "grid_row": null,
       "grid_template_areas": null,
       "grid_template_columns": null,
       "grid_template_rows": null,
       "height": null,
       "justify_content": null,
       "justify_items": null,
       "left": null,
       "margin": null,
       "max_height": null,
       "max_width": null,
       "min_height": null,
       "min_width": null,
       "object_fit": null,
       "object_position": null,
       "order": null,
       "overflow": null,
       "padding": null,
       "right": null,
       "top": null,
       "visibility": null,
       "width": null
      }
     },
     "1ca24abf48e842d29de28b8b94a0fc64": {
      "model_module": "@jupyter-widgets/controls",
      "model_module_version": "2.0.0",
      "model_name": "HTMLStyleModel",
      "state": {
       "_model_module": "@jupyter-widgets/controls",
       "_model_module_version": "2.0.0",
       "_model_name": "HTMLStyleModel",
       "_view_count": null,
       "_view_module": "@jupyter-widgets/base",
       "_view_module_version": "2.0.0",
       "_view_name": "StyleView",
       "background": null,
       "description_width": "",
       "font_size": null,
       "text_color": null
      }
     },
     "1ea1a3d2b5d24b048193c0ba2a53a082": {
      "model_module": "@jupyter-widgets/controls",
      "model_module_version": "2.0.0",
      "model_name": "FloatProgressModel",
      "state": {
       "_dom_classes": [],
       "_model_module": "@jupyter-widgets/controls",
       "_model_module_version": "2.0.0",
       "_model_name": "FloatProgressModel",
       "_view_count": null,
       "_view_module": "@jupyter-widgets/controls",
       "_view_module_version": "2.0.0",
       "_view_name": "ProgressView",
       "bar_style": "success",
       "description": "",
       "description_allow_html": false,
       "layout": "IPY_MODEL_4c42e361d476474da82920582c57c937",
       "max": 500,
       "min": 0,
       "orientation": "horizontal",
       "style": "IPY_MODEL_4a15a24b73044b35910a6ce60ff4e525",
       "tabbable": null,
       "tooltip": null,
       "value": 500
      }
     },
     "2fd5b03df2b441fbafc27be4957ca0c0": {
      "model_module": "@jupyter-widgets/controls",
      "model_module_version": "2.0.0",
      "model_name": "HTMLModel",
      "state": {
       "_dom_classes": [],
       "_model_module": "@jupyter-widgets/controls",
       "_model_module_version": "2.0.0",
       "_model_name": "HTMLModel",
       "_view_count": null,
       "_view_module": "@jupyter-widgets/controls",
       "_view_module_version": "2.0.0",
       "_view_name": "HTMLView",
       "description": "",
       "description_allow_html": false,
       "layout": "IPY_MODEL_73620a2e823041b3a8bdcb30f902a7bc",
       "placeholder": "​",
       "style": "IPY_MODEL_1ca24abf48e842d29de28b8b94a0fc64",
       "tabbable": null,
       "tooltip": null,
       "value": "100%"
      }
     },
     "4a15a24b73044b35910a6ce60ff4e525": {
      "model_module": "@jupyter-widgets/controls",
      "model_module_version": "2.0.0",
      "model_name": "ProgressStyleModel",
      "state": {
       "_model_module": "@jupyter-widgets/controls",
       "_model_module_version": "2.0.0",
       "_model_name": "ProgressStyleModel",
       "_view_count": null,
       "_view_module": "@jupyter-widgets/base",
       "_view_module_version": "2.0.0",
       "_view_name": "StyleView",
       "bar_color": null,
       "description_width": ""
      }
     },
     "4c42e361d476474da82920582c57c937": {
      "model_module": "@jupyter-widgets/base",
      "model_module_version": "2.0.0",
      "model_name": "LayoutModel",
      "state": {
       "_model_module": "@jupyter-widgets/base",
       "_model_module_version": "2.0.0",
       "_model_name": "LayoutModel",
       "_view_count": null,
       "_view_module": "@jupyter-widgets/base",
       "_view_module_version": "2.0.0",
       "_view_name": "LayoutView",
       "align_content": null,
       "align_items": null,
       "align_self": null,
       "border_bottom": null,
       "border_left": null,
       "border_right": null,
       "border_top": null,
       "bottom": null,
       "display": null,
       "flex": null,
       "flex_flow": null,
       "grid_area": null,
       "grid_auto_columns": null,
       "grid_auto_flow": null,
       "grid_auto_rows": null,
       "grid_column": null,
       "grid_gap": null,
       "grid_row": null,
       "grid_template_areas": null,
       "grid_template_columns": null,
       "grid_template_rows": null,
       "height": null,
       "justify_content": null,
       "justify_items": null,
       "left": null,
       "margin": null,
       "max_height": null,
       "max_width": null,
       "min_height": null,
       "min_width": null,
       "object_fit": null,
       "object_position": null,
       "order": null,
       "overflow": null,
       "padding": null,
       "right": null,
       "top": null,
       "visibility": null,
       "width": null
      }
     },
     "5ee72e6ec7bd4bdfbf5ef61d6e850ed2": {
      "model_module": "@jupyter-widgets/controls",
      "model_module_version": "2.0.0",
      "model_name": "HTMLStyleModel",
      "state": {
       "_model_module": "@jupyter-widgets/controls",
       "_model_module_version": "2.0.0",
       "_model_name": "HTMLStyleModel",
       "_view_count": null,
       "_view_module": "@jupyter-widgets/base",
       "_view_module_version": "2.0.0",
       "_view_name": "StyleView",
       "background": null,
       "description_width": "",
       "font_size": null,
       "text_color": null
      }
     },
     "73620a2e823041b3a8bdcb30f902a7bc": {
      "model_module": "@jupyter-widgets/base",
      "model_module_version": "2.0.0",
      "model_name": "LayoutModel",
      "state": {
       "_model_module": "@jupyter-widgets/base",
       "_model_module_version": "2.0.0",
       "_model_name": "LayoutModel",
       "_view_count": null,
       "_view_module": "@jupyter-widgets/base",
       "_view_module_version": "2.0.0",
       "_view_name": "LayoutView",
       "align_content": null,
       "align_items": null,
       "align_self": null,
       "border_bottom": null,
       "border_left": null,
       "border_right": null,
       "border_top": null,
       "bottom": null,
       "display": null,
       "flex": null,
       "flex_flow": null,
       "grid_area": null,
       "grid_auto_columns": null,
       "grid_auto_flow": null,
       "grid_auto_rows": null,
       "grid_column": null,
       "grid_gap": null,
       "grid_row": null,
       "grid_template_areas": null,
       "grid_template_columns": null,
       "grid_template_rows": null,
       "height": null,
       "justify_content": null,
       "justify_items": null,
       "left": null,
       "margin": null,
       "max_height": null,
       "max_width": null,
       "min_height": null,
       "min_width": null,
       "object_fit": null,
       "object_position": null,
       "order": null,
       "overflow": null,
       "padding": null,
       "right": null,
       "top": null,
       "visibility": null,
       "width": null
      }
     },
     "7c56929b3da3498eb8d1738ec5ea8c43": {
      "model_module": "@jupyter-widgets/controls",
      "model_module_version": "2.0.0",
      "model_name": "HBoxModel",
      "state": {
       "_dom_classes": [],
       "_model_module": "@jupyter-widgets/controls",
       "_model_module_version": "2.0.0",
       "_model_name": "HBoxModel",
       "_view_count": null,
       "_view_module": "@jupyter-widgets/controls",
       "_view_module_version": "2.0.0",
       "_view_name": "HBoxView",
       "box_style": "",
       "children": [
        "IPY_MODEL_2fd5b03df2b441fbafc27be4957ca0c0",
        "IPY_MODEL_1ea1a3d2b5d24b048193c0ba2a53a082",
        "IPY_MODEL_c7ffe080b34441eda765044e052849ed"
       ],
       "layout": "IPY_MODEL_b0308438e17140c1a6248c4c570b4a34",
       "tabbable": null,
       "tooltip": null
      }
     },
     "b0308438e17140c1a6248c4c570b4a34": {
      "model_module": "@jupyter-widgets/base",
      "model_module_version": "2.0.0",
      "model_name": "LayoutModel",
      "state": {
       "_model_module": "@jupyter-widgets/base",
       "_model_module_version": "2.0.0",
       "_model_name": "LayoutModel",
       "_view_count": null,
       "_view_module": "@jupyter-widgets/base",
       "_view_module_version": "2.0.0",
       "_view_name": "LayoutView",
       "align_content": null,
       "align_items": null,
       "align_self": null,
       "border_bottom": null,
       "border_left": null,
       "border_right": null,
       "border_top": null,
       "bottom": null,
       "display": null,
       "flex": null,
       "flex_flow": null,
       "grid_area": null,
       "grid_auto_columns": null,
       "grid_auto_flow": null,
       "grid_auto_rows": null,
       "grid_column": null,
       "grid_gap": null,
       "grid_row": null,
       "grid_template_areas": null,
       "grid_template_columns": null,
       "grid_template_rows": null,
       "height": null,
       "justify_content": null,
       "justify_items": null,
       "left": null,
       "margin": null,
       "max_height": null,
       "max_width": null,
       "min_height": null,
       "min_width": null,
       "object_fit": null,
       "object_position": null,
       "order": null,
       "overflow": null,
       "padding": null,
       "right": null,
       "top": null,
       "visibility": null,
       "width": null
      }
     },
     "c7ffe080b34441eda765044e052849ed": {
      "model_module": "@jupyter-widgets/controls",
      "model_module_version": "2.0.0",
      "model_name": "HTMLModel",
      "state": {
       "_dom_classes": [],
       "_model_module": "@jupyter-widgets/controls",
       "_model_module_version": "2.0.0",
       "_model_name": "HTMLModel",
       "_view_count": null,
       "_view_module": "@jupyter-widgets/controls",
       "_view_module_version": "2.0.0",
       "_view_name": "HTMLView",
       "description": "",
       "description_allow_html": false,
       "layout": "IPY_MODEL_0a778897f5a3448e8d2c7054f22fec68",
       "placeholder": "​",
       "style": "IPY_MODEL_5ee72e6ec7bd4bdfbf5ef61d6e850ed2",
       "tabbable": null,
       "tooltip": null,
       "value": " 500/500 [00:35&lt;00:00, 15.21it/s]"
      }
     }
    },
    "version_major": 2,
    "version_minor": 0
   }
  }
 },
 "nbformat": 4,
 "nbformat_minor": 5
}
