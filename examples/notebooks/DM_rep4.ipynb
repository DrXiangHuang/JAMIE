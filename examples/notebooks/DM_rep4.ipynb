{
 "cells": [
  {
   "cell_type": "code",
   "execution_count": 1,
   "id": "a54a4980-d3b7-4664-9035-4abcb92b1ab5",
   "metadata": {
    "tags": []
   },
   "outputs": [],
   "source": [
    "%load_ext autoreload\n",
    "%autoreload 2"
   ]
  },
  {
   "cell_type": "code",
   "execution_count": 2,
   "id": "342bee2d-d6d8-49aa-98ba-79a38ade4175",
   "metadata": {
    "tags": []
   },
   "outputs": [
    {
     "name": "stderr",
     "output_type": "stream",
     "text": [
      "2022-09-11 03:38:04.602944: W tensorflow/stream_executor/platform/default/dso_loader.cc:64] Could not load dynamic library 'libcudart.so.11.0'; dlerror: libcudart.so.11.0: cannot open shared object file: No such file or directory\n",
      "2022-09-11 03:38:04.602981: I tensorflow/stream_executor/cuda/cudart_stub.cc:29] Ignore above cudart dlerror if you do not have a GPU set up on your machine.\n"
     ]
    },
    {
     "name": "stdout",
     "output_type": "stream",
     "text": [
      "WARNING:tensorflow:From /home/thema/miniconda3/lib/python3.9/site-packages/tensorflow/python/compat/v2_compat.py:101: disable_resource_variables (from tensorflow.python.ops.variable_scope) is deprecated and will be removed in a future version.\n",
      "Instructions for updating:\n",
      "non-resource variables are not supported in the long term\n"
     ]
    }
   ],
   "source": [
    "from commando import ComManDo\n",
    "from commando.evaluation import *\n",
    "from commando.utilities import predict_nn\n",
    "import matplotlib.pyplot as plt\n",
    "from mmd_wrapper import mmd_combine\n",
    "import numpy as np\n",
    "import pandas as pd\n",
    "import seaborn as sns\n",
    "from sklearn import preprocessing"
   ]
  },
  {
   "cell_type": "code",
   "execution_count": 3,
   "id": "56b783aa-276a-4064-bcfb-767f22c9fbe7",
   "metadata": {},
   "outputs": [],
   "source": [
    "np.random.seed(42)"
   ]
  },
  {
   "cell_type": "code",
   "execution_count": 4,
   "id": "f92c5800-a7dd-4551-92b6-734374f7c078",
   "metadata": {},
   "outputs": [],
   "source": [
    "# import h5py\n",
    "# import scanpy as sc\n",
    "\n",
    "# path = '../data/babel/DM_rep4.h5'\n",
    "# with h5py.File(path, 'r') as f:\n",
    "#     interval = f['matrix']['features']['interval'][()]\n",
    "# data = sc.read_10x_h5(path, gex_only=False)\n",
    "\n",
    "# d = data.X.toarray()\n",
    "# v = data.var_names\n",
    "# o = data.obs_names\n",
    "# f = data.var['feature_types']\n",
    "# _, u = np.unique(f, return_index=True)\n",
    "\n",
    "# data1 = d[:, :u[1]]\n",
    "# data2 = d[:, u[1]:]\n",
    "# fnames1 = v[:u[1]]\n",
    "# fnames2 = v[u[1]:]"
   ]
  },
  {
   "cell_type": "code",
   "execution_count": 5,
   "id": "e327b245-c736-4b3a-a99c-88eb78cd4db9",
   "metadata": {},
   "outputs": [
    {
     "name": "stderr",
     "output_type": "stream",
     "text": [
      "/home/thema/miniconda3/lib/python3.9/site-packages/anndata/compat/__init__.py:180: FutureWarning: Moving element from .uns['neighbors']['distances'] to .obsp['distances'].\n",
      "\n",
      "This is where adjacency matrices should go now.\n",
      "  warn(\n",
      "/home/thema/miniconda3/lib/python3.9/site-packages/anndata/compat/__init__.py:180: FutureWarning: Moving element from .uns['neighbors']['connectivities'] to .obsp['connectivities'].\n",
      "\n",
      "This is where adjacency matrices should go now.\n",
      "  warn(\n"
     ]
    }
   ],
   "source": [
    "import scanpy as sc\n",
    "\n",
    "train = sc.read_h5ad('../babel_data/DM/train_rna.h5ad')\n",
    "v = train.var_names\n",
    "train = train.X.toarray()\n",
    "valid = sc.read_h5ad('../babel_data/DM/truth_rna.h5ad').X.toarray()\n",
    "data1 = np.concatenate([train, valid], axis=0)\n",
    "fnames1 = np.array(v)\n",
    "\n",
    "train = sc.read_h5ad('../babel_data/DM/train_atac.h5ad')\n",
    "v = train.var_names\n",
    "train = train.X.toarray()\n",
    "valid = sc.read_h5ad('../babel_data/DM/truth_atac.h5ad').X.toarray()\n",
    "data2 = np.concatenate([train, valid], axis=0)\n",
    "fnames2 = np.array(v)\n",
    "\n",
    "split = train.shape[0]"
   ]
  },
  {
   "cell_type": "code",
   "execution_count": 6,
   "id": "b6206e91-f09d-4d3b-81b1-461ea9c57df2",
   "metadata": {
    "tags": []
   },
   "outputs": [
    {
     "name": "stderr",
     "output_type": "stream",
     "text": [
      "/home/thema/miniconda3/lib/python3.9/site-packages/sklearn/preprocessing/_data.py:235: UserWarning: Numerical issues were encountered when centering the data and might not be solved. Dataset may contain too large values. You may need to prescale your features.\n",
      "  warnings.warn(\n",
      "/home/thema/miniconda3/lib/python3.9/site-packages/sklearn/preprocessing/_data.py:254: UserWarning: Numerical issues were encountered when scaling the data and might not be solved. The standard deviation of the data is probably very close to 0. \n",
      "  warnings.warn(\n",
      "/home/thema/miniconda3/lib/python3.9/site-packages/sklearn/preprocessing/_data.py:235: UserWarning: Numerical issues were encountered when centering the data and might not be solved. Dataset may contain too large values. You may need to prescale your features.\n",
      "  warnings.warn(\n",
      "/home/thema/miniconda3/lib/python3.9/site-packages/sklearn/preprocessing/_data.py:254: UserWarning: Numerical issues were encountered when scaling the data and might not be solved. The standard deviation of the data is probably very close to 0. \n",
      "  warnings.warn(\n"
     ]
    }
   ],
   "source": [
    "dataset_name = 'DM_rep4'\n",
    "modality_names = ['RNA', 'ATAC']\n",
    "\n",
    "# data1 = PCA(n_components=32).fit_transform(data1)\n",
    "# data2 = PCA(n_components=32).fit_transform(data2)\n",
    "# fnames1 = fnames2 = None\n",
    "\n",
    "type1 = np.array(len(data1) * ['Cell Type 0'])\n",
    "type2 = np.array(len(data2) * ['Cell Type 0'])\n",
    "\n",
    "# Sampling\n",
    "data_col_idx = np.random.choice(range(split), 2000, replace=False)\n",
    "data1, data2, type1, type2 = (x[list(data_col_idx) + list(range(split, len(data1)))] for x in (data1, data2, type1, type2))\n",
    "split = 2000\n",
    "\n",
    "# Labels\n",
    "labels = [type1, type2]\n",
    "features = [list(fnames1), list(fnames2)]\n",
    "\n",
    "# Utility\n",
    "positivize = lambda X: [x + x.min() for x in X]\n",
    "minmax = lambda X: [(x + x.min()) for x in X]\n",
    "\n",
    "# Preprocessing\n",
    "data1 = preprocessing.scale(data1, axis=0)\n",
    "data2 = preprocessing.scale(data2, axis=0)\n",
    "data1[np.isnan(data1)] = 0  # Replace NaN with average\n",
    "data2[np.isnan(data2)] = 0\n",
    "data1 = preprocessing.MinMaxScaler().fit_transform(data1)\n",
    "data2 = preprocessing.MinMaxScaler().fit_transform(data2)\n",
    "dataset = [data1, data2]\n",
    "\n",
    "# Replace NULL feature names\n",
    "for i in range(len(features)):\n",
    "    if features[i] is None:\n",
    "        features[i] = [f'Feature {i}' for i in range(dataset[i].shape[1])]"
   ]
  },
  {
   "cell_type": "code",
   "execution_count": 7,
   "id": "345ddc2f-d91f-474f-a3cd-13bf503cf7aa",
   "metadata": {},
   "outputs": [],
   "source": [
    "# Train-Test Imputation\n",
    "train_idx = np.array(list(range(split)))\n",
    "test_idx = np.array(list(set(range(len(data1))) - set(train_idx)))"
   ]
  },
  {
   "cell_type": "code",
   "execution_count": 8,
   "id": "d40f5b92-3092-45a2-9988-073b09a6b63b",
   "metadata": {
    "tags": []
   },
   "outputs": [],
   "source": [
    "# Reduced Priors\n",
    "full_priors = np.eye(len(dataset[0]))\n",
    "\n",
    "random_idx = np.random.choice(range(len(dataset[0])), int(.5 * len(dataset[0])), replace=False)\n",
    "priors = np.zeros(len(dataset[0]))\n",
    "priors[random_idx] = 1\n",
    "half_priors = np.diag(priors)\n",
    "\n",
    "none_priors = np.zeros((len(dataset[0]), len(dataset[0])))\n",
    "\n",
    "# Vars\n",
    "reduced_dim = 32\n",
    "batch_size = 150\n",
    "pca_dim = [1024] * 2\n",
    "dist_method = 'euclidean'"
   ]
  },
  {
   "cell_type": "markdown",
   "id": "5025270b-1844-4edc-888a-3e1af9ad9c0e",
   "metadata": {},
   "source": [
    "# ComManDo"
   ]
  },
  {
   "cell_type": "code",
   "execution_count": 9,
   "id": "10a7164c-d21f-49b4-9b1f-8ecb9c827942",
   "metadata": {
    "scrolled": true,
    "tags": []
   },
   "outputs": [
    {
     "name": "stdout",
     "output_type": "stream",
     "text": [
      "use random seed: 666\n",
      "Shape of Raw data\n",
      "Dataset 0: (2424, 34861)\n",
      "Dataset 1: (2424, 85596)\n",
      "Device: cpu\n",
      "---------------------------------\n",
      "Find correspondence between Dataset 1 and Dataset 2\n",
      "epoch:[500/2000] err:1.1049 alpha:0.3547\n",
      "epoch:[1000/2000] err:0.0000 alpha:0.0000\n",
      "epoch:[1500/2000] err:0.0000 alpha:0.0000\n",
      "epoch:[2000/2000] err:0.0000 alpha:0.0000\n",
      "Finished Matching!\n",
      "---------------------------------\n",
      "Train coupled autoencoders\n",
      "epoch:[500/2000]: loss:1.075878\n",
      "epoch:[1000/2000]: loss:0.998874\n",
      "epoch:[1500/2000]: loss:0.978407\n",
      "epoch:[2000/2000]: loss:0.970616\n",
      "Finished Mapping!\n",
      "---------------------------------\n",
      "ComManDo Done!\n",
      "Distance: 59.797581620994606\n",
      "Correspondence: 978.308889929991\n",
      "Mapping: 3266.2594169990043\n",
      "Total: 4304.36588854999\n",
      "\n",
      "use random seed: 666\n",
      "Shape of Raw data\n",
      "Dataset 0: (2424, 34861)\n",
      "Dataset 1: (2424, 85596)\n",
      "---------------------------------\n",
      "Train coupled autoencoders\n",
      "epoch:[500/2000]: loss:1.120204\n",
      "epoch:[1000/2000]: loss:1.015075\n",
      "epoch:[1500/2000]: loss:0.988885\n"
     ]
    },
    {
     "ename": "KeyboardInterrupt",
     "evalue": "",
     "output_type": "error",
     "traceback": [
      "\u001b[0;31m---------------------------------------------------------------------------\u001b[0m",
      "\u001b[0;31mKeyboardInterrupt\u001b[0m                         Traceback (most recent call last)",
      "\u001b[0;32m/tmp/ipykernel_27352/1661551615.py\u001b[0m in \u001b[0;36m<module>\u001b[0;34m\u001b[0m\n\u001b[1;32m     11\u001b[0m \u001b[0mcm\u001b[0m \u001b[0;34m=\u001b[0m \u001b[0mComManDo\u001b[0m\u001b[0;34m(\u001b[0m\u001b[0;34m**\u001b[0m\u001b[0mkwargs\u001b[0m\u001b[0;34m)\u001b[0m\u001b[0;34m\u001b[0m\u001b[0;34m\u001b[0m\u001b[0m\n\u001b[1;32m     12\u001b[0m \u001b[0mcm_data\u001b[0m \u001b[0;34m=\u001b[0m \u001b[0mcm\u001b[0m\u001b[0;34m.\u001b[0m\u001b[0mfit_transform\u001b[0m\u001b[0;34m(\u001b[0m\u001b[0mdataset\u001b[0m\u001b[0;34m=\u001b[0m\u001b[0mdataset\u001b[0m\u001b[0;34m)\u001b[0m\u001b[0;34m\u001b[0m\u001b[0;34m\u001b[0m\u001b[0m\n\u001b[0;32m---> 13\u001b[0;31m \u001b[0mcm_data_half\u001b[0m \u001b[0;34m=\u001b[0m \u001b[0mComManDo\u001b[0m\u001b[0;34m(\u001b[0m\u001b[0;34m**\u001b[0m\u001b[0mkwargs\u001b[0m\u001b[0;34m,\u001b[0m \u001b[0mP\u001b[0m\u001b[0;34m=\u001b[0m\u001b[0mhalf_priors\u001b[0m\u001b[0;34m,\u001b[0m \u001b[0mmatch_result\u001b[0m\u001b[0;34m=\u001b[0m\u001b[0mcm\u001b[0m\u001b[0;34m.\u001b[0m\u001b[0mmatch_result\u001b[0m\u001b[0;34m,\u001b[0m \u001b[0mPF_Ratio\u001b[0m\u001b[0;34m=\u001b[0m\u001b[0;36m.5\u001b[0m\u001b[0;34m)\u001b[0m\u001b[0;34m.\u001b[0m\u001b[0mfit_transform\u001b[0m\u001b[0;34m(\u001b[0m\u001b[0mdataset\u001b[0m\u001b[0;34m=\u001b[0m\u001b[0mdataset\u001b[0m\u001b[0;34m)\u001b[0m\u001b[0;34m\u001b[0m\u001b[0;34m\u001b[0m\u001b[0m\n\u001b[0m\u001b[1;32m     14\u001b[0m \u001b[0mcm_data_none\u001b[0m \u001b[0;34m=\u001b[0m \u001b[0mComManDo\u001b[0m\u001b[0;34m(\u001b[0m\u001b[0;34m**\u001b[0m\u001b[0mkwargs\u001b[0m\u001b[0;34m,\u001b[0m \u001b[0mP\u001b[0m\u001b[0;34m=\u001b[0m\u001b[0mnone_priors\u001b[0m\u001b[0;34m,\u001b[0m \u001b[0mmatch_result\u001b[0m\u001b[0;34m=\u001b[0m\u001b[0mcm\u001b[0m\u001b[0;34m.\u001b[0m\u001b[0mmatch_result\u001b[0m\u001b[0;34m,\u001b[0m \u001b[0mPF_Ratio\u001b[0m\u001b[0;34m=\u001b[0m\u001b[0;36m0\u001b[0m\u001b[0;34m)\u001b[0m\u001b[0;34m.\u001b[0m\u001b[0mfit_transform\u001b[0m\u001b[0;34m(\u001b[0m\u001b[0mdataset\u001b[0m\u001b[0;34m=\u001b[0m\u001b[0mdataset\u001b[0m\u001b[0;34m)\u001b[0m\u001b[0;34m\u001b[0m\u001b[0;34m\u001b[0m\u001b[0m\n",
      "\u001b[0;32m/mnt/c/Users/nck/repos/nmacom/commando/commando.py\u001b[0m in \u001b[0;36mfit_transform\u001b[0;34m(self, dataset)\u001b[0m\n\u001b[1;32m    167\u001b[0m                     \u001b[0mk\u001b[0m \u001b[0;34m+=\u001b[0m \u001b[0;36m1\u001b[0m\u001b[0;34m\u001b[0m\u001b[0;34m\u001b[0m\u001b[0m\n\u001b[1;32m    168\u001b[0m                 \u001b[0mmatch_matrix\u001b[0m\u001b[0;34m[\u001b[0m\u001b[0mi\u001b[0m\u001b[0;34m]\u001b[0m\u001b[0;34m[\u001b[0m\u001b[0mj\u001b[0m\u001b[0;34m]\u001b[0m \u001b[0;34m=\u001b[0m \u001b[0mmat\u001b[0m\u001b[0;34m\u001b[0m\u001b[0;34m\u001b[0m\u001b[0m\n\u001b[0;32m--> 169\u001b[0;31m             \u001b[0mintegrated_data\u001b[0m \u001b[0;34m=\u001b[0m \u001b[0mself\u001b[0m\u001b[0;34m.\u001b[0m\u001b[0mproject_commando\u001b[0m\u001b[0;34m(\u001b[0m\u001b[0mmatch_matrix\u001b[0m\u001b[0;34m)\u001b[0m\u001b[0;34m\u001b[0m\u001b[0;34m\u001b[0m\u001b[0m\n\u001b[0m\u001b[1;32m    170\u001b[0m         \u001b[0mtime\u001b[0m\u001b[0;34m.\u001b[0m\u001b[0mlog\u001b[0m\u001b[0;34m(\u001b[0m\u001b[0;34m'Mapping'\u001b[0m\u001b[0;34m)\u001b[0m\u001b[0;34m\u001b[0m\u001b[0;34m\u001b[0m\u001b[0m\n\u001b[1;32m    171\u001b[0m \u001b[0;34m\u001b[0m\u001b[0m\n",
      "\u001b[0;32m/mnt/c/Users/nck/repos/nmacom/commando/commando.py\u001b[0m in \u001b[0;36mproject_commando\u001b[0;34m(self, W)\u001b[0m\n\u001b[1;32m    485\u001b[0m \u001b[0;34m\u001b[0m\u001b[0m\n\u001b[1;32m    486\u001b[0m                 \u001b[0;31m# F setup\u001b[0m\u001b[0;34m\u001b[0m\u001b[0;34m\u001b[0m\u001b[0;34m\u001b[0m\u001b[0m\n\u001b[0;32m--> 487\u001b[0;31m                 \u001b[0mF\u001b[0m \u001b[0;34m=\u001b[0m \u001b[0mself\u001b[0m\u001b[0;34m.\u001b[0m\u001b[0mF\u001b[0m\u001b[0;34m[\u001b[0m\u001b[0mrandom_batch\u001b[0m\u001b[0;34m[\u001b[0m\u001b[0;36m0\u001b[0m\u001b[0;34m]\u001b[0m\u001b[0;34m]\u001b[0m\u001b[0;34m[\u001b[0m\u001b[0;34m:\u001b[0m\u001b[0;34m,\u001b[0m \u001b[0mrandom_batch\u001b[0m\u001b[0;34m[\u001b[0m\u001b[0;36m1\u001b[0m\u001b[0;34m]\u001b[0m\u001b[0;34m]\u001b[0m\u001b[0;34m\u001b[0m\u001b[0;34m\u001b[0m\u001b[0m\n\u001b[0m\u001b[1;32m    488\u001b[0m                 \u001b[0;32mif\u001b[0m \u001b[0mF\u001b[0m\u001b[0;34m.\u001b[0m\u001b[0mabsolute\u001b[0m\u001b[0;34m(\u001b[0m\u001b[0;34m)\u001b[0m\u001b[0;34m.\u001b[0m\u001b[0mmax\u001b[0m\u001b[0;34m(\u001b[0m\u001b[0;34m)\u001b[0m \u001b[0;34m!=\u001b[0m \u001b[0;36m0\u001b[0m\u001b[0;34m:\u001b[0m\u001b[0;34m\u001b[0m\u001b[0;34m\u001b[0m\u001b[0m\n\u001b[1;32m    489\u001b[0m                     \u001b[0mF\u001b[0m \u001b[0;34m/=\u001b[0m \u001b[0mF\u001b[0m\u001b[0;34m.\u001b[0m\u001b[0mabsolute\u001b[0m\u001b[0;34m(\u001b[0m\u001b[0;34m)\u001b[0m\u001b[0;34m.\u001b[0m\u001b[0mmax\u001b[0m\u001b[0;34m(\u001b[0m\u001b[0;34m)\u001b[0m\u001b[0;34m\u001b[0m\u001b[0;34m\u001b[0m\u001b[0m\n",
      "\u001b[0;31mKeyboardInterrupt\u001b[0m: "
     ]
    }
   ],
   "source": [
    "# Integration\n",
    "kwargs = {\n",
    "    'output_dim': reduced_dim,\n",
    "    'epoch_DNN': 2000,\n",
    "    'log_DNN': 500,\n",
    "    'use_early_stop': False,\n",
    "    'batch_size': batch_size,\n",
    "    'pca_dim': pca_dim,\n",
    "    'dist_method': dist_method,\n",
    "}\n",
    "cm = ComManDo(**kwargs)\n",
    "cm_data = cm.fit_transform(dataset=dataset)\n",
    "cm_data_half = ComManDo(**kwargs, P=half_priors, match_result=cm.match_result, PF_Ratio=.5).fit_transform(dataset=dataset)\n",
    "cm_data_none = ComManDo(**kwargs, P=none_priors, match_result=cm.match_result, PF_Ratio=0).fit_transform(dataset=dataset)"
   ]
  },
  {
   "cell_type": "code",
   "execution_count": null,
   "id": "8216cf8b-d364-4320-acbe-778c9a85218d",
   "metadata": {
    "scrolled": true,
    "tags": []
   },
   "outputs": [],
   "source": [
    "# Imputation\n",
    "cm_im = ComManDo(**kwargs)\n",
    "cm_im.fit_transform(dataset=[data1[train_idx], data2[train_idx]])\n",
    "cm_imputed = [cm_im.modal_predict(dataset[i][test_idx], i) for i in range(1, -1, -1)]"
   ]
  },
  {
   "cell_type": "markdown",
   "id": "c8f5bb0a-d779-4d08-bb01-c2894d5b40ba",
   "metadata": {
    "tags": []
   },
   "source": [
    "# Comparison Methods"
   ]
  },
  {
   "cell_type": "code",
   "execution_count": null,
   "id": "de5e4bad-2b9f-49aa-876f-19f3150371cf",
   "metadata": {
    "scrolled": true,
    "tags": []
   },
   "outputs": [],
   "source": [
    "# NLMA\n",
    "nlma_data, _ = mmd_combine(*dataset, method='maninetcluster', alignment='nonlinear manifold aln', num_dims=reduced_dim)\n",
    "nlma_data_half, _ = mmd_combine(*dataset, method='maninetcluster', alignment='nonlinear manifold aln', num_dims=reduced_dim, corr=half_priors)\n",
    "\n",
    "# LMA\n",
    "# lma_data, _, _ = mmd_combine(*dataset, method='maninetcluster', alignment='linear manifold', num_dims=reduced_dim)\n",
    "# lma_data_half, _, _ = mmd_combine(*dataset, method='maninetcluster', alignment='linear manifold', num_dims=reduced_dim, corr=half_priors)\n",
    "\n",
    "# CCA\n",
    "# cca_data, _, _ = mmd_combine(*dataset, method='maninetcluster', alignment='cca', num_dims=reduced_dim)\n",
    "# cca_data_half, _, _ = mmd_combine(*dataset, method='maninetcluster', alignment='cca', num_dims=reduced_dim, corr=half_priors)"
   ]
  },
  {
   "cell_type": "code",
   "execution_count": null,
   "id": "66709895-717b-4d65-befa-8f6a511978be",
   "metadata": {
    "scrolled": true,
    "tags": []
   },
   "outputs": [],
   "source": [
    "# MMD-MA\n",
    "# from sklearn.metrics import pairwise_distances\n",
    "# mmd_ma_data, _, _ = mmd_combine(pairwise_distances(dataset[0]), pairwise_distances(dataset[1]), method='mmd_ma', p=reduced_dim)\n",
    "\n",
    "# UnionCom\n",
    "uc_data, _, _ = mmd_combine(*dataset, method='unioncom', output_dim=reduced_dim)"
   ]
  },
  {
   "cell_type": "code",
   "execution_count": null,
   "id": "d503695a-a26b-4f41-939a-023710a80450",
   "metadata": {
    "tags": []
   },
   "outputs": [],
   "source": [
    "# Imputation\n",
    "if True:\n",
    "    imputation_name = 'Babel'\n",
    "    bdata1 = sc.read_h5ad('../babel_data/DM/atac_rna_test_preds.h5ad').X.toarray()\n",
    "    bdata2 = sc.read_h5ad('../babel_data/DM/rna_atac_test_preds.h5ad').X.toarray()\n",
    "    nn_imputed = [bdata1, bdata2]\n",
    "else:\n",
    "    imputation_name = 'NN'\n",
    "    nn_imputed = [predict_nn(torch.tensor(dataset[i][train_idx]).float(), torch.tensor(dataset[(i+1)%2][train_idx]).float(), torch.tensor(dataset[i][test_idx]).float()) for i in range(1, -1, -1)]"
   ]
  },
  {
   "cell_type": "markdown",
   "id": "9de47e50-b35e-4f64-87af-5c0d50e89c66",
   "metadata": {
    "tags": []
   },
   "source": [
    "# Visualization"
   ]
  },
  {
   "cell_type": "code",
   "execution_count": null,
   "id": "fe27cddd-5ab6-4bf7-bbe8-4c894c9e44de",
   "metadata": {},
   "outputs": [],
   "source": [
    "integrated_data = [cm_data, nlma_data, uc_data]\n",
    "integrated_names = ['JAMIE', 'Nonlinear\\nManifold\\nAlignment', 'Unioncom']\n",
    "imputed_data = [cm_imputed, nn_imputed][::-1]\n",
    "imputed_names = ['JAMIE', imputation_name][::-1]\n",
    "colors = ['blue', 'red', 'teal']\n",
    "style='whitegrid'\n",
    "\n",
    "sns.set(style=style)\n",
    "plt.rcParams.update({'font.weight': 'normal',\n",
    "                     'font.size': 18,\n",
    "                     'axes.titlesize': 'large',\n",
    "                     'axes.labelsize': 'large',\n",
    "                     'xtick.labelsize': 'small',\n",
    "                     'ytick.labelsize': 'small'})"
   ]
  },
  {
   "cell_type": "code",
   "execution_count": null,
   "id": "f89832e2-cf6b-4752-9dec-22e7bef42ef3",
   "metadata": {},
   "outputs": [],
   "source": [
    "fig = plt.figure(figsize=(10, 5))\n",
    "plot_integrated(cm_data, labels, ['JAMIE - ' + mn for mn in modality_names])\n",
    "plt.tight_layout()\n",
    "plt.savefig('./output_figures/' + dataset_name + '-JAMIE.png')"
   ]
  },
  {
   "cell_type": "code",
   "execution_count": null,
   "id": "29084a79-cbf9-4cdf-88d8-547d5631cf71",
   "metadata": {},
   "outputs": [],
   "source": [
    "fig = plt.figure(figsize=(10, 5))\n",
    "plot_integrated(uc_data, labels, ['UnionCom - ' + mn for mn in modality_names], legend=False)\n",
    "plt.tight_layout()\n",
    "plt.savefig('./output_figures/' + dataset_name + '-UnionCom.png')"
   ]
  },
  {
   "cell_type": "code",
   "execution_count": null,
   "id": "a5beae08-25c2-487b-a811-74ffc8b2733a",
   "metadata": {},
   "outputs": [],
   "source": [
    "plt.figure(figsize=(5, 5))\n",
    "plot_accuracy_graph(integrated_data, labels, integrated_names, exclude=[3], colors=colors)\n",
    "plt.tight_layout()\n",
    "plt.savefig('./output_figures/' + dataset_name + '-Acc.png')"
   ]
  },
  {
   "cell_type": "code",
   "execution_count": null,
   "id": "b2d34095-d9ab-49f3-a495-f939ffcc7aee",
   "metadata": {},
   "outputs": [],
   "source": [
    "# plt.figure(figsize=(15, 5))\n",
    "# plot_silhouette(integrated_data, labels, integrated_names, modality_names, colors=colors)\n",
    "# plt.tight_layout()\n",
    "# plt.savefig('./output_figures/' + dataset_name + '-Sil.png')"
   ]
  },
  {
   "cell_type": "code",
   "execution_count": null,
   "id": "bbfb99cb-f26c-49d6-bb02-c1204feb2fab",
   "metadata": {
    "tags": []
   },
   "outputs": [],
   "source": [
    "import warnings\n",
    "plt.figure(figsize=(10, 5))\n",
    "with warnings.catch_warnings():\n",
    "    warnings.simplefilter('ignore')\n",
    "    plot_auroc_correlation(imputed_data, [data1[test_idx], data2[test_idx]], modality_names, index=0, names=imputed_names)\n",
    "plt.tight_layout()\n",
    "plt.savefig('./output_figures/' + dataset_name + '-Imp1.png')"
   ]
  },
  {
   "cell_type": "code",
   "execution_count": null,
   "id": "4d6ac481-4f78-4eb4-9d4e-c36f0a880784",
   "metadata": {
    "tags": []
   },
   "outputs": [],
   "source": [
    "import warnings\n",
    "plt.figure(figsize=(10, 5))\n",
    "with warnings.catch_warnings():\n",
    "    warnings.simplefilter('ignore')\n",
    "    plot_auroc_correlation(imputed_data, [data1[test_idx], data2[test_idx]], modality_names, index=1, names=imputed_names)\n",
    "plt.tight_layout()\n",
    "plt.savefig('./output_figures/' + dataset_name + '-Imp2.png')"
   ]
  },
  {
   "cell_type": "code",
   "execution_count": null,
   "id": "b268b1c1-b269-48bc-82b6-5d60ac5f325b",
   "metadata": {},
   "outputs": [],
   "source": [
    "plt.figure(figsize=(10, 5))\n",
    "plot_distribution([dataset[0][test_idx], cm_imputed[0]], 2*[labels[0][test_idx]], supert=modality_names[0], fnames=2*[features[0]])\n",
    "plt.tight_layout()\n",
    "plt.savefig('./output_figures/' + dataset_name + '-Dist1.png')"
   ]
  },
  {
   "cell_type": "code",
   "execution_count": null,
   "id": "92c284e8-8749-4a2b-bf65-5ff7c50f8850",
   "metadata": {
    "tags": []
   },
   "outputs": [],
   "source": [
    "plt.figure(figsize=(10, 5))\n",
    "plot_distribution([dataset[1][test_idx], cm_imputed[1]], 2*[labels[1][test_idx]], supert=modality_names[1], fnames=2*[features[1]])\n",
    "plt.tight_layout()\n",
    "plt.savefig('./output_figures/' + dataset_name + '-Dist2.png')"
   ]
  },
  {
   "cell_type": "code",
   "execution_count": null,
   "id": "8d5ba772-145f-4b47-b19f-c220e24b5689",
   "metadata": {},
   "outputs": [],
   "source": [
    "plt.figure(figsize=(5, 5))\n",
    "plot_distribution_similarity([dataset[0][test_idx], cm_imputed[0]], 2*[labels[0][test_idx]], title=modality_names[0])\n",
    "plt.tight_layout()\n",
    "plt.savefig('./output_figures/' + dataset_name + '-Sim1.png')"
   ]
  },
  {
   "cell_type": "code",
   "execution_count": null,
   "id": "2ea64096-46c6-4872-82a9-fae3f7e880a4",
   "metadata": {
    "tags": []
   },
   "outputs": [],
   "source": [
    "plt.figure(figsize=(5, 5))\n",
    "plot_distribution_similarity([dataset[1][test_idx], cm_imputed[1]], 2*[labels[1][test_idx]], title=modality_names[1], legend=False)\n",
    "plt.tight_layout()\n",
    "plt.savefig('./output_figures/' + dataset_name + '-Sim2.png')"
   ]
  },
  {
   "cell_type": "markdown",
   "id": "00611a21-6c19-4651-8b0a-8c783322d96c",
   "metadata": {
    "tags": []
   },
   "source": [
    "# Explanation"
   ]
  },
  {
   "cell_type": "code",
   "execution_count": null,
   "id": "d675244f-9331-47e6-8fe5-7f2064676abd",
   "metadata": {},
   "outputs": [],
   "source": [
    "sns.set(style=style)"
   ]
  },
  {
   "cell_type": "code",
   "execution_count": null,
   "id": "b1e270da-eeb9-4ae5-992d-7629362d4035",
   "metadata": {},
   "outputs": [],
   "source": [
    "# Integration\n",
    "kwargs = {\n",
    "    'output_dim': 1,\n",
    "    'epoch_DNN': 2000,\n",
    "    'log_DNN': 500,\n",
    "    'use_early_stop': False,\n",
    "    'batch_size': batch_size,\n",
    "    'pca_dim': pca_dim,\n",
    "    'dist_method': dist_method,\n",
    "}\n",
    "cm_thin = ComManDo(**kwargs)\n",
    "cm_thin_data = cm_thin.fit_transform(dataset=dataset)"
   ]
  },
  {
   "cell_type": "code",
   "execution_count": null,
   "id": "439e7d0b-050f-40e4-8d86-d36a1587404d",
   "metadata": {},
   "outputs": [],
   "source": [
    "plt.figure(figsize=(10, 5))\n",
    "axs = plt.gcf().subplots(2, 1)\n",
    "for i, ax in enumerate(axs):\n",
    "    for l in np.unique(np.concatenate(labels)):\n",
    "        ax.scatter(cm_thin_data[i][labels[i] == l], np.zeros_like(cm_thin_data[i][labels[i] == l]), label=l)\n",
    "    ax.set_yticks([])\n",
    "min_lim = min(axs[0].get_xlim()[0], axs[1].get_xlim()[0])\n",
    "max_lim = max(axs[0].get_xlim()[1], axs[1].get_xlim()[1])\n",
    "for ax in axs:\n",
    "    ax.set_xlim([min_lim, max_lim])\n",
    "plt.tight_layout()\n",
    "plt.savefig('./output_figures/' + dataset_name + '-Line.png');"
   ]
  },
  {
   "cell_type": "code",
   "execution_count": null,
   "id": "15411336-db09-4353-b9ca-14937487a084",
   "metadata": {},
   "outputs": [],
   "source": [
    "%%capture\n",
    "import shap\n",
    "\n",
    "def join_data(data):\n",
    "    return np.concatenate(data, axis=1)\n",
    "def sep_data(data, split):\n",
    "    return [data[:, :split], data[:, split:]]\n",
    "def detach_data(data):\n",
    "    return [x.detach() for x in data]\n",
    "def make_tens(data):\n",
    "    return [torch.Tensor(x) for x in data]\n",
    "def prep_data(data, m):\n",
    "    return [m.preprocessing[i](x) for i, x in enumerate(data)]\n",
    "\n",
    "target_feature = 0\n",
    "if pca_dim is not None and pca_dim[0] is not None:\n",
    "    split = pca_dim[0]\n",
    "else:\n",
    "    split = dataset[0].shape[1]\n",
    "# model = lambda x: join_data(detach_data( cm.model(*make_tens(prep_data(sep_data(x, split), cm.model)), corr=torch.Tensor(np.eye(len(x))))[0] ))[:, target_feature]\n",
    "# data = join_data(dataset)\n",
    "model = lambda x: join_data(detach_data( cm_thin.model(*make_tens(sep_data(x, split)), corr=torch.Tensor(np.eye(len(x))))[0] ))[:, target_feature]\n",
    "data = join_data(prep_data(dataset, cm_thin.model))\n",
    "\n",
    "# Explainer\n",
    "explainer = shap.Explainer(model, np.median(data, axis=0).reshape((1, -1)), feature_names=features[0]+features[1], output_names=['Latent Feature 0'])\n",
    "import warnings\n",
    "with warnings.catch_warnings():\n",
    "    warnings.simplefilter('ignore')\n",
    "    shap_values = explainer(data, max_evals=600)\n",
    "    \n",
    "# Kernel Explainer\n",
    "kexplainer = shap.KernelExplainer(model, shap.kmeans(data, 10), feature_names=features[0]+features[1], output_names=['Latent Feature 0'])\n",
    "import warnings\n",
    "with warnings.catch_warnings():\n",
    "    warnings.simplefilter('ignore')\n",
    "    kshap_values = kexplainer.shap_values(data, nsamples=100)"
   ]
  },
  {
   "cell_type": "code",
   "execution_count": null,
   "id": "57245b26-a0d4-4cce-8b90-163891dc3637",
   "metadata": {},
   "outputs": [],
   "source": [
    "plt.figure(figsize=(10, 5))\n",
    "ax = plt.gcf().add_subplot(1, 1, 1)\n",
    "shap.summary_plot(shap_values, data, plot_type='violin', max_display=6, plot_size=(9.2, 5), show=False)\n",
    "plt.savefig('./output_figures/' + dataset_name + '-Summary.png');"
   ]
  },
  {
   "cell_type": "code",
   "execution_count": null,
   "id": "f1bcae09-11a0-4dff-a2cf-24088ebbcc63",
   "metadata": {},
   "outputs": [],
   "source": [
    "plt.figure(figsize=(10, 5))\n",
    "ax = plt.gcf().add_subplot(1, 1, 1)\n",
    "shap.dependence_plot(np.argsort(np.abs(shap_values.values).mean(0))[::-1][0], shap_values.values, data, ax=ax, show=False)\n",
    "plt.savefig('./output_figures/' + dataset_name + '-Dep1.png');"
   ]
  },
  {
   "cell_type": "code",
   "execution_count": null,
   "id": "192bd408-7d7f-4d27-9e1f-698c033c387b",
   "metadata": {},
   "outputs": [],
   "source": [
    "plt.figure(figsize=(10, 5))\n",
    "ax = plt.gcf().add_subplot(1, 1, 1)\n",
    "shap.dependence_plot(np.argsort(np.abs(shap_values.values).mean(0))[::-1][1], shap_values.values, data, ax=ax, show=False)\n",
    "plt.savefig('./output_figures/' + dataset_name + '-Dep2.png');"
   ]
  },
  {
   "cell_type": "code",
   "execution_count": null,
   "id": "8330ec7b-39b3-450e-a623-d1d95b6a5361",
   "metadata": {},
   "outputs": [],
   "source": [
    "shap.plots.heatmap(shap_values, show=False)\n",
    "plt.gca().set_xlabel('Samples')\n",
    "plt.savefig('./output_figures/' + dataset_name + '-Heat.png');"
   ]
  },
  {
   "cell_type": "code",
   "execution_count": null,
   "id": "d49dd515-a44f-417c-bd0c-0313289b0aab",
   "metadata": {},
   "outputs": [],
   "source": [
    "shap.force_plot(kexplainer.expected_value, kshap_values[0, :], data[0, :], matplotlib=True, show=False)\n",
    "plt.savefig('./output_figures/' + dataset_name + '-Force.png', bbox_inches='tight');"
   ]
  },
  {
   "cell_type": "code",
   "execution_count": null,
   "id": "321d690e-c9cb-45a9-b58c-61f9681ed8ee",
   "metadata": {
    "tags": []
   },
   "outputs": [],
   "source": [
    "shap.initjs()\n",
    "shap.force_plot(kexplainer.expected_value, kshap_values, data)"
   ]
  }
 ],
 "metadata": {
  "kernelspec": {
   "display_name": "Python 3 (ipykernel)",
   "language": "python",
   "name": "python3"
  },
  "language_info": {
   "codemirror_mode": {
    "name": "ipython",
    "version": 3
   },
   "file_extension": ".py",
   "mimetype": "text/x-python",
   "name": "python",
   "nbconvert_exporter": "python",
   "pygments_lexer": "ipython3",
   "version": "3.9.5"
  },
  "widgets": {
   "application/vnd.jupyter.widget-state+json": {
    "state": {
     "0fba63ad021b48298325a1944bb13b50": {
      "model_module": "@jupyter-widgets/controls",
      "model_module_version": "2.0.0",
      "model_name": "FloatProgressModel",
      "state": {
       "_dom_classes": [],
       "_model_module": "@jupyter-widgets/controls",
       "_model_module_version": "2.0.0",
       "_model_name": "FloatProgressModel",
       "_view_count": null,
       "_view_module": "@jupyter-widgets/controls",
       "_view_module_version": "2.0.0",
       "_view_name": "ProgressView",
       "bar_style": "success",
       "description": "",
       "description_allow_html": false,
       "layout": "IPY_MODEL_456d52a5d9d443aa8eb61f183573dc03",
       "max": 300,
       "min": 0,
       "orientation": "horizontal",
       "style": "IPY_MODEL_667e93b1bd9e4ab3b3528ea55452b9e0",
       "tabbable": null,
       "tooltip": null,
       "value": 300
      }
     },
     "178604d53c3940169f19e91448a9b41e": {
      "model_module": "@jupyter-widgets/base",
      "model_module_version": "2.0.0",
      "model_name": "LayoutModel",
      "state": {
       "_model_module": "@jupyter-widgets/base",
       "_model_module_version": "2.0.0",
       "_model_name": "LayoutModel",
       "_view_count": null,
       "_view_module": "@jupyter-widgets/base",
       "_view_module_version": "2.0.0",
       "_view_name": "LayoutView",
       "align_content": null,
       "align_items": null,
       "align_self": null,
       "border_bottom": null,
       "border_left": null,
       "border_right": null,
       "border_top": null,
       "bottom": null,
       "display": null,
       "flex": null,
       "flex_flow": null,
       "grid_area": null,
       "grid_auto_columns": null,
       "grid_auto_flow": null,
       "grid_auto_rows": null,
       "grid_column": null,
       "grid_gap": null,
       "grid_row": null,
       "grid_template_areas": null,
       "grid_template_columns": null,
       "grid_template_rows": null,
       "height": null,
       "justify_content": null,
       "justify_items": null,
       "left": null,
       "margin": null,
       "max_height": null,
       "max_width": null,
       "min_height": null,
       "min_width": null,
       "object_fit": null,
       "object_position": null,
       "order": null,
       "overflow": null,
       "padding": null,
       "right": null,
       "top": null,
       "visibility": null,
       "width": null
      }
     },
     "380ec8eb500142459cc2ead815aecbbf": {
      "model_module": "@jupyter-widgets/controls",
      "model_module_version": "2.0.0",
      "model_name": "HTMLStyleModel",
      "state": {
       "_model_module": "@jupyter-widgets/controls",
       "_model_module_version": "2.0.0",
       "_model_name": "HTMLStyleModel",
       "_view_count": null,
       "_view_module": "@jupyter-widgets/base",
       "_view_module_version": "2.0.0",
       "_view_name": "StyleView",
       "background": null,
       "description_width": "",
       "font_size": null,
       "text_color": null
      }
     },
     "456d52a5d9d443aa8eb61f183573dc03": {
      "model_module": "@jupyter-widgets/base",
      "model_module_version": "2.0.0",
      "model_name": "LayoutModel",
      "state": {
       "_model_module": "@jupyter-widgets/base",
       "_model_module_version": "2.0.0",
       "_model_name": "LayoutModel",
       "_view_count": null,
       "_view_module": "@jupyter-widgets/base",
       "_view_module_version": "2.0.0",
       "_view_name": "LayoutView",
       "align_content": null,
       "align_items": null,
       "align_self": null,
       "border_bottom": null,
       "border_left": null,
       "border_right": null,
       "border_top": null,
       "bottom": null,
       "display": null,
       "flex": null,
       "flex_flow": null,
       "grid_area": null,
       "grid_auto_columns": null,
       "grid_auto_flow": null,
       "grid_auto_rows": null,
       "grid_column": null,
       "grid_gap": null,
       "grid_row": null,
       "grid_template_areas": null,
       "grid_template_columns": null,
       "grid_template_rows": null,
       "height": null,
       "justify_content": null,
       "justify_items": null,
       "left": null,
       "margin": null,
       "max_height": null,
       "max_width": null,
       "min_height": null,
       "min_width": null,
       "object_fit": null,
       "object_position": null,
       "order": null,
       "overflow": null,
       "padding": null,
       "right": null,
       "top": null,
       "visibility": null,
       "width": null
      }
     },
     "5af371d029f743fca390371395ab11cc": {
      "model_module": "@jupyter-widgets/base",
      "model_module_version": "2.0.0",
      "model_name": "LayoutModel",
      "state": {
       "_model_module": "@jupyter-widgets/base",
       "_model_module_version": "2.0.0",
       "_model_name": "LayoutModel",
       "_view_count": null,
       "_view_module": "@jupyter-widgets/base",
       "_view_module_version": "2.0.0",
       "_view_name": "LayoutView",
       "align_content": null,
       "align_items": null,
       "align_self": null,
       "border_bottom": null,
       "border_left": null,
       "border_right": null,
       "border_top": null,
       "bottom": null,
       "display": null,
       "flex": null,
       "flex_flow": null,
       "grid_area": null,
       "grid_auto_columns": null,
       "grid_auto_flow": null,
       "grid_auto_rows": null,
       "grid_column": null,
       "grid_gap": null,
       "grid_row": null,
       "grid_template_areas": null,
       "grid_template_columns": null,
       "grid_template_rows": null,
       "height": null,
       "justify_content": null,
       "justify_items": null,
       "left": null,
       "margin": null,
       "max_height": null,
       "max_width": null,
       "min_height": null,
       "min_width": null,
       "object_fit": null,
       "object_position": null,
       "order": null,
       "overflow": null,
       "padding": null,
       "right": null,
       "top": null,
       "visibility": null,
       "width": null
      }
     },
     "667e93b1bd9e4ab3b3528ea55452b9e0": {
      "model_module": "@jupyter-widgets/controls",
      "model_module_version": "2.0.0",
      "model_name": "ProgressStyleModel",
      "state": {
       "_model_module": "@jupyter-widgets/controls",
       "_model_module_version": "2.0.0",
       "_model_name": "ProgressStyleModel",
       "_view_count": null,
       "_view_module": "@jupyter-widgets/base",
       "_view_module_version": "2.0.0",
       "_view_name": "StyleView",
       "bar_color": null,
       "description_width": ""
      }
     },
     "886bb3ba77594457b5c0b9c63b183273": {
      "model_module": "@jupyter-widgets/controls",
      "model_module_version": "2.0.0",
      "model_name": "HTMLModel",
      "state": {
       "_dom_classes": [],
       "_model_module": "@jupyter-widgets/controls",
       "_model_module_version": "2.0.0",
       "_model_name": "HTMLModel",
       "_view_count": null,
       "_view_module": "@jupyter-widgets/controls",
       "_view_module_version": "2.0.0",
       "_view_name": "HTMLView",
       "description": "",
       "description_allow_html": false,
       "layout": "IPY_MODEL_5af371d029f743fca390371395ab11cc",
       "placeholder": "​",
       "style": "IPY_MODEL_8cac8cf3b74b454cbf0a9f42ea0c4b4d",
       "tabbable": null,
       "tooltip": null,
       "value": "100%"
      }
     },
     "8cac8cf3b74b454cbf0a9f42ea0c4b4d": {
      "model_module": "@jupyter-widgets/controls",
      "model_module_version": "2.0.0",
      "model_name": "HTMLStyleModel",
      "state": {
       "_model_module": "@jupyter-widgets/controls",
       "_model_module_version": "2.0.0",
       "_model_name": "HTMLStyleModel",
       "_view_count": null,
       "_view_module": "@jupyter-widgets/base",
       "_view_module_version": "2.0.0",
       "_view_name": "StyleView",
       "background": null,
       "description_width": "",
       "font_size": null,
       "text_color": null
      }
     },
     "a21e072787314f68bed5e94a6a6c5fe3": {
      "model_module": "@jupyter-widgets/base",
      "model_module_version": "2.0.0",
      "model_name": "LayoutModel",
      "state": {
       "_model_module": "@jupyter-widgets/base",
       "_model_module_version": "2.0.0",
       "_model_name": "LayoutModel",
       "_view_count": null,
       "_view_module": "@jupyter-widgets/base",
       "_view_module_version": "2.0.0",
       "_view_name": "LayoutView",
       "align_content": null,
       "align_items": null,
       "align_self": null,
       "border_bottom": null,
       "border_left": null,
       "border_right": null,
       "border_top": null,
       "bottom": null,
       "display": null,
       "flex": null,
       "flex_flow": null,
       "grid_area": null,
       "grid_auto_columns": null,
       "grid_auto_flow": null,
       "grid_auto_rows": null,
       "grid_column": null,
       "grid_gap": null,
       "grid_row": null,
       "grid_template_areas": null,
       "grid_template_columns": null,
       "grid_template_rows": null,
       "height": null,
       "justify_content": null,
       "justify_items": null,
       "left": null,
       "margin": null,
       "max_height": null,
       "max_width": null,
       "min_height": null,
       "min_width": null,
       "object_fit": null,
       "object_position": null,
       "order": null,
       "overflow": null,
       "padding": null,
       "right": null,
       "top": null,
       "visibility": null,
       "width": null
      }
     },
     "c7b00c38494048c5928e7d572dcf2ea8": {
      "model_module": "@jupyter-widgets/controls",
      "model_module_version": "2.0.0",
      "model_name": "HBoxModel",
      "state": {
       "_dom_classes": [],
       "_model_module": "@jupyter-widgets/controls",
       "_model_module_version": "2.0.0",
       "_model_name": "HBoxModel",
       "_view_count": null,
       "_view_module": "@jupyter-widgets/controls",
       "_view_module_version": "2.0.0",
       "_view_name": "HBoxView",
       "box_style": "",
       "children": [
        "IPY_MODEL_886bb3ba77594457b5c0b9c63b183273",
        "IPY_MODEL_0fba63ad021b48298325a1944bb13b50",
        "IPY_MODEL_ccbbe2a83c0c41da84873e182a9de78d"
       ],
       "layout": "IPY_MODEL_a21e072787314f68bed5e94a6a6c5fe3",
       "tabbable": null,
       "tooltip": null
      }
     },
     "ccbbe2a83c0c41da84873e182a9de78d": {
      "model_module": "@jupyter-widgets/controls",
      "model_module_version": "2.0.0",
      "model_name": "HTMLModel",
      "state": {
       "_dom_classes": [],
       "_model_module": "@jupyter-widgets/controls",
       "_model_module_version": "2.0.0",
       "_model_name": "HTMLModel",
       "_view_count": null,
       "_view_module": "@jupyter-widgets/controls",
       "_view_module_version": "2.0.0",
       "_view_name": "HTMLView",
       "description": "",
       "description_allow_html": false,
       "layout": "IPY_MODEL_178604d53c3940169f19e91448a9b41e",
       "placeholder": "​",
       "style": "IPY_MODEL_380ec8eb500142459cc2ead815aecbbf",
       "tabbable": null,
       "tooltip": null,
       "value": " 300/300 [00:33&lt;00:00, 10.39it/s]"
      }
     }
    },
    "version_major": 2,
    "version_minor": 0
   }
  }
 },
 "nbformat": 4,
 "nbformat_minor": 5
}
