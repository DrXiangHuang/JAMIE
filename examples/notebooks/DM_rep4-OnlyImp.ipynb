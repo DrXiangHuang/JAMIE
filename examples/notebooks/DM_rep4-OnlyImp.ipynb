{
 "cells": [
  {
   "cell_type": "code",
   "execution_count": 1,
   "id": "a54a4980-d3b7-4664-9035-4abcb92b1ab5",
   "metadata": {
    "tags": []
   },
   "outputs": [],
   "source": [
    "%load_ext autoreload\n",
    "%autoreload 2"
   ]
  },
  {
   "cell_type": "code",
   "execution_count": 2,
   "id": "342bee2d-d6d8-49aa-98ba-79a38ade4175",
   "metadata": {
    "tags": []
   },
   "outputs": [
    {
     "name": "stderr",
     "output_type": "stream",
     "text": [
      "2022-10-03 06:03:06.556892: W tensorflow/stream_executor/platform/default/dso_loader.cc:64] Could not load dynamic library 'libcudart.so.11.0'; dlerror: libcudart.so.11.0: cannot open shared object file: No such file or directory\n",
      "2022-10-03 06:03:06.556939: I tensorflow/stream_executor/cuda/cudart_stub.cc:29] Ignore above cudart dlerror if you do not have a GPU set up on your machine.\n"
     ]
    },
    {
     "name": "stdout",
     "output_type": "stream",
     "text": [
      "WARNING:tensorflow:From /home/thema/miniconda3/lib/python3.9/site-packages/tensorflow/python/compat/v2_compat.py:101: disable_resource_variables (from tensorflow.python.ops.variable_scope) is deprecated and will be removed in a future version.\n",
      "Instructions for updating:\n",
      "non-resource variables are not supported in the long term\n"
     ]
    }
   ],
   "source": [
    "import os\n",
    "\n",
    "from commando import ComManDo\n",
    "from commando.evaluation import *\n",
    "from commando.utilities import *\n",
    "import matplotlib.pyplot as plt\n",
    "from mmd_wrapper import mmd_combine\n",
    "import numpy as np\n",
    "import pandas as pd\n",
    "import seaborn as sns\n",
    "from sklearn import preprocessing"
   ]
  },
  {
   "cell_type": "code",
   "execution_count": 3,
   "id": "56b783aa-276a-4064-bcfb-767f22c9fbe7",
   "metadata": {},
   "outputs": [],
   "source": [
    "np.random.seed(42)"
   ]
  },
  {
   "cell_type": "code",
   "execution_count": 4,
   "id": "e327b245-c736-4b3a-a99c-88eb78cd4db9",
   "metadata": {},
   "outputs": [
    {
     "name": "stderr",
     "output_type": "stream",
     "text": [
      "/home/thema/miniconda3/lib/python3.9/site-packages/anndata/compat/__init__.py:180: FutureWarning: Moving element from .uns['neighbors']['distances'] to .obsp['distances'].\n",
      "\n",
      "This is where adjacency matrices should go now.\n",
      "  warn(\n",
      "/home/thema/miniconda3/lib/python3.9/site-packages/anndata/compat/__init__.py:180: FutureWarning: Moving element from .uns['neighbors']['connectivities'] to .obsp['connectivities'].\n",
      "\n",
      "This is where adjacency matrices should go now.\n",
      "  warn(\n"
     ]
    }
   ],
   "source": [
    "import scanpy as sc\n",
    "\n",
    "babel_dir = '../babel_data/DM_rep4/'\n",
    "train = sc.read_h5ad(babel_dir + 'train_rna.h5ad')\n",
    "v = train.var_names\n",
    "train = train.X.toarray()\n",
    "valid = sc.read_h5ad(babel_dir + 'truth_rna.h5ad').X.toarray()\n",
    "data1 = np.concatenate([train, valid], axis=0)\n",
    "fnames1 = np.array(v)\n",
    "\n",
    "train = sc.read_h5ad(babel_dir + 'train_atac.h5ad')\n",
    "v = train.var_names\n",
    "train = train.X.toarray()\n",
    "valid = sc.read_h5ad(babel_dir + 'truth_atac.h5ad').X.toarray()\n",
    "data2 = np.concatenate([train, valid], axis=0)\n",
    "fnames2 = np.array(v)\n",
    "\n",
    "split = train.shape[0]"
   ]
  },
  {
   "cell_type": "code",
   "execution_count": 5,
   "id": "b6206e91-f09d-4d3b-81b1-461ea9c57df2",
   "metadata": {
    "tags": []
   },
   "outputs": [],
   "source": [
    "dataset_name = 'DM_rep4'\n",
    "dataset_color = 'black'\n",
    "modality_names = ['RNA', 'ATAC']\n",
    "\n",
    "# data1 = PCA(n_components=32).fit_transform(data1)\n",
    "# data2 = PCA(n_components=32).fit_transform(data2)\n",
    "# fnames1 = fnames2 = None\n",
    "\n",
    "type1 = np.array(len(data1) * ['Cell Type 0'])\n",
    "type2 = np.array(len(data2) * ['Cell Type 0'])\n",
    "\n",
    "# Sampling\n",
    "# sample_num = 500\n",
    "# data_col_idx = np.random.choice(range(split), sample_num, replace=False)\n",
    "# data1, data2, type1, type2 = (x[list(data_col_idx) + list(range(split, len(data1)))] for x in (data1, data2, type1, type2))\n",
    "# split = sample_num\n",
    "\n",
    "# Labels\n",
    "labels = [type1, type2]\n",
    "features = [np.array(fnames1), np.array(fnames2)]\n",
    "feature_dict = {}\n",
    "\n",
    "# Utility\n",
    "positivize = lambda X: [x + x.min() for x in X]\n",
    "minmax = lambda X: [(x + x.min()) for x in X]"
   ]
  },
  {
   "cell_type": "code",
   "execution_count": 5,
   "id": "8b33132a-ebcd-48d6-bbd8-cda9d23ccb1f",
   "metadata": {
    "execution": {
     "iopub.execute_input": "2022-10-01T09:28:37.073903Z",
     "iopub.status.busy": "2022-10-01T09:28:37.073650Z",
     "iopub.status.idle": "2022-10-01T09:28:37.100752Z",
     "shell.execute_reply": "2022-10-01T09:28:37.100491Z"
    }
   },
   "outputs": [],
   "source": [
    "# Preprocessing\n",
    "data1 = preprocessing.scale(data1, axis=0)\n",
    "data2 = preprocessing.scale(data2, axis=0)\n",
    "data1[np.isnan(data1)] = 0  # Replace NaN with average\n",
    "data2[np.isnan(data2)] = 0\n",
    "# data1 = preprocessing.MinMaxScaler().fit_transform(data1)\n",
    "# data2 = preprocessing.MinMaxScaler().fit_transform(data2)\n",
    "dataset = [data1, data2]\n",
    "\n",
    "# Replace NULL feature names\n",
    "for i in range(len(features)):\n",
    "    if features[i] is None:\n",
    "        features[i] = np.array([f'Feature {i}' for i in range(dataset[i].shape[1])])\n",
    "        \n",
    "# Train-Test Imputation\n",
    "train_size = int(.8 * len(data1))\n",
    "train_idx = np.random.choice(range(len(data1)), train_size, replace=False)\n",
    "test_idx = np.array(list(set(range(len(data1))) - set(train_idx)))\n",
    "\n",
    "# Reduced Priors\n",
    "full_priors = np.eye(len(dataset[0]))\n",
    "random_idx = np.random.choice(range(len(dataset[0])), int(.5 * len(dataset[0])), replace=False)\n",
    "priors = np.zeros(len(dataset[0]))\n",
    "priors[random_idx] = 1\n",
    "half_priors = np.diag(priors)\n",
    "none_priors = np.zeros((len(dataset[0]), len(dataset[0])))"
   ]
  },
  {
   "cell_type": "code",
   "execution_count": null,
   "id": "f0a7c3bf-2963-4800-b804-b610133527c1",
   "metadata": {},
   "outputs": [],
   "source": [
    "reduced_dim = 32"
   ]
  },
  {
   "cell_type": "markdown",
   "id": "5025270b-1844-4edc-888a-3e1af9ad9c0e",
   "metadata": {},
   "source": [
    "# ComManDo"
   ]
  },
  {
   "cell_type": "code",
   "execution_count": null,
   "id": "cbf9a330-7b8a-4a00-88f7-181437979d2a",
   "metadata": {
    "scrolled": true,
    "tags": []
   },
   "outputs": [],
   "source": [
    "# Imputation\n",
    "kwargs = {\n",
    "    'output_dim': reduced_dim,\n",
    "    'epoch_DNN': 10000,\n",
    "    'min_epochs': 2500,\n",
    "    'log_DNN': 500,\n",
    "    'use_early_stop': True,\n",
    "    'batch_size': 512,\n",
    "    'pca_dim': 2*[512],\n",
    "    'dist_method': 'euclidean',\n",
    "    'loss_weights': [1,1,1,1],\n",
    "}\n",
    "size_str, hash_str = hash_kwargs(kwargs, dataset_name, dataset)\n",
    "prefix = 'saved_models/cm_im---'\n",
    "model_str = prefix + hash_str + '.h5'\n",
    "match_str = prefix + size_str + '.npy'\n",
    "\n",
    "# Instantiate\n",
    "mr = list(np.load(match_str, allow_pickle=True)) if os.path.exists(match_str) else None\n",
    "cm_im = ComManDo(**kwargs, match_result=mr, debug=True)\n",
    "\n",
    "# Train\n",
    "if os.path.exists(model_str):\n",
    "    cm_im.load_model(model_str)\n",
    "    print(f'Loaded model \\'{model_str}\\'')\n",
    "else:\n",
    "    cm_im.fit_transform(dataset=[d[train_idx] for d in dataset])\n",
    "    cm_im.save_model(model_str)\n",
    "    np.save(match_str, cm_im.match_result, allow_pickle=True)\n",
    "cm_imputed = [cm_im.modal_predict(dataset[i], i) for i in range(1, -1, -1)]"
   ]
  },
  {
   "cell_type": "markdown",
   "id": "c8f5bb0a-d779-4d08-bb01-c2894d5b40ba",
   "metadata": {
    "tags": []
   },
   "source": [
    "# Comparison Methods"
   ]
  },
  {
   "cell_type": "code",
   "execution_count": null,
   "id": "d503695a-a26b-4f41-939a-023710a80450",
   "metadata": {
    "tags": []
   },
   "outputs": [],
   "source": [
    "# Imputation\n",
    "if True:\n",
    "    imputation_name = 'Babel'\n",
    "    bdata1 = sc.read_h5ad(babel_dir + 'atac_rna_test_preds.h5ad').X.toarray()\n",
    "    bdata2 = sc.read_h5ad(babel_dir + 'rna_atac_test_preds.h5ad').X.toarray()\n",
    "    nn_imputed = [bdata1, bdata2]\n",
    "else:\n",
    "    imputation_name = 'KNN'\n",
    "    nn_imputed = [predict_knn(torch.tensor(dataset[i][train_idx]).float(), torch.tensor(dataset[(i+1)%2][train_idx]).float(), torch.tensor(dataset[i]).float()) for i in range(1, -1, -1)]\n",
    "imputed_data_full = [cm_imputed, nn_imputed][::-1]\n",
    "imputed_data = [[d[test_idx] for d in ds] for ds in imputed_data_full]\n",
    "imputed_names = ['JAMIE', imputation_name][::-1]"
   ]
  },
  {
   "cell_type": "markdown",
   "id": "9de47e50-b35e-4f64-87af-5c0d50e89c66",
   "metadata": {
    "tags": []
   },
   "source": [
    "# Visualization"
   ]
  },
  {
   "cell_type": "code",
   "execution_count": null,
   "id": "fe27cddd-5ab6-4bf7-bbe8-4c894c9e44de",
   "metadata": {},
   "outputs": [],
   "source": [
    "style='white'\n",
    "sns.set(style=style)\n",
    "plt.rcParams.update({'font.weight': 'normal',\n",
    "                     'font.size': 18,\n",
    "                     'axes.titlesize': 'large',\n",
    "                     'axes.labelsize': 'large',\n",
    "                     'xtick.labelsize': 'small',\n",
    "                     'ytick.labelsize': 'small'})"
   ]
  },
  {
   "cell_type": "code",
   "execution_count": null,
   "id": "64cad8c5-c6d2-4b6d-99cb-d4bd17e4ae75",
   "metadata": {
    "tags": []
   },
   "outputs": [],
   "source": [
    "plt.figure(figsize=(10, 5))\n",
    "plot_auroc_correlation(imputed_data, [data1[test_idx], data2[test_idx]], modality_names, index=0, names=imputed_names)\n",
    "plt.tight_layout()\n",
    "plt.savefig('./output_figures/' + dataset_name + '-Imp1.png', dpi=300)"
   ]
  },
  {
   "cell_type": "code",
   "execution_count": null,
   "id": "edd58786-9ce3-4697-bd91-d60118376df9",
   "metadata": {
    "tags": []
   },
   "outputs": [],
   "source": [
    "plt.figure(figsize=(10, 5))\n",
    "plot_auroc_correlation(imputed_data, [data1[test_idx], data2[test_idx]], modality_names, index=1, names=imputed_names)\n",
    "plt.tight_layout()\n",
    "plt.savefig('./output_figures/' + dataset_name + '-Imp2.png', dpi=300)"
   ]
  },
  {
   "cell_type": "code",
   "execution_count": null,
   "id": "cc7f0537-0a48-4ddc-84b7-742df334e4fe",
   "metadata": {},
   "outputs": [],
   "source": [
    "plt.figure(figsize=(10, 5))\n",
    "plot_distribution_alone([dataset[0][test_idx], cm_imputed[0]], 2*[labels[0][test_idx]], title=modality_names[0], fnames=2*[features[0]], feature_dict=feature_dict)\n",
    "sns.despine()\n",
    "plt.savefig('./output_figures/' + dataset_name + '-Dist1.png', dpi=300)"
   ]
  },
  {
   "cell_type": "code",
   "execution_count": null,
   "id": "bec3332f-cddc-49d3-b0cb-34ae6a42a455",
   "metadata": {
    "tags": []
   },
   "outputs": [],
   "source": [
    "plt.figure(figsize=(10, 5))\n",
    "plot_distribution_alone([dataset[1][test_idx], cm_imputed[1]], 2*[labels[1][test_idx]], title=modality_names[1], fnames=2*[features[1]], feature_dict=feature_dict)\n",
    "sns.despine()\n",
    "plt.savefig('./output_figures/' + dataset_name + '-Dist2.png', dpi=300)"
   ]
  },
  {
   "cell_type": "markdown",
   "id": "31a851de-9dab-4980-8e53-749a789255f9",
   "metadata": {
    "tags": []
   },
   "source": [
    "# Explanation"
   ]
  },
  {
   "cell_type": "code",
   "execution_count": null,
   "id": "3dc640b2-c961-4e84-830c-c0808127ad8b",
   "metadata": {},
   "outputs": [],
   "source": [
    "mod0, mod1 = 1, 0\n",
    "current_cm = cm"
   ]
  },
  {
   "cell_type": "code",
   "execution_count": null,
   "id": "2fea0c8d-e78d-43ab-bdb9-6be467377af7",
   "metadata": {
    "scrolled": true,
    "tags": []
   },
   "outputs": [],
   "source": [
    "from scipy import stats\n",
    "\n",
    "# Omit one testing\n",
    "in_data = dataset[mod0].copy()\n",
    "target = interest[0]  # Imputation\n",
    "target_name = features[mod1][target]  # Imputation\n",
    "# target_name = 'LTA'  # LTA\n",
    "out_data = dataset[mod1][:, target]  # Imputation\n",
    "\n",
    "background = in_data.mean(0)\n",
    "logits = current_cm.modal_predict(in_data, mod0)[:, target]  # Imputation\n",
    "# logits = current_cm.test_LabelTA(2*[current_cm.transform_one(in_data, mod0)], labels)  # LTA\n",
    "baseline = stats.pearsonr(logits, out_data)  # Imputation\n",
    "baseline = logits  # LTA\n",
    "\n",
    "performance = []\n",
    "best_idx = -1\n",
    "best_perf = -np.inf\n",
    "best_str = ''\n",
    "check_best = 10\n",
    "# testing_idx = np.random.choice(dataset[mod0].shape[1], int(1e3), replace=False)\n",
    "testing_idx = np.array(range(in_data.shape[1]))\n",
    "for i, idx in enumerate(testing_idx):\n",
    "    # CLI\n",
    "    if (i+1) % check_best == 0 and len(performance) > 0:\n",
    "        best_idx = np.argmax(-np.array(performance))  # Replace one\n",
    "        # best_idx = np.argmax(performance)  # Keep one\n",
    "        best_perf = performance[best_idx]\n",
    "        best_str = features[mod0][testing_idx[best_idx]]\n",
    "    prog_str = math.floor(50*(i+1)/len(testing_idx)) * '|'\n",
    "    print(\n",
    "        f'{i+1:>{len(str(len(testing_idx)))}}/{len(testing_idx)} [{prog_str:<50}] - '\n",
    "        f'Current Best: {best_perf:.5f}, {best_str}'\n",
    "        , end='\\r')\n",
    "    \n",
    "    mod_data = in_data\n",
    "    # Replace one\n",
    "    replace_idx = idx  # Replace one\n",
    "    # replace_idx = [i!=idx for i in range(mod_data.shape[1])]  # Keep one\n",
    "    old_data = mod_data[:, replace_idx]\n",
    "    mod_data[:, replace_idx] = background[replace_idx]\n",
    "    \n",
    "    # Predict\n",
    "    # logits = current_cm.modal_predict(mod_data, mod0)[:, target]  # Imputation\n",
    "    logits = current_cm.test_LabelTA(2*[current_cm.transform_one(mod_data, mod0)], labels)  # LTA\n",
    "    \n",
    "    # Repair\n",
    "    mod_data[:, replace_idx] = old_data\n",
    "    \n",
    "    # Record\n",
    "    # perf = stats.pearsonr(logits, out_data)[0]  # Imputation\n",
    "    # # perf = -np.sum((logits - out_data)**2)  # Imputation\n",
    "    perf = logits  # LTA\n",
    "    if np.isnan(perf):\n",
    "        perf = -np.inf\n",
    "    performance.append(perf)\n",
    "print('\\nDone!')\n",
    "performance = np.array(performance)"
   ]
  },
  {
   "cell_type": "code",
   "execution_count": null,
   "id": "2ac86c3b-f77a-4dc3-b53b-1cf48cbaf8ba",
   "metadata": {},
   "outputs": [],
   "source": [
    "argsort_perf = np.argsort(performance)  # Replace one\n",
    "# argsort_perf = np.argsort(performance)[::-1]  # Keep one\n",
    "\n",
    "sorted_idx = testing_idx[argsort_perf]\n",
    "sorted_names = features[mod0][sorted_idx]\n",
    "sorted_perf = performance[argsort_perf]\n",
    "\n",
    "display = 20\n",
    "print(f'Target {modality_names[mod1]} Feature: {target_name}')\n",
    "print(f'https://www.genecards.org/cgi-bin/carddisp.pl?gene={target_name}')\n",
    "importance = features[mod0][sorted_idx][:display]\n",
    "imp_str = ', '.join(importance)\n",
    "print(f'Important {modality_names[mod0]} Features: {imp_str}')\n",
    "for n, p in zip(importance, sorted_perf[:display]):\n",
    "    print(f'{p:.5f}: https://www.genecards.org/cgi-bin/carddisp.pl?gene={n}')"
   ]
  },
  {
   "cell_type": "code",
   "execution_count": null,
   "id": "72ebec13-4b0f-493f-99bc-e0f0b7ceaea8",
   "metadata": {},
   "outputs": [],
   "source": [
    "file_contents = np.concatenate([sorted_idx.reshape((-1, 1)), sorted_names.reshape((-1, 1)), sorted_perf.reshape((-1, 1))], axis=1)\n",
    "file_contents_str = '\\n'.join([' '.join([str(s) for s in r]) for r in file_contents]) + '\\n'\n",
    "with open(f'output_data/JAMIE---{size_str}---sorted_genes', 'w') as f:\n",
    "    f.write(file_contents_str)\n",
    "\n",
    "plt.figure(figsize=(15, 5))\n",
    "plot_impact(performance, features[mod0], baseline, max_features=30, color=dataset_color)\n",
    "sns.despine()\n",
    "plt.tight_layout()\n",
    "plt.savefig('./output_figures/' + dataset_name + '-Analysis.png', dpi=300)"
   ]
  },
  {
   "cell_type": "markdown",
   "id": "ff0ecd11-70c0-47cc-ac5b-17549af2b70f",
   "metadata": {
    "tags": []
   },
   "source": [
    "# SHAP"
   ]
  },
  {
   "cell_type": "code",
   "execution_count": null,
   "id": "20ea8e96-733b-4388-b3fe-b52c6a3ec5fe",
   "metadata": {},
   "outputs": [],
   "source": [
    "# RNA (Place) -> ATAC\n",
    "# ENSG00000251562 (4) -> HYLS1\n",
    "# ENSG00000251562 (4) -> HYLS1\n",
    "\n",
    "# ATAC (Place) -> RNA\n",
    "# ANKRD16 -> ENSG00000138119\n",
    "# PWWP2B"
   ]
  },
  {
   "cell_type": "code",
   "execution_count": null,
   "id": "d0a68528-0388-4c6d-891c-ceeb7fa3c1a2",
   "metadata": {
    "scrolled": true,
    "tags": []
   },
   "outputs": [],
   "source": [
    "# import shap\n",
    "\n",
    "# # Subset for runtime\n",
    "# use_subsetting = True\n",
    "# subset_idx = np.random.choice(dataset[mod0].shape[1], 100, replace=False)\n",
    "# background = np.mean(dataset[mod0], axis=0).reshape((1, -1))\n",
    "# def take_subset(x, do=use_subsetting):\n",
    "#     if not do:\n",
    "#         return x\n",
    "#     if len(x.shape) == 1:\n",
    "#         return x[subset_idx]\n",
    "#     return x[:, subset_idx]\n",
    "# def reverse_subset(x, do=use_subsetting):\n",
    "#     if not do:\n",
    "#         return x\n",
    "#     new_vec = np.concatenate(x.shape[0] * [background], axis=0)\n",
    "#     new_vec[:, subset_idx] = x\n",
    "#     return new_vec\n",
    "\n",
    "# target_feature = interest[0]\n",
    "# model = lambda x: current_cm.modal_predict(reverse_subset(x), mod0)[:, target_feature]\n",
    "# data = dataset[mod0]\n",
    "# back = background\n",
    "# feature_names = features[mod0]\n",
    "# output_names = features[mod1][target_feature]\n",
    "\n",
    "# # Apply subsetting\n",
    "# data = take_subset(data)\n",
    "# back = take_subset(back)\n",
    "# feature_names = list(take_subset(np.array(feature_names)))\n",
    "\n",
    "# # Explainer\n",
    "# explainer = shap.Explainer(model, back, feature_names=feature_names, output_names=output_names)\n",
    "# shap_values = explainer(data, max_evals=2*data.shape[1]+1)"
   ]
  },
  {
   "cell_type": "code",
   "execution_count": null,
   "id": "bfbe711d-ebe9-4c30-bb8c-324cea73961b",
   "metadata": {
    "tags": []
   },
   "outputs": [],
   "source": [
    "# display = 20\n",
    "# print(f'Target {modality_names[mod1]} Feature: {output_names}')\n",
    "# for n in [output_names]:\n",
    "#     print(f'https://www.genecards.org/cgi-bin/carddisp.pl?gene={n}')\n",
    "# importance = np.array(shap_values.feature_names)[np.argsort(shap_values.abs.mean(0).values)][::-1][:display]\n",
    "# # importance = np.array(shap_values.feature_names)[np.argsort(shap_values.mean(axis=0).abs.values)[::-1][:display]]\n",
    "# # importance = np.array(shap_values.feature_names)[np.argsort(shap_values.abs.max(axis=0).abs.values)[::-1][:display]]\n",
    "# imp_str = ', '.join(importance)\n",
    "# print(f'Important {modality_names[mod0]} Features: {imp_str}')\n",
    "# for n in importance:\n",
    "#     print(f'https://www.genecards.org/cgi-bin/carddisp.pl?gene={n}')"
   ]
  },
  {
   "cell_type": "code",
   "execution_count": null,
   "id": "470cfb33-10a5-477f-98ad-5c2a2d3b0fbb",
   "metadata": {},
   "outputs": [],
   "source": [
    "# plt.figure(figsize=(10, 5))\n",
    "# ax = plt.gcf().add_subplot(1, 1, 1)\n",
    "# shap.summary_plot(shap_values, data, plot_type='violin', max_display=display, plot_size=(9.2, 5), show=False)\n",
    "# plt.tight_layout()\n",
    "# plt.savefig('./output_figures/' + dataset_name + '-Summary.png');"
   ]
  },
  {
   "cell_type": "code",
   "execution_count": null,
   "id": "5c5a8168-8d49-4a2a-9311-f4bea744a236",
   "metadata": {},
   "outputs": [],
   "source": [
    "# plt.figure(figsize=(10, 5))\n",
    "# shap.plots.heatmap(shap_values, max_display=7, show=False)  # 7 because problem with visualization and tight layout\n",
    "# plt.gca().set_xlabel('Samples')\n",
    "# plt.tight_layout()\n",
    "# plt.savefig('./output_figures/' + dataset_name + '-Heat.png');"
   ]
  },
  {
   "cell_type": "code",
   "execution_count": null,
   "id": "d9be7a7d-0d78-4c09-856d-142944b0e2b3",
   "metadata": {},
   "outputs": [],
   "source": [
    "# plt.figure(figsize=(10, 5))\n",
    "# ax = plt.gcf().add_subplot(1, 1, 1)\n",
    "# shap.dependence_plot(np.argsort(np.abs(shap_values.values).mean(0))[::-1][0], shap_values.values, data, ax=ax, show=False)\n",
    "# plt.tight_layout()\n",
    "# plt.savefig('./output_figures/' + dataset_name + '-Dep1.png');"
   ]
  },
  {
   "cell_type": "code",
   "execution_count": null,
   "id": "ae296809-71c5-41f2-bf5a-b47b3e4aa27f",
   "metadata": {},
   "outputs": [],
   "source": [
    "# plt.figure(figsize=(10, 5))\n",
    "# ax = plt.gcf().add_subplot(1, 1, 1)\n",
    "# shap.plots.waterfall(100*shap_values[0], show=False)\n",
    "# plt.tight_layout()\n",
    "# plt.savefig('./output_figures/' + dataset_name + '-Waterfall1.png');"
   ]
  },
  {
   "cell_type": "markdown",
   "id": "6cb6ebf1-4dd3-4441-bdf7-7d729a155097",
   "metadata": {},
   "source": [
    "## Interactive"
   ]
  },
  {
   "cell_type": "code",
   "execution_count": null,
   "id": "ff2e5026-92ca-45ac-b15a-1dd7e65a2d5e",
   "metadata": {},
   "outputs": [],
   "source": [
    "# # Kernel Explainer\n",
    "# kexplainer = shap.KernelExplainer(model, shap.kmeans(data, 10), feature_names=feature_names, output_names=output_names)\n",
    "# import warnings\n",
    "# with warnings.catch_warnings():\n",
    "#     warnings.simplefilter('ignore')\n",
    "#     kshap_values = kexplainer.shap_values(data, nsamples=100)"
   ]
  },
  {
   "cell_type": "code",
   "execution_count": null,
   "id": "1a9fc544-8802-4702-ad15-082503b1921d",
   "metadata": {},
   "outputs": [],
   "source": [
    "# shap.force_plot(kexplainer.expected_value, kshap_values[0, :], data[0, :], matplotlib=True, show=False)\n",
    "# plt.savefig('./output_figures/' + dataset_name + '-Force.png', bbox_inches='tight');"
   ]
  },
  {
   "cell_type": "code",
   "execution_count": null,
   "id": "e4741e76-b66f-4fe3-8643-7dc4006ad110",
   "metadata": {
    "tags": []
   },
   "outputs": [],
   "source": [
    "# shap.initjs()\n",
    "# shap.force_plot(kexplainer.expected_value, kshap_values, data)"
   ]
  }
 ],
 "metadata": {
  "kernelspec": {
   "display_name": "Python 3 (ipykernel)",
   "language": "python",
   "name": "python3"
  },
  "language_info": {
   "codemirror_mode": {
    "name": "ipython",
    "version": 3
   },
   "file_extension": ".py",
   "mimetype": "text/x-python",
   "name": "python",
   "nbconvert_exporter": "python",
   "pygments_lexer": "ipython3",
   "version": "3.9.5"
  },
  "widgets": {
   "application/vnd.jupyter.widget-state+json": {
    "state": {
     "0fba63ad021b48298325a1944bb13b50": {
      "model_module": "@jupyter-widgets/controls",
      "model_module_version": "2.0.0",
      "model_name": "FloatProgressModel",
      "state": {
       "_dom_classes": [],
       "_model_module": "@jupyter-widgets/controls",
       "_model_module_version": "2.0.0",
       "_model_name": "FloatProgressModel",
       "_view_count": null,
       "_view_module": "@jupyter-widgets/controls",
       "_view_module_version": "2.0.0",
       "_view_name": "ProgressView",
       "bar_style": "success",
       "description": "",
       "description_allow_html": false,
       "layout": "IPY_MODEL_456d52a5d9d443aa8eb61f183573dc03",
       "max": 300,
       "min": 0,
       "orientation": "horizontal",
       "style": "IPY_MODEL_667e93b1bd9e4ab3b3528ea55452b9e0",
       "tabbable": null,
       "tooltip": null,
       "value": 300
      }
     },
     "178604d53c3940169f19e91448a9b41e": {
      "model_module": "@jupyter-widgets/base",
      "model_module_version": "2.0.0",
      "model_name": "LayoutModel",
      "state": {
       "_model_module": "@jupyter-widgets/base",
       "_model_module_version": "2.0.0",
       "_model_name": "LayoutModel",
       "_view_count": null,
       "_view_module": "@jupyter-widgets/base",
       "_view_module_version": "2.0.0",
       "_view_name": "LayoutView",
       "align_content": null,
       "align_items": null,
       "align_self": null,
       "border_bottom": null,
       "border_left": null,
       "border_right": null,
       "border_top": null,
       "bottom": null,
       "display": null,
       "flex": null,
       "flex_flow": null,
       "grid_area": null,
       "grid_auto_columns": null,
       "grid_auto_flow": null,
       "grid_auto_rows": null,
       "grid_column": null,
       "grid_gap": null,
       "grid_row": null,
       "grid_template_areas": null,
       "grid_template_columns": null,
       "grid_template_rows": null,
       "height": null,
       "justify_content": null,
       "justify_items": null,
       "left": null,
       "margin": null,
       "max_height": null,
       "max_width": null,
       "min_height": null,
       "min_width": null,
       "object_fit": null,
       "object_position": null,
       "order": null,
       "overflow": null,
       "padding": null,
       "right": null,
       "top": null,
       "visibility": null,
       "width": null
      }
     },
     "380ec8eb500142459cc2ead815aecbbf": {
      "model_module": "@jupyter-widgets/controls",
      "model_module_version": "2.0.0",
      "model_name": "HTMLStyleModel",
      "state": {
       "_model_module": "@jupyter-widgets/controls",
       "_model_module_version": "2.0.0",
       "_model_name": "HTMLStyleModel",
       "_view_count": null,
       "_view_module": "@jupyter-widgets/base",
       "_view_module_version": "2.0.0",
       "_view_name": "StyleView",
       "background": null,
       "description_width": "",
       "font_size": null,
       "text_color": null
      }
     },
     "456d52a5d9d443aa8eb61f183573dc03": {
      "model_module": "@jupyter-widgets/base",
      "model_module_version": "2.0.0",
      "model_name": "LayoutModel",
      "state": {
       "_model_module": "@jupyter-widgets/base",
       "_model_module_version": "2.0.0",
       "_model_name": "LayoutModel",
       "_view_count": null,
       "_view_module": "@jupyter-widgets/base",
       "_view_module_version": "2.0.0",
       "_view_name": "LayoutView",
       "align_content": null,
       "align_items": null,
       "align_self": null,
       "border_bottom": null,
       "border_left": null,
       "border_right": null,
       "border_top": null,
       "bottom": null,
       "display": null,
       "flex": null,
       "flex_flow": null,
       "grid_area": null,
       "grid_auto_columns": null,
       "grid_auto_flow": null,
       "grid_auto_rows": null,
       "grid_column": null,
       "grid_gap": null,
       "grid_row": null,
       "grid_template_areas": null,
       "grid_template_columns": null,
       "grid_template_rows": null,
       "height": null,
       "justify_content": null,
       "justify_items": null,
       "left": null,
       "margin": null,
       "max_height": null,
       "max_width": null,
       "min_height": null,
       "min_width": null,
       "object_fit": null,
       "object_position": null,
       "order": null,
       "overflow": null,
       "padding": null,
       "right": null,
       "top": null,
       "visibility": null,
       "width": null
      }
     },
     "5af371d029f743fca390371395ab11cc": {
      "model_module": "@jupyter-widgets/base",
      "model_module_version": "2.0.0",
      "model_name": "LayoutModel",
      "state": {
       "_model_module": "@jupyter-widgets/base",
       "_model_module_version": "2.0.0",
       "_model_name": "LayoutModel",
       "_view_count": null,
       "_view_module": "@jupyter-widgets/base",
       "_view_module_version": "2.0.0",
       "_view_name": "LayoutView",
       "align_content": null,
       "align_items": null,
       "align_self": null,
       "border_bottom": null,
       "border_left": null,
       "border_right": null,
       "border_top": null,
       "bottom": null,
       "display": null,
       "flex": null,
       "flex_flow": null,
       "grid_area": null,
       "grid_auto_columns": null,
       "grid_auto_flow": null,
       "grid_auto_rows": null,
       "grid_column": null,
       "grid_gap": null,
       "grid_row": null,
       "grid_template_areas": null,
       "grid_template_columns": null,
       "grid_template_rows": null,
       "height": null,
       "justify_content": null,
       "justify_items": null,
       "left": null,
       "margin": null,
       "max_height": null,
       "max_width": null,
       "min_height": null,
       "min_width": null,
       "object_fit": null,
       "object_position": null,
       "order": null,
       "overflow": null,
       "padding": null,
       "right": null,
       "top": null,
       "visibility": null,
       "width": null
      }
     },
     "667e93b1bd9e4ab3b3528ea55452b9e0": {
      "model_module": "@jupyter-widgets/controls",
      "model_module_version": "2.0.0",
      "model_name": "ProgressStyleModel",
      "state": {
       "_model_module": "@jupyter-widgets/controls",
       "_model_module_version": "2.0.0",
       "_model_name": "ProgressStyleModel",
       "_view_count": null,
       "_view_module": "@jupyter-widgets/base",
       "_view_module_version": "2.0.0",
       "_view_name": "StyleView",
       "bar_color": null,
       "description_width": ""
      }
     },
     "886bb3ba77594457b5c0b9c63b183273": {
      "model_module": "@jupyter-widgets/controls",
      "model_module_version": "2.0.0",
      "model_name": "HTMLModel",
      "state": {
       "_dom_classes": [],
       "_model_module": "@jupyter-widgets/controls",
       "_model_module_version": "2.0.0",
       "_model_name": "HTMLModel",
       "_view_count": null,
       "_view_module": "@jupyter-widgets/controls",
       "_view_module_version": "2.0.0",
       "_view_name": "HTMLView",
       "description": "",
       "description_allow_html": false,
       "layout": "IPY_MODEL_5af371d029f743fca390371395ab11cc",
       "placeholder": "​",
       "style": "IPY_MODEL_8cac8cf3b74b454cbf0a9f42ea0c4b4d",
       "tabbable": null,
       "tooltip": null,
       "value": "100%"
      }
     },
     "8cac8cf3b74b454cbf0a9f42ea0c4b4d": {
      "model_module": "@jupyter-widgets/controls",
      "model_module_version": "2.0.0",
      "model_name": "HTMLStyleModel",
      "state": {
       "_model_module": "@jupyter-widgets/controls",
       "_model_module_version": "2.0.0",
       "_model_name": "HTMLStyleModel",
       "_view_count": null,
       "_view_module": "@jupyter-widgets/base",
       "_view_module_version": "2.0.0",
       "_view_name": "StyleView",
       "background": null,
       "description_width": "",
       "font_size": null,
       "text_color": null
      }
     },
     "a21e072787314f68bed5e94a6a6c5fe3": {
      "model_module": "@jupyter-widgets/base",
      "model_module_version": "2.0.0",
      "model_name": "LayoutModel",
      "state": {
       "_model_module": "@jupyter-widgets/base",
       "_model_module_version": "2.0.0",
       "_model_name": "LayoutModel",
       "_view_count": null,
       "_view_module": "@jupyter-widgets/base",
       "_view_module_version": "2.0.0",
       "_view_name": "LayoutView",
       "align_content": null,
       "align_items": null,
       "align_self": null,
       "border_bottom": null,
       "border_left": null,
       "border_right": null,
       "border_top": null,
       "bottom": null,
       "display": null,
       "flex": null,
       "flex_flow": null,
       "grid_area": null,
       "grid_auto_columns": null,
       "grid_auto_flow": null,
       "grid_auto_rows": null,
       "grid_column": null,
       "grid_gap": null,
       "grid_row": null,
       "grid_template_areas": null,
       "grid_template_columns": null,
       "grid_template_rows": null,
       "height": null,
       "justify_content": null,
       "justify_items": null,
       "left": null,
       "margin": null,
       "max_height": null,
       "max_width": null,
       "min_height": null,
       "min_width": null,
       "object_fit": null,
       "object_position": null,
       "order": null,
       "overflow": null,
       "padding": null,
       "right": null,
       "top": null,
       "visibility": null,
       "width": null
      }
     },
     "c7b00c38494048c5928e7d572dcf2ea8": {
      "model_module": "@jupyter-widgets/controls",
      "model_module_version": "2.0.0",
      "model_name": "HBoxModel",
      "state": {
       "_dom_classes": [],
       "_model_module": "@jupyter-widgets/controls",
       "_model_module_version": "2.0.0",
       "_model_name": "HBoxModel",
       "_view_count": null,
       "_view_module": "@jupyter-widgets/controls",
       "_view_module_version": "2.0.0",
       "_view_name": "HBoxView",
       "box_style": "",
       "children": [
        "IPY_MODEL_886bb3ba77594457b5c0b9c63b183273",
        "IPY_MODEL_0fba63ad021b48298325a1944bb13b50",
        "IPY_MODEL_ccbbe2a83c0c41da84873e182a9de78d"
       ],
       "layout": "IPY_MODEL_a21e072787314f68bed5e94a6a6c5fe3",
       "tabbable": null,
       "tooltip": null
      }
     },
     "ccbbe2a83c0c41da84873e182a9de78d": {
      "model_module": "@jupyter-widgets/controls",
      "model_module_version": "2.0.0",
      "model_name": "HTMLModel",
      "state": {
       "_dom_classes": [],
       "_model_module": "@jupyter-widgets/controls",
       "_model_module_version": "2.0.0",
       "_model_name": "HTMLModel",
       "_view_count": null,
       "_view_module": "@jupyter-widgets/controls",
       "_view_module_version": "2.0.0",
       "_view_name": "HTMLView",
       "description": "",
       "description_allow_html": false,
       "layout": "IPY_MODEL_178604d53c3940169f19e91448a9b41e",
       "placeholder": "​",
       "style": "IPY_MODEL_380ec8eb500142459cc2ead815aecbbf",
       "tabbable": null,
       "tooltip": null,
       "value": " 300/300 [00:33&lt;00:00, 10.39it/s]"
      }
     }
    },
    "version_major": 2,
    "version_minor": 0
   }
  }
 },
 "nbformat": 4,
 "nbformat_minor": 5
}
