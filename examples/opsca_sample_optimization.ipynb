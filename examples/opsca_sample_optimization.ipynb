{
 "cells": [
  {
   "cell_type": "code",
   "execution_count": 1,
   "id": "1a0c3db3-6486-4710-ac69-3904cc94cc9a",
   "metadata": {},
   "outputs": [
    {
     "name": "stderr",
     "output_type": "stream",
     "text": [
      "2021-10-30 17:34:51.848627: W tensorflow/stream_executor/platform/default/dso_loader.cc:64] Could not load dynamic library 'libcudart.so.11.0'; dlerror: libcudart.so.11.0: cannot open shared object file: No such file or directory\n",
      "2021-10-30 17:34:51.848668: I tensorflow/stream_executor/cuda/cudart_stub.cc:29] Ignore above cudart dlerror if you do not have a GPU set up on your machine.\n"
     ]
    },
    {
     "name": "stdout",
     "output_type": "stream",
     "text": [
      "WARNING:tensorflow:From /home/thema/miniconda3/lib/python3.9/site-packages/tensorflow/python/compat/v2_compat.py:101: disable_resource_variables (from tensorflow.python.ops.variable_scope) is deprecated and will be removed in a future version.\n",
      "Instructions for updating:\n",
      "non-resource variables are not supported in the long term\n"
     ]
    }
   ],
   "source": [
    "%load_ext autoreload\n",
    "%autoreload 2\n",
    "\n",
    "import anndata as ad\n",
    "import matplotlib.pyplot as plt\n",
    "from mmd_wrapper import mmd_combine\n",
    "from mmd_wrapper.utilities import alignment_visualize, pairwise_error\n",
    "import numpy as np\n",
    "import pandas as pd\n",
    "\n",
    "from commando import ComManDo"
   ]
  },
  {
   "cell_type": "markdown",
   "id": "16461149-2a27-4f32-bb30-32c7c92fb350",
   "metadata": {},
   "source": [
    "# Read Data"
   ]
  },
  {
   "cell_type": "code",
   "execution_count": 2,
   "id": "a0f1d2b8-6558-48be-8005-b3f4da25a2d4",
   "metadata": {},
   "outputs": [],
   "source": [
    "data_mod1 = ad.read_h5ad('OPSCA/openproblems_bmmc_multiome_starter/openproblems_bmmc_multiome_starter.mod1.h5ad')\n",
    "data_mod2 = ad.read_h5ad('OPSCA/openproblems_bmmc_multiome_starter/openproblems_bmmc_multiome_starter.mod2.h5ad')"
   ]
  },
  {
   "cell_type": "code",
   "execution_count": 3,
   "id": "85c0eefc-00cb-4fb3-9744-1143857a4af7",
   "metadata": {},
   "outputs": [],
   "source": [
    "X1 = data_mod1.X\n",
    "X2 = data_mod2.X"
   ]
  },
  {
   "cell_type": "markdown",
   "id": "fa14ebc2-292c-49d8-81b8-0192c23d855a",
   "metadata": {},
   "source": [
    "# Run Mapping"
   ]
  },
  {
   "cell_type": "code",
   "execution_count": 4,
   "id": "fc65d6f6-b93c-4bba-bd86-e116c658a30e",
   "metadata": {
    "tags": []
   },
   "outputs": [
    {
     "name": "stdout",
     "output_type": "stream",
     "text": [
      "use random seed: 666\n",
      "Shape of Raw data\n",
      "Dataset 0: (500, 600)\n",
      "Dataset 1: (500, 600)\n",
      "Device: cpu\n",
      "---------------------------------\n",
      "Find correspondence between Dataset 1 and Dataset 1\n",
      "Calculating intra-group F #1\n",
      "epoch:[1000/1000] err:0.3034 alpha:0.9542\n",
      "Calculating intra-group F #2\n",
      "epoch:[1000/1000] err:0.3374 alpha:0.9523\n",
      "Calculating intra-group F #3\n",
      "epoch:[1000/1000] err:0.3188 alpha:0.9541\n",
      "Calculating intra-group F #4\n",
      "epoch:[1000/1000] err:0.3086 alpha:0.9537\n",
      "Calculating intra-group F #5\n",
      "epoch:[1000/1000] err:0.3084 alpha:0.9528\n",
      "Calculating intra-group F #6\n",
      "epoch:[1000/1000] err:0.2942 alpha:0.9590\n",
      "Calculating intra-group F #7\n",
      "epoch:[1000/1000] err:0.3285 alpha:0.9532\n",
      "Calculating intra-group F #8\n",
      "epoch:[1000/1000] err:0.3233 alpha:0.9543\n",
      "Calculating intra-group F #9\n",
      "epoch:[1000/1000] err:0.3124 alpha:0.9549\n",
      "Calculating intra-group F #10\n",
      "epoch:[1000/1000] err:0.2999 alpha:0.9608\n",
      "Constructing large F\n",
      "Calculating inter-group F\n",
      "epoch:[1000/2000] err:0.0544 alpha:1.0768\n",
      "epoch:[2000/2000] err:0.0185 alpha:1.0290\n",
      "---------------------------------\n",
      "Find correspondence between Dataset 1 and Dataset 2\n",
      "Calculating intra-group F #1\n",
      "epoch:[1000/1000] err:1.6226 alpha:6.1139\n",
      "Calculating intra-group F #2\n",
      "epoch:[1000/1000] err:1.5501 alpha:5.2631\n",
      "Calculating intra-group F #3\n",
      "epoch:[1000/1000] err:1.5907 alpha:5.7432\n",
      "Calculating intra-group F #4\n",
      "epoch:[1000/1000] err:1.5473 alpha:5.9068\n",
      "Calculating intra-group F #5\n",
      "epoch:[1000/1000] err:1.6529 alpha:5.7821\n",
      "Calculating intra-group F #6\n",
      "epoch:[1000/1000] err:1.5892 alpha:6.1056\n",
      "Calculating intra-group F #7\n",
      "epoch:[1000/1000] err:1.6087 alpha:5.2054\n",
      "Calculating intra-group F #8\n",
      "epoch:[1000/1000] err:1.6049 alpha:5.7912\n",
      "Calculating intra-group F #9\n",
      "epoch:[1000/1000] err:1.5385 alpha:5.5741\n",
      "Calculating intra-group F #10\n",
      "epoch:[1000/1000] err:1.6053 alpha:5.8105\n",
      "Constructing large F\n",
      "Calculating inter-group F\n",
      "epoch:[1000/2000] err:3.6098 alpha:1.4982\n",
      "epoch:[2000/2000] err:4.4359 alpha:1.8368\n",
      "---------------------------------\n",
      "Find correspondence between Dataset 2 and Dataset 2\n",
      "Calculating intra-group F #1\n",
      "epoch:[1000/1000] err:1.5026 alpha:0.9570\n",
      "Calculating intra-group F #2\n",
      "epoch:[1000/1000] err:1.4340 alpha:0.9567\n",
      "Calculating intra-group F #3\n",
      "epoch:[1000/1000] err:1.4585 alpha:0.9577\n",
      "Calculating intra-group F #4\n",
      "epoch:[1000/1000] err:1.4426 alpha:0.9563\n",
      "Calculating intra-group F #5\n",
      "epoch:[1000/1000] err:1.4896 alpha:0.9568\n",
      "Calculating intra-group F #6\n",
      "epoch:[1000/1000] err:1.4983 alpha:0.9574\n",
      "Calculating intra-group F #7\n",
      "epoch:[1000/1000] err:1.4266 alpha:0.9581\n",
      "Calculating intra-group F #8\n",
      "epoch:[1000/1000] err:1.4797 alpha:0.9571\n",
      "Calculating intra-group F #9\n",
      "epoch:[1000/1000] err:1.4292 alpha:0.9577\n",
      "Calculating intra-group F #10\n",
      "epoch:[1000/1000] err:1.4605 alpha:0.9568\n",
      "Constructing large F\n",
      "Calculating inter-group F\n",
      "epoch:[1000/2000] err:3.5632 alpha:0.2058\n",
      "epoch:[2000/2000] err:4.2555 alpha:0.2465\n",
      "Finished Matching!\n",
      "---------------------------------\n",
      "Performing NLMA\n",
      "Constructing W\n",
      "Computing Laplacian\n",
      "Calculating eigenvectors\n",
      "Filtering eigenvectors\n",
      "Perfoming mapping\n",
      "---------------------------------\n",
      "ComManDo Done!\n",
      "Time: 33.600114822387695 seconds\n"
     ]
    }
   ],
   "source": [
    "commando_optimized = (\n",
    "    ComManDo(\n",
    "        distance_mode='euclidean',\n",
    "        epoch_pd=1000,\n",
    "        log_pd=1000,\n",
    "        two_step_aggregation = 'random',\n",
    "        two_step_pd_large=2000,\n",
    "        #two_step_log_pd=5,\n",
    "        two_step_num_partitions=10,\n",
    "        #two_step_omit_large=True,\n",
    "    )\n",
    "    .fit_transform([X1, X2])\n",
    ")"
   ]
  },
  {
   "cell_type": "code",
   "execution_count": 5,
   "id": "50af73cc-268b-45e9-929a-9fc6228ab85f",
   "metadata": {},
   "outputs": [
    {
     "name": "stdout",
     "output_type": "stream",
     "text": [
      "use random seed: 666\n",
      "Shape of Raw data\n",
      "Dataset 0: (500, 600)\n",
      "Dataset 1: (500, 600)\n",
      "Device: cpu\n",
      "---------------------------------\n",
      "Find correspondence between Dataset 1 and Dataset 1\n",
      "epoch:[500/1000] err:0.2147 alpha:0.6621\n",
      "epoch:[1000/1000] err:0.2451 alpha:0.7782\n",
      "---------------------------------\n",
      "Find correspondence between Dataset 1 and Dataset 2\n",
      "epoch:[500/1000] err:1.0385 alpha:4.0210\n",
      "epoch:[1000/1000] err:0.9675 alpha:4.7533\n",
      "---------------------------------\n",
      "Find correspondence between Dataset 2 and Dataset 2\n",
      "epoch:[500/1000] err:0.8726 alpha:0.6704\n",
      "epoch:[1000/1000] err:0.7438 alpha:0.7918\n",
      "Finished Matching!\n",
      "---------------------------------\n",
      "Performing NLMA\n",
      "Constructing W\n",
      "Computing Laplacian\n",
      "Calculating eigenvectors\n",
      "Filtering eigenvectors\n",
      "Perfoming mapping\n",
      "---------------------------------\n",
      "ComManDo Done!\n",
      "Time: 13.911701202392578 seconds\n"
     ]
    }
   ],
   "source": [
    "commando_normal = (\n",
    "    ComManDo(\n",
    "        distance_mode='euclidean',\n",
    "        epoch_pd=1000,\n",
    "        log_pd=500,\n",
    "    )\n",
    "    .fit_transform([X1, X2])\n",
    ")"
   ]
  },
  {
   "cell_type": "markdown",
   "id": "ca576e9d-b1d9-4725-afd2-c1ea096bb6da",
   "metadata": {},
   "source": [
    "# Evaluate"
   ]
  },
  {
   "cell_type": "code",
   "execution_count": 6,
   "id": "b54add35-7eea-43a4-82fe-961e35c69f3e",
   "metadata": {},
   "outputs": [
    {
     "name": "stdout",
     "output_type": "stream",
     "text": [
      "ComManDo Optimized Pairwise Error: 8.383391179804068\n",
      "ComManDo Normal Pairwise Error:    1.4522517641368418\n"
     ]
    },
    {
     "data": {
      "image/png": "[encoded data removed]",
      "text/plain": [
       "<Figure size 864x432 with 2 Axes>"
      ]
     },
     "metadata": {
      "needs_background": "light"
     },
     "output_type": "display_data"
    }
   ],
   "source": [
    "print('ComManDo Optimized Pairwise Error: ' + str(pairwise_error(*commando_optimized, normalize_by_feature=True)))\n",
    "print('ComManDo Normal Pairwise Error:    ' + str(pairwise_error(*commando_normal, normalize_by_feature=True)))\n",
    "\n",
    "plt.subplots(figsize=(12, 6))\n",
    "plt.subplot(1, 2, 1)\n",
    "alignment_visualize(*commando_optimized, alg_name='ComManDo Optimized')\n",
    "\n",
    "plt.subplot(1, 2, 2)\n",
    "# plt.axis([-.1, .1, -.1, .1])\n",
    "alignment_visualize(*commando_normal, alg_name='ComManDo Normal')"
   ]
  },
  {
   "cell_type": "code",
   "execution_count": null,
   "id": "eb67764b-cee5-4380-a31d-d58fae5433ef",
   "metadata": {},
   "outputs": [],
   "source": []
  }
 ],
 "metadata": {
  "kernelspec": {
   "display_name": "Python 3 (ipykernel)",
   "language": "python",
   "name": "python3"
  },
  "language_info": {
   "codemirror_mode": {
    "name": "ipython",
    "version": 3
   },
   "file_extension": ".py",
   "mimetype": "text/x-python",
   "name": "python",
   "nbconvert_exporter": "python",
   "pygments_lexer": "ipython3",
   "version": "3.9.5"
  }
 },
 "nbformat": 4,
 "nbformat_minor": 5
}
