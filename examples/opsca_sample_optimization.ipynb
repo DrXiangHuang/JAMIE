{
 "cells": [
  {
   "cell_type": "code",
   "execution_count": 1,
   "id": "1a0c3db3-6486-4710-ac69-3904cc94cc9a",
   "metadata": {},
   "outputs": [
    {
     "name": "stderr",
     "output_type": "stream",
     "text": [
      "2021-11-13 20:27:39.196955: W tensorflow/stream_executor/platform/default/dso_loader.cc:64] Could not load dynamic library 'libcudart.so.11.0'; dlerror: libcudart.so.11.0: cannot open shared object file: No such file or directory\n",
      "2021-11-13 20:27:39.196993: I tensorflow/stream_executor/cuda/cudart_stub.cc:29] Ignore above cudart dlerror if you do not have a GPU set up on your machine.\n"
     ]
    },
    {
     "name": "stdout",
     "output_type": "stream",
     "text": [
      "WARNING:tensorflow:From /home/thema/miniconda3/lib/python3.9/site-packages/tensorflow/python/compat/v2_compat.py:101: disable_resource_variables (from tensorflow.python.ops.variable_scope) is deprecated and will be removed in a future version.\n",
      "Instructions for updating:\n",
      "non-resource variables are not supported in the long term\n"
     ]
    }
   ],
   "source": [
    "%load_ext autoreload\n",
    "%autoreload 2\n",
    "\n",
    "import anndata as ad\n",
    "import matplotlib.pyplot as plt\n",
    "from mmd_wrapper import mmd_combine\n",
    "from mmd_wrapper.utilities import alignment_visualize, pairwise_error\n",
    "import numpy as np\n",
    "import pandas as pd\n",
    "\n",
    "from commando import ComManDo"
   ]
  },
  {
   "cell_type": "markdown",
   "id": "16461149-2a27-4f32-bb30-32c7c92fb350",
   "metadata": {},
   "source": [
    "# Read Data"
   ]
  },
  {
   "cell_type": "code",
   "execution_count": 2,
   "id": "a0f1d2b8-6558-48be-8005-b3f4da25a2d4",
   "metadata": {},
   "outputs": [],
   "source": [
    "data_mod1 = ad.read_h5ad('OPSCA/openproblems_bmmc_multiome_starter/openproblems_bmmc_multiome_starter.mod1.h5ad')\n",
    "data_mod2 = ad.read_h5ad('OPSCA/openproblems_bmmc_multiome_starter/openproblems_bmmc_multiome_starter.mod2.h5ad')"
   ]
  },
  {
   "cell_type": "code",
   "execution_count": 3,
   "id": "85c0eefc-00cb-4fb3-9744-1143857a4af7",
   "metadata": {},
   "outputs": [],
   "source": [
    "X1 = data_mod1.X\n",
    "X2 = data_mod2.X"
   ]
  },
  {
   "cell_type": "markdown",
   "id": "fa14ebc2-292c-49d8-81b8-0192c23d855a",
   "metadata": {},
   "source": [
    "# Run Mapping"
   ]
  },
  {
   "cell_type": "code",
   "execution_count": 4,
   "id": "fc65d6f6-b93c-4bba-bd86-e116c658a30e",
   "metadata": {
    "scrolled": true,
    "tags": []
   },
   "outputs": [
    {
     "name": "stdout",
     "output_type": "stream",
     "text": [
      "use random seed: 666\n",
      "Two-Step group sizes\n",
      "Min: 50\n",
      "Max: 50\n",
      "Shape of Raw data\n",
      "Dataset 0: (500, 600)\n",
      "Dataset 1: (500, 600)\n",
      "Device: cpu\n",
      "---------------------------------\n",
      "Find correspondence between Dataset 1 and Dataset 1\n",
      "Calculating intra-group F #5\n",
      "epoch:[1000/1000] err:0.0588 alpha:0.9561\n",
      "Calculating intra-group F #10\n",
      "epoch:[1000/1000] err:0.0579 alpha:0.9589\n",
      "Calculating inter-group F\n",
      "epoch:[1000/2000] err:0.0127 alpha:0.8885\n",
      "epoch:[2000/2000] err:0.0127 alpha:0.8884\n",
      "---------------------------------\n",
      "Find correspondence between Dataset 1 and Dataset 2\n",
      "Calculating intra-group F #5\n",
      "epoch:[1000/1000] err:0.0792 alpha:1.2868\n",
      "Calculating intra-group F #10\n",
      "epoch:[1000/1000] err:0.0767 alpha:1.2704\n",
      "Calculating inter-group F\n",
      "epoch:[1000/2000] err:0.0160 alpha:1.1258\n",
      "epoch:[2000/2000] err:0.0160 alpha:1.1258\n",
      "---------------------------------\n",
      "Find correspondence between Dataset 2 and Dataset 2\n",
      "Calculating intra-group F #5\n",
      "epoch:[1000/1000] err:0.0672 alpha:0.9658\n",
      "Calculating intra-group F #10\n",
      "epoch:[1000/1000] err:0.0685 alpha:0.9653\n",
      "Calculating inter-group F\n",
      "epoch:[1000/2000] err:0.0157 alpha:0.8926\n",
      "epoch:[2000/2000] err:0.0157 alpha:0.8926\n",
      "Finished Matching!\n",
      "---------------------------------\n",
      "Performing NLMA\n",
      "Applying Coefficients\n",
      "Computing Laplacian\n",
      "Constructing L\n",
      "Calculating eigenvectors\n",
      "Filtering eigenvectors\n",
      "Perfoming mapping\n",
      "---------------------------------\n",
      "ComManDo Done!\n",
      "Time: 7.7512500286102295 seconds\n"
     ]
    }
   ],
   "source": [
    "commando_optimized = (\n",
    "    ComManDo(\n",
    "        distance_mode='spearman',\n",
    "        epoch_pd=1000,\n",
    "        log_pd=1000,\n",
    "        two_step_aggregation = 'random',\n",
    "        two_step_pd_large=2000,\n",
    "        two_step_log_pd=5,\n",
    "        two_step_num_partitions=10,\n",
    "    )\n",
    "    .fit_transform([X1, X2])\n",
    ")"
   ]
  },
  {
   "cell_type": "code",
   "execution_count": 5,
   "id": "756f83a1-c47c-4c02-bbee-f1664a5c1ac7",
   "metadata": {
    "scrolled": true,
    "tags": []
   },
   "outputs": [
    {
     "name": "stdout",
     "output_type": "stream",
     "text": [
      "use random seed: 666\n",
      "\n",
      "Beginning redundant step 1\n",
      "Two-Step group sizes\n",
      "Min: 50\n",
      "Max: 50\n",
      "Shape of Raw data\n",
      "Dataset 0: (500, 600)\n",
      "Dataset 1: (500, 600)\n",
      "Device: cpu\n",
      "---------------------------------\n",
      "Find correspondence between Dataset 1 and Dataset 1\n",
      "Calculating intra-group F #5\n",
      "epoch:[1000/1000] err:0.0588 alpha:0.9561\n",
      "Calculating intra-group F #10\n",
      "epoch:[1000/1000] err:0.0579 alpha:0.9589\n",
      "Calculating inter-group F\n",
      "epoch:[1000/2000] err:0.0127 alpha:0.8885\n",
      "epoch:[2000/2000] err:0.0127 alpha:0.8884\n",
      "---------------------------------\n",
      "Find correspondence between Dataset 1 and Dataset 2\n",
      "Calculating intra-group F #5\n",
      "epoch:[1000/1000] err:0.0792 alpha:1.2868\n",
      "Calculating intra-group F #10\n",
      "epoch:[1000/1000] err:0.0767 alpha:1.2704\n",
      "Calculating inter-group F\n",
      "epoch:[1000/2000] err:0.0160 alpha:1.1258\n",
      "epoch:[2000/2000] err:0.0160 alpha:1.1258\n",
      "---------------------------------\n",
      "Find correspondence between Dataset 2 and Dataset 2\n",
      "Calculating intra-group F #5\n",
      "epoch:[1000/1000] err:0.0672 alpha:0.9658\n",
      "Calculating intra-group F #10\n",
      "epoch:[1000/1000] err:0.0685 alpha:0.9653\n",
      "Calculating inter-group F\n",
      "epoch:[1000/2000] err:0.0157 alpha:0.8926\n",
      "epoch:[2000/2000] err:0.0157 alpha:0.8926\n",
      "Finished Matching!\n",
      "\n",
      "Beginning redundant step 2\n",
      "Two-Step group sizes\n",
      "Min: 50\n",
      "Max: 50\n",
      "Shape of Raw data\n",
      "Dataset 0: (500, 600)\n",
      "Dataset 1: (500, 600)\n",
      "Device: cpu\n",
      "---------------------------------\n",
      "Find correspondence between Dataset 1 and Dataset 1\n",
      "Calculating intra-group F #5\n",
      "epoch:[1000/1000] err:0.0588 alpha:0.9561\n",
      "Calculating intra-group F #10\n",
      "epoch:[1000/1000] err:0.0579 alpha:0.9589\n",
      "Calculating inter-group F\n",
      "epoch:[1000/2000] err:0.0127 alpha:0.8885\n",
      "epoch:[2000/2000] err:0.0127 alpha:0.8884\n",
      "---------------------------------\n",
      "Find correspondence between Dataset 1 and Dataset 2\n",
      "Calculating intra-group F #5\n",
      "epoch:[1000/1000] err:0.0792 alpha:1.2868\n",
      "Calculating intra-group F #10\n",
      "epoch:[1000/1000] err:0.0767 alpha:1.2704\n",
      "Calculating inter-group F\n",
      "epoch:[1000/2000] err:0.0160 alpha:1.1258\n",
      "epoch:[2000/2000] err:0.0160 alpha:1.1258\n",
      "---------------------------------\n",
      "Find correspondence between Dataset 2 and Dataset 2\n",
      "Calculating intra-group F #5\n",
      "epoch:[1000/1000] err:0.0672 alpha:0.9658\n",
      "Calculating intra-group F #10\n",
      "epoch:[1000/1000] err:0.0685 alpha:0.9653\n",
      "Calculating inter-group F\n",
      "epoch:[1000/2000] err:0.0157 alpha:0.8926\n",
      "epoch:[2000/2000] err:0.0157 alpha:0.8926\n",
      "Finished Matching!\n",
      "---------------------------------\n",
      "Performing NLMA\n",
      "Constructing Dense W\n",
      "Applying Coefficients\n",
      "Computing Laplacian\n",
      "Calculating eigenvectors\n",
      "Filtering eigenvectors\n",
      "Perfoming mapping\n",
      "---------------------------------\n",
      "ComManDo Done!\n",
      "Time: 14.393980979919434 seconds\n"
     ]
    }
   ],
   "source": [
    "commando_redundant = (\n",
    "    ComManDo(\n",
    "        distance_mode='spearman',\n",
    "        epoch_pd=1000,\n",
    "        log_pd=1000,\n",
    "        two_step_aggregation = 'random',\n",
    "        two_step_pd_large=2000,\n",
    "        two_step_log_pd=5,\n",
    "        two_step_num_partitions=10,\n",
    "        two_step_redundancy=2,\n",
    "    )\n",
    "    .fit_transform([X1, X2])\n",
    ")"
   ]
  },
  {
   "cell_type": "code",
   "execution_count": 6,
   "id": "50af73cc-268b-45e9-929a-9fc6228ab85f",
   "metadata": {
    "scrolled": true,
    "tags": []
   },
   "outputs": [
    {
     "name": "stdout",
     "output_type": "stream",
     "text": [
      "use random seed: 666\n",
      "Shape of Raw data\n",
      "Dataset 0: (500, 600)\n",
      "Dataset 1: (500, 600)\n",
      "Device: cpu\n",
      "---------------------------------\n",
      "Find correspondence between Dataset 1 and Dataset 1\n",
      "epoch:[1000/2000] err:0.2451 alpha:0.7782\n",
      "epoch:[2000/2000] err:0.2526 alpha:0.9008\n",
      "---------------------------------\n",
      "Find correspondence between Dataset 1 and Dataset 2\n",
      "epoch:[1000/2000] err:0.9675 alpha:4.7533\n",
      "epoch:[2000/2000] err:0.9727 alpha:5.5065\n",
      "---------------------------------\n",
      "Find correspondence between Dataset 2 and Dataset 2\n",
      "epoch:[1000/2000] err:0.7438 alpha:0.7918\n",
      "epoch:[2000/2000] err:0.6264 alpha:0.9178\n",
      "Finished Matching!\n",
      "---------------------------------\n",
      "Performing NLMA\n",
      "Constructing Dense W\n",
      "Applying Coefficients\n",
      "Computing Laplacian\n",
      "Calculating eigenvectors\n",
      "Filtering eigenvectors\n",
      "Perfoming mapping\n",
      "---------------------------------\n",
      "ComManDo Done!\n",
      "Time: 28.054136514663696 seconds\n"
     ]
    }
   ],
   "source": [
    "commando_normal = (\n",
    "    ComManDo(\n",
    "        distance_mode='euclidean',\n",
    "        epoch_pd=2000,\n",
    "        log_pd=1000,\n",
    "    )\n",
    "    .fit_transform([X1, X2])\n",
    ")"
   ]
  },
  {
   "cell_type": "markdown",
   "id": "ca576e9d-b1d9-4725-afd2-c1ea096bb6da",
   "metadata": {},
   "source": [
    "# Evaluate"
   ]
  },
  {
   "cell_type": "code",
   "execution_count": 7,
   "id": "b54add35-7eea-43a4-82fe-961e35c69f3e",
   "metadata": {},
   "outputs": [
    {
     "name": "stdout",
     "output_type": "stream",
     "text": [
      "ComManDo Optimized Pairwise Error: 10.370554655790329\n",
      "ComManDo Redundant Pairwise Error: 8.86971249092312\n",
      "ComManDo Normal Pairwise Error:    6.3064546523673926\n"
     ]
    },
    {
     "data": {
      "image/png": "[encoded data removed]",
      "text/plain": [
       "<Figure size 1296x432 with 3 Axes>"
      ]
     },
     "metadata": {
      "needs_background": "light"
     },
     "output_type": "display_data"
    }
   ],
   "source": [
    "print('ComManDo Optimized Pairwise Error: ' + str(pairwise_error(*commando_optimized, normalize_by_feature=True)))\n",
    "print('ComManDo Redundant Pairwise Error: ' + str(pairwise_error(*commando_redundant, normalize_by_feature=True)))\n",
    "print('ComManDo Normal Pairwise Error:    ' + str(pairwise_error(*commando_normal, normalize_by_feature=True)))\n",
    "\n",
    "plt.subplots(figsize=(18, 6))\n",
    "plt.subplot(1, 3, 1)\n",
    "alignment_visualize(*commando_optimized, alg_name='ComManDo Optimized')\n",
    "\n",
    "plt.subplot(1, 3, 2)\n",
    "alignment_visualize(*commando_redundant, alg_name='ComManDo Redundant')\n",
    "\n",
    "plt.subplot(1, 3, 3)\n",
    "alignment_visualize(*commando_normal, alg_name='ComManDo Normal')"
   ]
  }
 ],
 "metadata": {
  "kernelspec": {
   "display_name": "Python 3 (ipykernel)",
   "language": "python",
   "name": "python3"
  },
  "language_info": {
   "codemirror_mode": {
    "name": "ipython",
    "version": 3
   },
   "file_extension": ".py",
   "mimetype": "text/x-python",
   "name": "python",
   "nbconvert_exporter": "python",
   "pygments_lexer": "ipython3",
   "version": "3.9.5"
  }
 },
 "nbformat": 4,
 "nbformat_minor": 5
}
