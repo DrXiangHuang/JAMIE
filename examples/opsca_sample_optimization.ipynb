{
 "cells": [
  {
   "cell_type": "code",
   "execution_count": null,
   "id": "1a0c3db3-6486-4710-ac69-3904cc94cc9a",
   "metadata": {},
   "outputs": [],
   "source": [
    "%load_ext autoreload\n",
    "%autoreload 2\n",
    "\n",
    "import anndata as ad\n",
    "import matplotlib.pyplot as plt\n",
    "from mmd_wrapper import mmd_combine\n",
    "from mmd_wrapper.utilities import alignment_visualize, pairwise_error\n",
    "import numpy as np\n",
    "import pandas as pd\n",
    "\n",
    "from commando import ComManDo"
   ]
  },
  {
   "cell_type": "markdown",
   "id": "16461149-2a27-4f32-bb30-32c7c92fb350",
   "metadata": {},
   "source": [
    "# Read Data"
   ]
  },
  {
   "cell_type": "code",
   "execution_count": null,
   "id": "a0f1d2b8-6558-48be-8005-b3f4da25a2d4",
   "metadata": {},
   "outputs": [],
   "source": [
    "data_mod1 = ad.read_h5ad('OPSCA/openproblems_bmmc_multiome_starter/openproblems_bmmc_multiome_starter.mod1.h5ad')\n",
    "data_mod2 = ad.read_h5ad('OPSCA/openproblems_bmmc_multiome_starter/openproblems_bmmc_multiome_starter.mod2.h5ad')"
   ]
  },
  {
   "cell_type": "markdown",
   "id": "fa14ebc2-292c-49d8-81b8-0192c23d855a",
   "metadata": {},
   "source": [
    "# Run Mapping"
   ]
  },
  {
   "cell_type": "code",
   "execution_count": null,
   "id": "756f83a1-c47c-4c02-bbee-f1664a5c1ac7",
   "metadata": {
    "tags": []
   },
   "outputs": [],
   "source": [
    "commando_optimized = (\n",
    "    ComManDo(\n",
    "        distance_mode='spearman',\n",
    "        two_step_aggregation='cell_cycle',\n",
    "        \n",
    "        two_step_num_partitions=5,\n",
    "        epoch_pd=1000,\n",
    "        two_step_pd_large=1000,\n",
    "        \n",
    "        log_pd=500,\n",
    "        two_step_log_pd=2,\n",
    "    )\n",
    "    .fit_transform([data_mod1, data_mod2])\n",
    ")"
   ]
  },
  {
   "cell_type": "code",
   "execution_count": null,
   "id": "50af73cc-268b-45e9-929a-9fc6228ab85f",
   "metadata": {
    "tags": []
   },
   "outputs": [],
   "source": [
    "commando_normal = (\n",
    "    ComManDo(\n",
    "        distance_mode='euclidean',\n",
    "        epoch_pd=2000,\n",
    "        log_pd=1000,\n",
    "    )\n",
    "    .fit_transform([X1, X2])\n",
    ")"
   ]
  },
  {
   "cell_type": "markdown",
   "id": "ca576e9d-b1d9-4725-afd2-c1ea096bb6da",
   "metadata": {},
   "source": [
    "# Evaluate"
   ]
  },
  {
   "cell_type": "code",
   "execution_count": null,
   "id": "b54add35-7eea-43a4-82fe-961e35c69f3e",
   "metadata": {},
   "outputs": [],
   "source": [
    "print('ComManDo Optimized Pairwise Error: ' + str(pairwise_error(*commando_optimized, normalize_by_feature=True)))\n",
    "print('ComManDo Normal Pairwise Error:    ' + str(pairwise_error(*commando_normal, normalize_by_feature=True)))\n",
    "\n",
    "plt.subplots(figsize=(18, 6))\n",
    "plt.subplot(1, 2, 1)\n",
    "alignment_visualize(*commando_optimized, alg_name='ComManDo Optimized')\n",
    "\n",
    "plt.subplot(1, 2, 2)\n",
    "alignment_visualize(*commando_normal, alg_name='ComManDo Normal')"
   ]
  }
 ],
 "metadata": {
  "kernelspec": {
   "display_name": "Python 3 (ipykernel)",
   "language": "python",
   "name": "python3"
  },
  "language_info": {
   "codemirror_mode": {
    "name": "ipython",
    "version": 3
   },
   "file_extension": ".py",
   "mimetype": "text/x-python",
   "name": "python",
   "nbconvert_exporter": "python",
   "pygments_lexer": "ipython3",
   "version": "3.9.5"
  }
 },
 "nbformat": 4,
 "nbformat_minor": 5
}
